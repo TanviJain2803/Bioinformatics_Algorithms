{
 "cells": [
  {
   "cell_type": "markdown",
   "metadata": {},
   "source": [
    "## Chapter 2: Motif Count /Profile"
   ]
  },
  {
   "cell_type": "code",
   "execution_count": 12,
   "metadata": {},
   "outputs": [],
   "source": [
    "import random"
   ]
  },
  {
   "cell_type": "code",
   "execution_count": 1,
   "metadata": {},
   "outputs": [],
   "source": [
    "def approx_pattern_matching(pattern: str, text: str, d: int) -> list[int]: #1.8.2\n",
    "    ind = []\n",
    "    for i in range(0,len(text)-len(pattern)+1):\n",
    "        kmer = text[i:i+len(pattern)]\n",
    "        #if text==\"GAAAATT\":\n",
    "            #print(kmer)\n",
    "        if hamming_distance(kmer,pattern)<=d:\n",
    "            ind.append(i)\n",
    "    return ind\n",
    "def hamming_distance(p: str, q: str) -> int: #1.8.1\n",
    "    if len(p)!=len(q):\n",
    "        return -1\n",
    "    ham_count = 0\n",
    "    for i in range(0,len(p)):\n",
    "        if p[i]!=q[i]:\n",
    "            ham_count+=1\n",
    "    \n",
    "    return ham_count\n",
    "def neighbors(pattern: str,d: int) -> list[str]:\n",
    "    if d==0:\n",
    "        return [pattern]\n",
    "    if len(pattern)==1:\n",
    "        return [\"A\",\"C\",\"G\",\"T\"]\n",
    "    Neighborhood = []\n",
    "    suffixNeighborhood = neighbors(pattern[1:],d)\n",
    "    for text in suffixNeighborhood:\n",
    "        if hamming_distance(pattern[1:],text)<d:\n",
    "            for nucleotide in [\"A\",\"T\",\"G\",\"C\"]:\n",
    "                Neighborhood.append(nucleotide+text)\n",
    "        else:\n",
    "            Neighborhood.append(pattern[0]+text)\n",
    "    return Neighborhood"
   ]
  },
  {
   "cell_type": "markdown",
   "metadata": {},
   "source": [
    "### Motif Enumeration \n",
    "Finding motif with mismatches \\\n",
    "Motif = pattern that appears in all dna array at least once with at most d mismatches\\\n",
    "\n",
    "Dna = [dna1,dna2,dna3...,dna_n]\\\n"
   ]
  },
  {
   "cell_type": "markdown",
   "metadata": {},
   "source": [
    "MotifEnumeration(Dna, k, d)\n",
    "    Patterns ← an empty set\n",
    "    for each k-mer Pattern in the first string in Dna\n",
    "        for each k-mer Pattern’ differing from Pattern by at most d mismatches\n",
    "            if Pattern' appears in each string from Dna with at most d mismatches\n",
    "                add Pattern' to Patterns\n",
    "    remove duplicates from Patterns\n",
    "    return Patterns"
   ]
  },
  {
   "cell_type": "code",
   "execution_count": 2,
   "metadata": {},
   "outputs": [],
   "source": [
    "def motif_enumeration(dna: list[str], k: int, d: int) -> list[str]:\n",
    "    patterns = []\n",
    "    for i in range(0,len(dna[0])-k+1):\n",
    "        Pattern = dna[0][i:i+k]\n",
    "        neighborhood = neighbors(Pattern,d)\n",
    "        for neighbor in neighborhood:\n",
    "            for array in dna:\n",
    "                in_all= [len(approx_pattern_matching(neighbor, array, d))>0 for array in dna]\n",
    "                #print(neighbor,in_all)\n",
    "                if all(in_all) and neighbor not in patterns:\n",
    "                    patterns.append(neighbor)\n",
    "    return patterns\n"
   ]
  },
  {
   "cell_type": "markdown",
   "metadata": {},
   "source": [
    "### Motif Finding Problem: Profile Matrices and Consensus Strings\n",
    "Position is conserved if all nucleotides at pos in dna arrays are the same\\\n",
    "Score(motifs) = sum(#unpopular nucleotides at pos_i) for i=0:len(motif)\\\n",
    "\\\n",
    "Min possible score = 0 (if all are conserved) -> we want to minimise score to find the consensus motif\\\n",
    "max possible score = motif_len * ceil(#dna_array*(3/4)) \\\n",
    "a nucleotide needs around 3/4th presence to be conserved\n",
    "\n",
    "\n",
    "\n"
   ]
  },
  {
   "cell_type": "markdown",
   "metadata": {},
   "source": [
    "Count(motifs) = count of each nuc at each pos over all motifs\\\n",
    "\\\n",
    "Profile(motifs) = ratio of each nuc at each pos (count/#array)\\\n",
    "\\\n",
    "Consensus(motifs) = choosing nuc at each pos with highest profile score, (choosing most conserved nuc at each pos)"
   ]
  },
  {
   "cell_type": "markdown",
   "metadata": {},
   "source": [
    "Brute Force Algo -> compute score of every kmer combinations that will minimise score(motifs)\\\n",
    "\n",
    "Calculate hamming distance of between kmer and consensus(motif):\\\n",
    "Score(motifs) = hamming_dist(Consensus(Motifs),Motifs)"
   ]
  },
  {
   "cell_type": "markdown",
   "metadata": {},
   "source": [
    "#### Median String problem\n",
    "Median string is a kmer pattern minimising d(kmer,Dna) over all possible kmers\n"
   ]
  },
  {
   "cell_type": "markdown",
   "metadata": {},
   "source": [
    "MedianString(Dna, k)\n",
    "    distance ← ∞\n",
    "    for each k-mer Pattern from AA…AA to TT…TT\n",
    "        if distance > d(Pattern, Dna)\n",
    "            distance ← d(Pattern, Dna)\n",
    "            Median ← Pattern\n",
    "    return Median"
   ]
  },
  {
   "cell_type": "code",
   "execution_count": 5,
   "metadata": {},
   "outputs": [],
   "source": [
    "def distance_between_pattern_and_strings(pattern: str, dna: list[str]) -> int: #finding min hamming distance in every array, and then adding all min_ham_dist for all dna strings (this gives us min score)\n",
    "    k = len(pattern)\n",
    "    distance = 0\n",
    "    for array in dna:\n",
    "        hamming_d = float('inf')\n",
    "        for i in range(0,len(array)-k+1):\n",
    "            kmer = array[i:i+k]\n",
    "            curr_ham = hamming_distance(kmer,pattern)\n",
    "            if hamming_d > curr_ham:\n",
    "                hamming_d = curr_ham\n",
    "        distance = distance + hamming_d\n",
    "    return distance\n",
    "def median_string(dna: list[str],k: int) -> str: #knowing min scores for all possible patterns we can find kmer that gives min score\n",
    "    distance = float('inf')\n",
    "    patterns = all_k_strings(k) #finding all strings of len=k\n",
    "    for pattern in patterns:\n",
    "        curr_d  = distance_between_pattern_and_strings(pattern, dna)\n",
    "        if distance > curr_d:\n",
    "            distance = curr_d\n",
    "            median=pattern\n",
    "    return median\n",
    "def all_k_strings(k: int) -> list[str]:\n",
    "    start = \"\".join(['A' for _ in range(k)])\n",
    "    return neighbors(start,k)\n"
   ]
  },
  {
   "cell_type": "markdown",
   "metadata": {},
   "source": [
    "### Profile Most Probable kmer\n",
    "\n"
   ]
  },
  {
   "cell_type": "code",
   "execution_count": null,
   "metadata": {},
   "outputs": [],
   "source": [
    "def profile_most_probable_kmer(text: str, k: int,\n",
    "                               profile: list[dict[str, float]]) -> str:\n",
    "    \"\"\"Identifies the most probable k-mer according to a given profile matrix.\n",
    "\n",
    "    The profile matrix is represented as a list of columns, where the i-th element is a map\n",
    "    whose keys are strings (\"A\", \"C\", \"G\", and \"T\") and whose values represent the probability\n",
    "    associated with this symbol in the i-th column of the profile matrix.\n",
    "    \"\"\"\n",
    "    max_prob = 0\n",
    "    max_motif = ''\n",
    "    for i in range(0,len(text)-k+1): #all kmers in text\n",
    "        kmer = text[i:i+k]\n",
    "        prob = 1\n",
    "        for ind in range(0,k): #each nuc in kmer\n",
    "            nuc = kmer[ind]\n",
    "            prob = prob * profile[ind][nuc] #prob for nuc in profile\n",
    "        if max_prob < prob: #finding kmer with max prob\n",
    "            max_prob = prob\n",
    "            max_motif = kmer\n",
    "    return max_motif #return kmer with max prob"
   ]
  },
  {
   "cell_type": "code",
   "execution_count": 6,
   "metadata": {},
   "outputs": [],
   "source": [
    "def profile_least_probable_kmer(text:str,k:int,profile:list[dict[str,float]])->str:\n",
    "    least_prob = -1\n",
    "    least_motif = ''\n",
    "    for i in range(0,len(text)-k+1): #all kmers in text\n",
    "        kmer = text[i:i+k]\n",
    "        prob = 1\n",
    "        for ind in range(0,k): #each nuc in kmer\n",
    "            nuc = kmer[ind]\n",
    "            prob = prob * profile[ind][nuc] #prob for nuc in profile\n",
    "        if least_prob > prob: #finding kmer with max prob\n",
    "            least_prob = prob\n",
    "            least_motif = kmer\n",
    "    return least_motif #return kmer with max prob"
   ]
  },
  {
   "cell_type": "markdown",
   "metadata": {},
   "source": [
    "### Randomised Motif Search\n",
    "To improve brute force motif search\n"
   ]
  },
  {
   "cell_type": "markdown",
   "metadata": {},
   "source": [
    "RandomizedMotifSearch(Dna, k, t)\n",
    "    randomly select k-mers Motifs = (Motif1, …, Motift) in each string from Dna\n",
    "    BestMotifs ← Motifs\n",
    "    while forever\n",
    "        Profile ← Profile(Motifs)\n",
    "        Motifs ← Motifs(Profile, Dna)\n",
    "        if Score(Motifs) < Score(BestMotifs)\n",
    "            BestMotifs ← Motifs\n",
    "        else\n",
    "            return BestMotifs"
   ]
  },
  {
   "cell_type": "code",
   "execution_count": 14,
   "metadata": {},
   "outputs": [],
   "source": [
    "def randomized_motif_search(dna: list[str], k: int, t: int)-> list[str]:\n",
    "    best_motifs = randomized_motif_search_single(dna,k,t)\n",
    "    curr_score = score(best_motifs)\n",
    "    for i in range(0,999):\n",
    "        print(i)\n",
    "        motifs = randomized_motif_search_single(dna,k,t)\n",
    "        if score(motifs) < curr_score:\n",
    "            best_motifs = motifs\n",
    "            curr_score = score(motifs)\n",
    "    return best_motifs\n",
    "def randomized_motif_search_single(dna: list[str], k: int, t: int)-> list[str]:\n",
    "    rand_ind = []\n",
    "    for array in dna:\n",
    "        rand_ind.append(random.randint(0,len(array)-k))\n",
    "    motifs = [dna[i][rand_ind[i]:rand_ind[i]+k] for i in range(len(dna))]\n",
    "    \n",
    "    print(\"rand\", motifs)\n",
    "    best_motifs = motifs\n",
    "    curr_score = score(best_motifs)\n",
    "    while True:\n",
    "        Profile = profile(motifs)\n",
    "        print(Profile)\n",
    "        motifs = most_probable_motifs(dna,k,Profile)\n",
    "        print(\"motifs:\", motifs)\n",
    "        if score(motifs) < curr_score:\n",
    "            best_motifs = motifs\n",
    "            curr_score = score(motifs)\n",
    "        else:\n",
    "            return best_motifs\n",
    "        \n",
    "def profile(motifs: list[str])-> list[dict[str,float]]:\n",
    "    profile_matrix = []\n",
    "    total = len(motifs)+4\n",
    "    for i in range(len(motifs[0])):\n",
    "        motif_dict = {}\n",
    "        motif_dict['A'] = (sum([motif[i]=='A' for motif in motifs])+1)/total\n",
    "        motif_dict['T'] = (sum([motif[i]=='T' for motif in motifs])+1)/total\n",
    "        motif_dict['G'] = (sum([motif[i]=='G' for motif in motifs])+1)/total\n",
    "        motif_dict['C'] = (sum([motif[i]=='C' for motif in motifs])+1)/total\n",
    "        profile_matrix.append(motif_dict)\n",
    "\n",
    "    return profile_matrix\n",
    "def most_probable_motifs(dna: list[str],  k: int, profile: list[dict[str, float]])-> str:\n",
    "    motif_set = []\n",
    "    for array in dna:\n",
    "        motif_set.append(profile_most_probable_kmer(array,k,profile))\n",
    "    return motif_set\n",
    "def profile_most_probable_kmer(text: str, k: int, profile: list[dict[str, float]]) -> str:\n",
    "    max_prob = 0\n",
    "    max_motif = ''\n",
    "    for i in range(0,len(text)-k+1):\n",
    "        kmer = text[i:i+k]\n",
    "        prob = 1\n",
    "        for ind in range(0,k):\n",
    "            nuc = kmer[ind]\n",
    "            prob = prob * profile[ind][nuc]\n",
    "        if max_prob < prob:\n",
    "            max_prob = prob\n",
    "            max_motif = kmer\n",
    "    print('max_motif',max_motif)\n",
    "    return max_motif\n",
    "            \n",
    "def consensus(motifs):\n",
    "    \"\"\"Find the consensus string of the given motifs.\"\"\"\n",
    "    consensus = \"\"\n",
    "    for i in range(len(motifs[0])):\n",
    "        column = [motif[i] for motif in motifs]\n",
    "        consensus += max(set(column), key=column.count)\n",
    "    return consensus\n",
    "#max possible score is (3/4*t*k)\n",
    "def score(motifs):\n",
    "    \"\"\"Calculate the score of the given motifs against the consensus string.\"\"\"\n",
    "    cons = consensus(motifs)\n",
    "    score = 0\n",
    "    for motif in motifs:\n",
    "        for i in range(len(motif)):\n",
    "            if motif[i] != cons[i]:\n",
    "                score += 1\n",
    "    return score"
   ]
  },
  {
   "cell_type": "markdown",
   "metadata": {},
   "source": [
    "### Gibbs Motif Search\n"
   ]
  },
  {
   "cell_type": "code",
   "execution_count": 16,
   "metadata": {},
   "outputs": [],
   "source": [
    "def gibbs_sampler(dna: list[str], k: int, t: int, n: int) -> list[str]:\n",
    "    \"\"\"Implements the GibbsSampling algorithm for motif finding.\"\"\"\n",
    "    best_motifs = gibbs_sampler_single(dna,k,t,n)\n",
    "    curr_score = score(best_motifs)\n",
    "    for i in range(0,999):\n",
    "        motifs = gibbs_sampler_single(dna,k,t,n)\n",
    "        if score(motifs) < curr_score:\n",
    "            best_motifs = motifs\n",
    "            curr_score = score(motifs)\n",
    "    return best_motifs\n",
    "def gibbs_sampler_single(dna: list[str], k: int, t: int, n: int) -> list[str]:\n",
    "    rand_ind = []\n",
    "    for array in dna:\n",
    "        rand_ind.append(random.randint(0,len(array)-k))\n",
    "    motifs = [dna[i][rand_ind[i]:rand_ind[i]+k] for i in range(len(dna))]\n",
    "    best_motifs = motifs\n",
    "    for j in range(1,n+1):\n",
    "        i = random.randint(0,t-1) #choose random dna array to remove\n",
    "        Profile = profile(motifs[:i]+motifs[i+1:]) #build profile out of remaining t-1\n",
    "        motif_i = profile_rand_kmer(dna[i],k,Profile) #\n",
    "        motifs = best_motifs[:i]+[motif_i]+best_motifs[i+1:]\n",
    "        if score(motifs) < score(best_motifs):\n",
    "            best_motifs = motifs\n",
    "    return best_motifs\n",
    "def profile_rand_kmer(text: str, k:int,profile: list[dict[str, float]])-> str: #select a k-mer from a given text based on a profile matrix\n",
    "    kmer_pr = []\n",
    "    for i in range(0,len(text)-k+1):\n",
    "        kmer = text[i:i+k]\n",
    "        pr = 1\n",
    "        for ind in range(0,len(kmer)):\n",
    "            pr = pr* profile[ind][kmer[ind]]\n",
    "        kmer_pr.append(pr)\n",
    "    final_pr = [kmer_pr[j]/sum(kmer_pr) for j in range(0,len(kmer_pr))]\n",
    "    chosen_ind = random.choices(range(len(text)-k+1), weights=final_pr, k=1)[0]\n",
    "    return text[chosen_ind:chosen_ind+k]\n",
    "def consensus(motifs):\n",
    "    \"\"\"Find the consensus string of the given motifs.\"\"\"\n",
    "    consensus = \"\"\n",
    "    for i in range(len(motifs[0])):\n",
    "        column = [motif[i] for motif in motifs]\n",
    "        consensus += max(set(column), key=column.count)\n",
    "    return consensus\n",
    "\n",
    "def score(motifs):\n",
    "    \"\"\"Calculate the score of the given motifs against the consensus string.\"\"\"\n",
    "    cons = consensus(motifs)\n",
    "    score = 0\n",
    "    for motif in motifs:\n",
    "        for i in range(len(motif)):\n",
    "            if motif[i] != cons[i]:\n",
    "                score += 1\n",
    "    return score\n",
    "def profile(motifs: list[str])-> list[dict[str,float]]:\n",
    "    profile_matrix = []\n",
    "    total = len(motifs)+4\n",
    "    for i in range(len(motifs[0])):\n",
    "        motif_dict = {}\n",
    "        motif_dict['A'] = (sum([motif[i]=='A' for motif in motifs])+1)/total\n",
    "        motif_dict['T'] = (sum([motif[i]=='T' for motif in motifs])+1)/total\n",
    "        motif_dict['G'] = (sum([motif[i]=='G' for motif in motifs])+1)/total\n",
    "        motif_dict['C'] = (sum([motif[i]=='C' for motif in motifs])+1)/total\n",
    "        profile_matrix.append(motif_dict)\n",
    "\n",
    "    return profile_matrix"
   ]
  },
  {
   "cell_type": "code",
   "execution_count": 17,
   "metadata": {},
   "outputs": [
    {
     "data": {
      "text/plain": [
       "['TCTCGGGG', 'CCAAGGTG', 'TACAGGCG', 'TTCAGGTG', 'TCCACGTG']"
      ]
     },
     "execution_count": 17,
     "metadata": {},
     "output_type": "execute_result"
    }
   ],
   "source": [
    "dna = ['CGCCCCTCTCGGGGGTGTTCAGTAAACGGCCA','GGGCGAGGTATGTGTAAGTGCCAAGGTGCCAG','TAGTACCGAGACCGAAAGAAGTATACAGGCGT','TAGATCAAGTTTCAGGTGCACGTCGGTGAACC','AATCCACCAGCTCCACGTGCAATGTTGGCCTA']\n",
    "\n",
    "gibbs_sampler(dna,8,5,100)"
   ]
  }
 ],
 "metadata": {
  "kernelspec": {
   "display_name": "testpy3",
   "language": "python",
   "name": "python3"
  },
  "language_info": {
   "codemirror_mode": {
    "name": "ipython",
    "version": 3
   },
   "file_extension": ".py",
   "mimetype": "text/x-python",
   "name": "python",
   "nbconvert_exporter": "python",
   "pygments_lexer": "ipython3",
   "version": "3.9.10"
  }
 },
 "nbformat": 4,
 "nbformat_minor": 2
}
