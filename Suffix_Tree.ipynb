{
 "cells": [
  {
   "cell_type": "markdown",
   "metadata": {},
   "source": [
    "TrieConstruction(Patterns)\n",
    "    Trie ← a graph consisting of a single node root\n",
    "    for each string Pattern in Patterns\n",
    "        currentNode ← root\n",
    "        for i ← 0 to |Pattern| - 1\n",
    "            currentSymbol ← Pattern[i]\n",
    "            if there is an outgoing edge from currentNode with label currentSymbol\n",
    "                currentNode ← ending node of this edge\n",
    "            else\n",
    "                add a new node newNode to Trie\n",
    "                add a new edge from currentNode to newNode with label currentSymbol\n",
    "                currentNode ← newNode\n",
    "    return Trie"
   ]
  },
  {
   "cell_type": "code",
   "execution_count": 1,
   "metadata": {},
   "outputs": [],
   "source": [
    "from typing import List, Dict, Iterable, Tuple, Set"
   ]
  },
  {
   "cell_type": "code",
   "execution_count": null,
   "metadata": {},
   "outputs": [],
   "source": [
    "##DEBUG TODO you need reduce memory allocation - store edges using indices and length instead"
   ]
  },
  {
   "cell_type": "code",
   "execution_count": 55,
   "metadata": {},
   "outputs": [],
   "source": [
    "def Trie_create_edge(Trie: dict,parent:int,child:int,nucleotide:str):\n",
    "    if parent in Trie:\n",
    "        Trie[parent].append([nucleotide,child])\n",
    "    else:\n",
    "        Trie[parent] = [[nucleotide,child]]\n",
    "    return Trie,child\n",
    "\n",
    "def Trie_return_next_node(Trie:dict,currentNode:int,nucleotide:str):\n",
    "    if currentNode in Trie:\n",
    "        for edge in Trie[currentNode]:\n",
    "            if edge[0]==nucleotide:\n",
    "                return edge[1]\n",
    " #returns original currentNode if edge doesn't exist\n",
    "    return -1\n",
    "\n",
    "def dict_to_edge_list(Trie:dict):\n",
    "    edge_list = []\n",
    "    for key,value in Trie.items():\n",
    "        for edge in value:\n",
    "            edge_list.append((key,edge[1],edge[0]))\n",
    "    return edge_list\n"
   ]
  },
  {
   "cell_type": "code",
   "execution_count": 71,
   "metadata": {},
   "outputs": [],
   "source": [
    "def TrieConstruction_dict(Patterns: List[str]):\n",
    "    Trie = {0:[]}\n",
    "    num_nodes = 0\n",
    "    is_leaf = {0:True}\n",
    "    for pattern in Patterns:\n",
    "        currentNode = 0\n",
    "        for i in range(0,len(pattern)):\n",
    "            currentSymbol = pattern[i]\n",
    "            nextNode = Trie_return_next_node(Trie,currentNode,currentSymbol)\n",
    "            if nextNode!=-1:\n",
    "                currentNode=nextNode\n",
    "            else:\n",
    "                is_leaf[currentNode] = False\n",
    "                Trie,currentNode = Trie_create_edge(Trie,currentNode,num_nodes+1,currentSymbol)\n",
    "                is_leaf[currentNode] = True\n",
    "                num_nodes+=1\n",
    "    return Trie,is_leaf"
   ]
  },
  {
   "cell_type": "code",
   "execution_count": 74,
   "metadata": {},
   "outputs": [],
   "source": [
    "def TrieConstruction(Patterns: List[str]) -> List[Tuple[int, int, str]]:\n",
    "    return dict_to_edge_list(TrieConstruction_dict(Patterns)[0])"
   ]
  },
  {
   "cell_type": "code",
   "execution_count": 90,
   "metadata": {},
   "outputs": [
    {
     "data": {
      "text/plain": [
       "[(0, 1, 'A'),\n",
       " (0, 7, 'G'),\n",
       " (1, 2, 'T'),\n",
       " (2, 3, 'A'),\n",
       " (2, 6, 'C'),\n",
       " (3, 4, 'G'),\n",
       " (4, 5, 'A'),\n",
       " (7, 8, 'A'),\n",
       " (8, 9, 'T')]"
      ]
     },
     "execution_count": 90,
     "metadata": {},
     "output_type": "execute_result"
    }
   ],
   "source": [
    "TrieConstruction(['ATAGA','ATC','GAT'])\n"
   ]
  },
  {
   "cell_type": "markdown",
   "metadata": {},
   "source": [
    "PrefixTrieMatching(Text, Trie)\n",
    "    symbol ← first letter of Text\n",
    "    v ← root of Trie\n",
    "    while forever\n",
    "        if v is a leaf in Trie\n",
    "            output the pattern spelled by the path from the root to v\n",
    "        else if there is an edge (v, w) in Trie labeled by symbol\n",
    "            symbol ← next letter of Text\n",
    "            v ← w\n",
    "        else\n",
    "            return \"no matches found\""
   ]
  },
  {
   "cell_type": "code",
   "execution_count": 137,
   "metadata": {},
   "outputs": [],
   "source": [
    "def Trie_leaf(Trie:List[Tuple[int, int, str]]):\n",
    "    output_leaf = [False for _ in range(max([edge[1] for edge in Trie])+1)]\n",
    "    for edge in Trie:\n",
    "        start,end,nucleotide = edge\n",
    "        output_leaf[start] = False\n",
    "        output_leaf[end] = True\n",
    "    return output_leaf\n",
    "\n",
    "def does_edge_exist(Trie:List[Tuple[int, int, str]],v:int,symbol:str)->int:\n",
    "    for edge in Trie:\n",
    "        start,end,nucleotide = edge\n",
    "        if start==v and nucleotide==symbol:\n",
    "            return end\n",
    "    return -1\n"
   ]
  },
  {
   "cell_type": "code",
   "execution_count": 162,
   "metadata": {},
   "outputs": [],
   "source": [
    "def prefix_trie_matching(text:str,Trie:List[Tuple[int, int, str]]): #draw out tree and figure bug out\n",
    "    leaves = Trie_leaf(Trie)\n",
    "    ind = 0\n",
    "    symbol = text[ind]\n",
    "    v = 0\n",
    "    match_output = ''\n",
    "    while True:\n",
    "        w = does_edge_exist(Trie,v,symbol)\n",
    "        if w!=-1:\n",
    "            match_output = match_output + symbol\n",
    "            v = w\n",
    "            if leaves[v]:\n",
    "                return match_output\n",
    "            if ind<len(text)-1:\n",
    "                ind+=1\n",
    "                symbol = text[ind] \n",
    "        else:\n",
    "            return \"no match found\"\n"
   ]
  },
  {
   "cell_type": "code",
   "execution_count": 163,
   "metadata": {},
   "outputs": [
    {
     "data": {
      "text/plain": [
       "'no match found'"
      ]
     },
     "execution_count": 163,
     "metadata": {},
     "output_type": "execute_result"
    }
   ],
   "source": [
    "prefix_trie_matching('T',[(0, 1, 'T'), (1, 2, 'A')])"
   ]
  },
  {
   "cell_type": "code",
   "execution_count": 139,
   "metadata": {},
   "outputs": [
    {
     "data": {
      "text/plain": [
       "'no match found'"
      ]
     },
     "execution_count": 139,
     "metadata": {},
     "output_type": "execute_result"
    }
   ],
   "source": [
    "Trie = [(0, 1, 'A'),\n",
    " (0, 7, 'G'),\n",
    " (1, 2, 'T'),\n",
    " (2, 3, 'A'),\n",
    " (2, 6, 'C'),\n",
    " (3, 4, 'G'),\n",
    " (4, 5, 'A'),\n",
    " (7, 8, 'A'),\n",
    " (8, 9, 'T')]\n",
    "prefix_trie_matching('ATAGC',Trie)"
   ]
  },
  {
   "cell_type": "markdown",
   "metadata": {},
   "source": [
    "TrieMatching(Text, Trie)\n",
    "    while Text is nonempty\n",
    "        PrefixTrieMatching(Text, Trie)\n",
    "        remove first symbol from Text"
   ]
  },
  {
   "cell_type": "code",
   "execution_count": 159,
   "metadata": {},
   "outputs": [],
   "source": [
    "def trie_matching(text: str, patterns: List[str]) -> Dict[str, List[int]]:\n",
    "    Trie = TrieConstruction(patterns)\n",
    "    print(Trie)\n",
    "    output_dict = {pattern:[] for pattern in patterns}\n",
    "    i = 0\n",
    "    while text:\n",
    "        print(text)\n",
    "        matched_pattern = prefix_trie_matching(text,Trie)\n",
    "        if matched_pattern!= \"no match found\":\n",
    "            output_dict[matched_pattern].append(i)\n",
    "        i+=1\n",
    "        text = text[1:]\n",
    "    return output_dict"
   ]
  },
  {
   "cell_type": "markdown",
   "metadata": {},
   "source": [
    "## Suffix Trie \n",
    "using OOP "
   ]
  },
  {
   "cell_type": "code",
   "execution_count": 418,
   "metadata": {},
   "outputs": [],
   "source": [
    "class TrieNode:\n",
    "    def __init__(self):\n",
    "        self.children = {}\n",
    "        self.value = None\n",
    "    def return_value(self):\n",
    "        return self.value\n",
    "    def make_leaf(self,i:int):\n",
    "        if not self.children and self.value==None:\n",
    "            self.value = i\n",
    "    def add_edge(self,symbol:str,child,pos:int):\n",
    "        self.children[symbol]=[pos,child]\n",
    "    def return_edge(self,symbol:str):\n",
    "        if symbol not in self.children:\n",
    "            return -1\n",
    "        pos,childNode = self.children[symbol]\n",
    "        return childNode\n",
    "    def iter_outgoing_edges(self):\n",
    "        #print(self.children)\n",
    "        return self.children\n",
    "    def merge(self,new_symbol,new_child):\n",
    "        pos = self.children.pop(new_symbol[0])[0]\n",
    "        self.children[new_symbol] = [pos,new_child]\n",
    "        #del self.children[new_symbol[0]]\n",
    "    def find_edge(self,child):\n",
    "        for symbol,edge in self.children.items():\n",
    "            if edge[1]==child:\n",
    "                return symbol\n",
    "    def return_child_nodes(self): #return 1st degree children\n",
    "        child_nodes = []\n",
    "        for edge in self.children.values():\n",
    "            child_nodes.append(edge[1])\n",
    "        return child_nodes\n",
    "class Modified_Suffix_Trie:\n",
    "    def __init__(self):\n",
    "        self.root = TrieNode()\n",
    "        self.nodes = [self.root]\n",
    "    def return_root(self):\n",
    "        return self.root\n",
    "    def iter_nodes(self):\n",
    "        return self.nodes\n",
    "    #@staticmethod\n",
    "    def insert_edge(self,parent:TrieNode,symbol:str,pos:int):\n",
    "        child = TrieNode()\n",
    "        parent.add_edge(symbol,child,pos)\n",
    "        self.nodes.append(child)\n",
    "        return child\n",
    "    #@staticmethod\n",
    "    def merge_edges(self,path:List[Tuple[TrieNode,TrieNode]]): #DEBUG TODO implement this using edges not nodes\n",
    "        maximal_edge_word = ''\n",
    "        for edge in path:\n",
    "            v,w = edge\n",
    "            maximal_edge_word+=v.find_edge(w)\n",
    "            self.nodes.remove(w)\n",
    "            del w\n",
    "        #print(maximal_edge_word)\n",
    "        start = path[0][0]\n",
    "        end = path[-1][1]\n",
    "        start.merge(maximal_edge_word,end)\n",
    "    def is_node_1_v_1(self,node:TrieNode):\n",
    "            #checks if node is internal              #checks if node exactly one outgoing edge\n",
    "        if (node!=self.root or node.value!=None) and len(node.iter_outgoing_edges())==1:\n",
    "            return True\n",
    "        return False\n",
    "    def print_trie(self, node=None, indent=\"\"):\n",
    "        if node is None:\n",
    "            node = self.root\n",
    "\n",
    "        for symbol, (pos, child) in node.children.items():\n",
    "            print(f\"{indent}{symbol} (Pos: {pos}) --> Node Value: {child.value if child.value is not None else 'None'}\")\n",
    "            self.print_trie(child, indent + \"  \")\n",
    "    \n",
    "    def edge_list(self, node=None, symbols=None):\n",
    "        if node is None:\n",
    "            node = self.root\n",
    "        if symbols is None:\n",
    "            symbols = []\n",
    "        for symbol, (_, child) in node.children.items():\n",
    "            symbols.append(symbol)\n",
    "            self.edge_list(child, symbols)\n",
    "        return symbols\n",
    "    \"\"\"\n",
    "    def unique_edge_dict(self, node=None, edge_dict=None):\n",
    "        if node is None:\n",
    "            node = self.root\n",
    "        if edge_dict is None:\n",
    "            edge_dict = {}\n",
    "        \n",
    "        for symbol, (pos, child) in node.children.items():\n",
    "            # Directly proceed without altering the symbol, even if it ends with '$'\n",
    "            if symbol in edge_dict:\n",
    "                # Ensure the position list exists and append if not already present\n",
    "                if pos not in edge_dict[symbol]:\n",
    "                    edge_dict[symbol].append(pos)\n",
    "            else:\n",
    "                edge_dict[symbol] = [pos]\n",
    "            \n",
    "            # Recursively process child nodes\n",
    "            self.unique_edge_dict(child, edge_dict)\n",
    "\n",
    "        return edge_dict\n",
    "    \"\"\"\n",
    "    def print_node_list(self,path:List[TrieNode]):\n",
    "        for node in path:\n",
    "            print(node.iter_outgoing_edges())\n",
    "            if node.value()!=None:\n",
    "                print(node.value())"
   ]
  },
  {
   "cell_type": "markdown",
   "metadata": {},
   "source": [
    "ModifiedSuffixTrieConstruction(Text)\n",
    "    Trie ← a graph consisting of a single node root\n",
    "    for i ← 0 to |Text| - 1\n",
    "        currentNode ← root\n",
    "        for j ← i to |Text| - 1\n",
    "            currentSymbol ← j-th symbol of Text\n",
    "            if there is an outgoing edge from currentNode labeled by currentSymbol\n",
    "                currentNode ← ending node of this edge\n",
    "            else\n",
    "                add a new node newNode to Trie\n",
    "                add an edge newEdge connecting currentNode to newNode in Trie\n",
    "                Symbol(newEdge) ← currentSymbol\n",
    "                Position(newEdge) ← j\n",
    "                currentNode ← newNode\n",
    "        if currentNode is a leaf in Trie\n",
    "            assign label i to this leaf\n",
    "    return Trie"
   ]
  },
  {
   "cell_type": "code",
   "execution_count": 455,
   "metadata": {},
   "outputs": [],
   "source": [
    "def modified_suffix_trie_construction(text:str):\n",
    "    Trie = Modified_Suffix_Trie()\n",
    "    for i in range(len(text)): #suffix ind\n",
    "        currentNode = Trie.return_root() \n",
    "        for j in range(i,len(text)):#suffix ind till end of string\n",
    "            currentSymbol=text[j]\n",
    "            nextNode = currentNode.return_edge(currentSymbol)\n",
    "            if nextNode!=-1:\n",
    "                currentNode = nextNode\n",
    "            else:\n",
    "                currentNode = Trie.insert_edge(currentNode,currentSymbol,j)\n",
    "        currentNode.make_leaf(i)\n",
    "    return Trie"
   ]
  },
  {
   "cell_type": "code",
   "execution_count": 456,
   "metadata": {},
   "outputs": [],
   "source": [
    "def modified_prefix_trie_construction(text:str):\n",
    "    Trie = Modified_Suffix_Trie()\n",
    "    for i in range(len(text)): #suffix ind\n",
    "        print(i,text[i])\n",
    "        currentNode = Trie.return_root() \n",
    "        for j in range(0,i+1):#suffix ind till end of string\n",
    "            currentSymbol=text[j]\n",
    "            print(currentSymbol)\n",
    "            nextNode = currentNode.return_edge(currentSymbol)\n",
    "            if nextNode!=-1:\n",
    "                currentNode = nextNode\n",
    "            else:\n",
    "                currentNode = Trie.insert_edge(currentNode,currentSymbol,j)\n",
    "        currentNode.make_leaf(i)\n",
    "    return Trie"
   ]
  },
  {
   "cell_type": "code",
   "execution_count": 454,
   "metadata": {},
   "outputs": [
    {
     "name": "stdout",
     "output_type": "stream",
     "text": [
      "0 a\n",
      "a\n",
      "1 t\n",
      "a\n",
      "t\n",
      "2 p\n",
      "a\n",
      "t\n",
      "p\n",
      "3 $\n",
      "a\n",
      "t\n",
      "p\n",
      "$\n",
      "a (Pos: 0) --> Node Value: 0\n",
      "  t (Pos: 1) --> Node Value: 1\n",
      "    p (Pos: 2) --> Node Value: 2\n",
      "      $ (Pos: 3) --> Node Value: 3\n"
     ]
    },
    {
     "data": {
      "text/plain": [
       "5"
      ]
     },
     "execution_count": 454,
     "metadata": {},
     "output_type": "execute_result"
    }
   ],
   "source": [
    "papa_trie = modified_suffix_trie_construction('atp$')\n",
    "papa_trie.print_trie()\n",
    "len(papa_trie.iter_nodes())"
   ]
  },
  {
   "cell_type": "markdown",
   "metadata": {},
   "source": [
    "Modified suffix TREE <= consolidating non-branching paths in modified suffix TRIE into one edge "
   ]
  },
  {
   "cell_type": "markdown",
   "metadata": {},
   "source": [
    "1-in-1-out node = node's indegree and out degree is 1 (->o->) \\\n",
    "in a tree internal nodes are 1-in-1-out, root and leaves are not"
   ]
  },
  {
   "cell_type": "markdown",
   "metadata": {},
   "source": [
    "MaximalNonBranchingPaths(Graph)\n",
    "    Paths ← empty list\n",
    "    for each node v in Graph\n",
    "        if v is not a 1-in-1-out node\n",
    "            if out(v) > 0\n",
    "                for each outgoing edge (v, w) from v\n",
    "                    NonBranchingPath ← the path consisting of single edge (v, w)\n",
    "                    while w is a 1-in-1-out node\n",
    "                        extend NonBranchingPath by the edge (w, u) \n",
    "                        w ← u\n",
    "                    add NonBranchingPath to the set Paths\n",
    "    for each isolated cycle Cycle in Graph\n",
    "        add Cycle to Paths\n",
    "    return Paths"
   ]
  },
  {
   "cell_type": "code",
   "execution_count": 364,
   "metadata": {},
   "outputs": [],
   "source": [
    "def maximal_non_branching_paths(Trie: Modified_Suffix_Trie):\n",
    "    paths = []\n",
    "    count = 0\n",
    "    for v in Trie.iter_nodes():\n",
    "        if not Trie.is_node_1_v_1(v):\n",
    "            if v.iter_outgoing_edges():\n",
    "                non_branching_path=[]\n",
    "                for symbol,edge in v.iter_outgoing_edges().items():\n",
    "                    pos,w = edge\n",
    "                    non_branching_path.append((v,w))\n",
    "                    while Trie.is_node_1_v_1(w):\n",
    "                        u = [edge[1] for edge in w.iter_outgoing_edges().values()][0] #returns only child node of w\n",
    "                        #print(\"u\",u.iter_outgoing_edges())\n",
    "                        non_branching_path.append((w,u))\n",
    "                        w = u\n",
    "                    #print('oop')\n",
    "                    #print('append path len',len(non_branching_path))\n",
    "                    if len(non_branching_path)>0:\n",
    "                        paths.append(non_branching_path) \n",
    "                        non_branching_path=[]\n",
    "                        count+=1\n",
    "\n",
    "    return paths"
   ]
  },
  {
   "cell_type": "markdown",
   "metadata": {},
   "source": [
    "ModifiedSuffixTreeConstruction(Text)\n",
    "    Trie ← ModifiedSuffixTrieConstruction\n",
    "    for each non-branching path Path in Trie\n",
    "        substitute Path by a single edge e connecting the first and last nodes of Path\n",
    "        Position(e) ← Position(first edge of Path)\n",
    "        Length(e) ← number of edges of Path\n",
    "    return Trie"
   ]
  },
  {
   "cell_type": "code",
   "execution_count": 390,
   "metadata": {},
   "outputs": [],
   "source": [
    "def modified_suffix_tree_construction(text:str):\n",
    "    Trie = modified_suffix_trie_construction(text)\n",
    "    for path in maximal_non_branching_paths(Trie):\n",
    "        Trie.merge_edges(path=path)\n",
    "    return Trie "
   ]
  },
  {
   "cell_type": "code",
   "execution_count": 389,
   "metadata": {},
   "outputs": [
    {
     "name": "stdout",
     "output_type": "stream",
     "text": [
      "count 17\n",
      "----------------maximal_non_branching_paths------------------\n",
      "0\n",
      "panamabananas$\n",
      "1\n",
      "a\n",
      "2\n",
      "na\n",
      "3\n",
      "mabananas$\n",
      "4\n",
      "bananas$\n",
      "5\n",
      "s$\n",
      "6\n",
      "$\n",
      "7\n",
      "na\n",
      "8\n",
      "mabananas$\n",
      "9\n",
      "bananas$\n",
      "10\n",
      "s$\n",
      "11\n",
      "mabananas$\n",
      "12\n",
      "nas$\n",
      "13\n",
      "s$\n",
      "14\n",
      "mabananas$\n",
      "15\n",
      "nas$\n",
      "16\n",
      "s$\n",
      "['panamabananas$', 'a', 'na', 'mabananas$', 'nas$', 's$', 'mabananas$', 'bananas$', 's$', 'na', 'mabananas$', 'nas$', 's$', 'mabananas$', 'bananas$', 's$', '$']\n"
     ]
    }
   ],
   "source": [
    "Trie = modified_suffix_tree_construction(\"panamabananas$\")\n",
    "print(Trie.edge_list())"
   ]
  },
  {
   "cell_type": "markdown",
   "metadata": {},
   "source": [
    "Longest repeat problem\n",
    "Trie <- build suffix tree from Text\n"
   ]
  },
  {
   "cell_type": "code",
   "execution_count": 422,
   "metadata": {},
   "outputs": [],
   "source": [
    "def find_longest_repeat(node, path=\"\", longest_repeat={\"string\": \"\", \"length\": 0}):\n",
    "    # Base case: Leaf node\n",
    "    if len(node.children) == 0:\n",
    "        return\n",
    "    # Internal node with more than one child\n",
    "    if len(node.children) > 1:\n",
    "        current_length = len(path)\n",
    "        if current_length > longest_repeat[\"length\"]:\n",
    "            longest_repeat[\"string\"] = path\n",
    "            longest_repeat[\"length\"] = current_length\n",
    "\n",
    "    # Recursive case: Traverse children\n",
    "    for symbol, (pos, child) in node.children.items():\n",
    "        find_longest_repeat(child, path + symbol, longest_repeat)\n",
    "\n",
    "    return longest_repeat[\"string\"]"
   ]
  },
  {
   "cell_type": "code",
   "execution_count": 429,
   "metadata": {},
   "outputs": [],
   "source": [
    "def longest_repeat(text: str) -> str:\n",
    "    Trie =  modified_suffix_tree_construction(text+\"$\")\n",
    "    Trie.print_trie()\n",
    "    return find_longest_repeat(Trie.return_root())"
   ]
  },
  {
   "cell_type": "markdown",
   "metadata": {},
   "source": [
    "#### longest commong substring"
   ]
  },
  {
   "cell_type": "code",
   "execution_count": 459,
   "metadata": {},
   "outputs": [],
   "source": [
    "def longest_shared_substring(text1: str, text2: str) -> str:\n",
    "    # Concatenate texts with a unique delimiter\n",
    "    combined_text = text1 + \"#\" + text2 + \"$\"\n",
    "    trie = modified_suffix_tree_construction(combined_text)\n",
    "\n",
    "    # Initialize the result variables\n",
    "    longest_shared = {\"length\": 0, \"substring\": \"\"}\n",
    "\n",
    "    def dfs(node, path=\"\"):\n",
    "        # Base case: If a leaf node, return a set indicating the origin of the leaf\n",
    "        if len(node.children) == 0:\n",
    "            return set([\"1\" if node.value < len(text1) else \"2\"])\n",
    "        \n",
    "        origins = set()\n",
    "        for symbol, (_, child) in node.children.items():\n",
    "            child_origins = dfs(child, path + symbol)\n",
    "            origins |= child_origins\n",
    "\n",
    "            # If this node has descendants from both texts, check if it's the longest\n",
    "            if \"1\" in child_origins and \"2\" in child_origins and len(path + symbol) > longest_shared[\"length\"]:\n",
    "                longest_shared[\"length\"] = len(path + symbol)\n",
    "                longest_shared[\"substring\"] = path + symbol\n",
    "\n",
    "        return origins\n",
    "\n",
    "    # Start DFS from the root\n",
    "    dfs(trie.return_root())\n",
    "\n",
    "    return longest_shared[\"substring\"]"
   ]
  },
  {
   "cell_type": "code",
   "execution_count": 460,
   "metadata": {},
   "outputs": [
    {
     "name": "stdout",
     "output_type": "stream",
     "text": [
      "count 14\n",
      "----------------maximal_non_branching_paths------------------\n"
     ]
    },
    {
     "data": {
      "text/plain": [
       "''"
      ]
     },
     "execution_count": 460,
     "metadata": {},
     "output_type": "execute_result"
    }
   ],
   "source": [
    "longest_shared_substring('GAGA','CTCT')"
   ]
  },
  {
   "cell_type": "code",
   "execution_count": 461,
   "metadata": {},
   "outputs": [
    {
     "name": "stdout",
     "output_type": "stream",
     "text": [
      "count 64\n",
      "----------------maximal_non_branching_paths------------------\n"
     ]
    },
    {
     "data": {
      "text/plain": [
       "'TCG'"
      ]
     },
     "execution_count": 461,
     "metadata": {},
     "output_type": "execute_result"
    }
   ],
   "source": [
    "longest_shared_substring('TCGGTAGATTGCGCCCACTC','AGGGGCTCGCAGTGTAAGAA')"
   ]
  },
  {
   "cell_type": "markdown",
   "metadata": {},
   "source": [
    "### Sorted Suffix Array"
   ]
  },
  {
   "cell_type": "code",
   "execution_count": 212,
   "metadata": {},
   "outputs": [],
   "source": [
    "def suffix_array(text: str) -> List[int]:\n",
    "    sarr = [i for i in range(len(text))]\n",
    "    sarr.sort(key=lambda item: text[item:])\n",
    "    return sarr"
   ]
  },
  {
   "cell_type": "code",
   "execution_count": 213,
   "metadata": {},
   "outputs": [
    {
     "data": {
      "text/plain": [
       "[15, 14, 0, 1, 12, 6, 4, 2, 8, 13, 3, 7, 9, 10, 11, 5]"
      ]
     },
     "execution_count": 213,
     "metadata": {},
     "output_type": "execute_result"
    }
   ],
   "source": [
    "suffix_array('AACGATAGCGGTAGA$')"
   ]
  },
  {
   "cell_type": "code",
   "execution_count": 439,
   "metadata": {},
   "outputs": [],
   "source": [
    "def prefix_array(text: str) -> List[int]:\n",
    "    parr = [i for i in range(len(text))]\n",
    "    parr.sort(key=lambda item: text[:item])\n",
    "    return parr"
   ]
  },
  {
   "cell_type": "code",
   "execution_count": 441,
   "metadata": {},
   "outputs": [
    {
     "data": {
      "text/plain": [
       "[0, 1, 2, 3]"
      ]
     },
     "execution_count": 441,
     "metadata": {},
     "output_type": "execute_result"
    }
   ],
   "source": [
    "prefix_array('cat$')"
   ]
  },
  {
   "cell_type": "markdown",
   "metadata": {},
   "source": [
    "### BWT \n",
    "genome compression of repeats "
   ]
  },
  {
   "cell_type": "code",
   "execution_count": 225,
   "metadata": {},
   "outputs": [],
   "source": [
    "def burrows_wheeler_transform(text: str) -> str:\n",
    "    sarr = [i for i in range(len(text))]\n",
    "    sarr.sort(key=lambda item: text[item:]+text[:item])\n",
    "    #for i in sarr:\n",
    "        #print(text[i:]+text[:i],text[i-1])\n",
    "    bwtarr = ''.join([text[i-1] for i in sarr])\n",
    "    return bwtarr"
   ]
  },
  {
   "cell_type": "code",
   "execution_count": 226,
   "metadata": {},
   "outputs": [
    {
     "name": "stdout",
     "output_type": "stream",
     "text": [
      "$panamabananas s\n",
      "abananas$panam m\n",
      "amabananas$pan n\n",
      "anamabananas$p p\n",
      "ananas$panamab b\n",
      "anas$panamaban n\n",
      "as$panamabanan n\n",
      "bananas$panama a\n",
      "mabananas$pana a\n",
      "namabananas$pa a\n",
      "nanas$panamaba a\n",
      "nas$panamabana a\n",
      "panamabananas$ $\n",
      "s$panamabanana a\n"
     ]
    },
    {
     "data": {
      "text/plain": [
       "'smnpbnnaaaaa$a'"
      ]
     },
     "execution_count": 226,
     "metadata": {},
     "output_type": "execute_result"
    }
   ],
   "source": [
    "burrows_wheeler_transform('panamabananas$')"
   ]
  },
  {
   "cell_type": "code",
   "execution_count": 462,
   "metadata": {},
   "outputs": [],
   "source": [
    "from typing import List\n",
    "\n",
    "def bwt_from_suffixarray(text: str, suffix_array: List[int]) -> str:\n",
    "    text += '#'\n",
    "    bwt_result = ''\n",
    "    for i in suffix_array:\n",
    "        if i == 0:\n",
    "            bwt_result += '#'\n",
    "        else:\n",
    "            bwt_result += text[i - 1]\n",
    "    \n",
    "    return bwt_result\n"
   ]
  },
  {
   "cell_type": "code",
   "execution_count": 463,
   "metadata": {},
   "outputs": [
    {
     "data": {
      "text/plain": [
       "'f#nobii'"
      ]
     },
     "execution_count": 463,
     "metadata": {},
     "output_type": "execute_result"
    }
   ],
   "source": [
    "bwt_from_suffixarray(\"bioinf\",[6,0,5,3,1,4,2])"
   ]
  }
 ],
 "metadata": {
  "kernelspec": {
   "display_name": "testpy3",
   "language": "python",
   "name": "python3"
  },
  "language_info": {
   "codemirror_mode": {
    "name": "ipython",
    "version": 3
   },
   "file_extension": ".py",
   "mimetype": "text/x-python",
   "name": "python",
   "nbconvert_exporter": "python",
   "pygments_lexer": "ipython3",
   "version": "3.9.10"
  }
 },
 "nbformat": 4,
 "nbformat_minor": 2
}
