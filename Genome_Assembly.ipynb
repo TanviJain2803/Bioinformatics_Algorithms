{
 "cells": [
  {
   "cell_type": "markdown",
   "metadata": {},
   "source": [
    "## Chapter 3: Genome Assembly \n",
    "this chapter assumes no errors in sequencing and perfect coverage"
   ]
  },
  {
   "cell_type": "markdown",
   "metadata": {},
   "source": [
    "`kmer_composition` is giving out kmers as an iterable from text"
   ]
  },
  {
   "cell_type": "code",
   "execution_count": 3,
   "metadata": {},
   "outputs": [],
   "source": [
    "from typing import List, Dict, Iterable\n",
    "def kmer_composition(text: str, k: int) -> Iterable[str]:\n",
    "    return [text[i:i+k] for i in range(len(text)-k+1)]"
   ]
  },
  {
   "cell_type": "code",
   "execution_count": 4,
   "metadata": {},
   "outputs": [
    {
     "data": {
      "text/plain": [
       "['CAATC', 'AATCC', 'ATCCA', 'TCCAA', 'CCAAC']"
      ]
     },
     "execution_count": 4,
     "metadata": {},
     "output_type": "execute_result"
    }
   ],
   "source": [
    "kmer_composition('CAATCCAAC',5)"
   ]
  },
  {
   "cell_type": "markdown",
   "metadata": {},
   "source": [
    "`genome_path` constructs a string out of pre-arranged kmers"
   ]
  },
  {
   "cell_type": "code",
   "execution_count": 9,
   "metadata": {},
   "outputs": [],
   "source": [
    "def genome_path(path: List[str]) -> str:\n",
    "    return path[0] + ''.join(kmer[-1] for kmer in path[1:])"
   ]
  },
  {
   "cell_type": "code",
   "execution_count": 10,
   "metadata": {},
   "outputs": [
    {
     "data": {
      "text/plain": [
       "'ACCGAAGCT'"
      ]
     },
     "execution_count": 10,
     "metadata": {},
     "output_type": "execute_result"
    }
   ],
   "source": [
    "genome_path(['ACCGA','CCGAA','CGAAG','GAAGC','AAGCT'])"
   ]
  },
  {
   "cell_type": "markdown",
   "metadata": {},
   "source": [
    "`overlap_graph` gives out a dict rep of adjacency matrix of overlapping kmers (kmers overlap if the first one's suffix is equal to the second's suffix). The same node can have self-loop"
   ]
  },
  {
   "cell_type": "code",
   "execution_count": 30,
   "metadata": {},
   "outputs": [],
   "source": [
    "def overlap_graph(patterns: List[str]) -> Dict[str, List[str]]:\n",
    "    overlap_dict = {}\n",
    "    for kmer_pre in patterns:\n",
    "        for kmer_post in patterns:\n",
    "            if is_overlap(kmer_pre,kmer_post): #if 2 kmers in kmer^2 overlap, added to overlap_dict\n",
    "                if kmer_pre not in overlap_dict:\n",
    "                    overlap_dict[kmer_pre] = [kmer_post]\n",
    "                elif (kmer_post not in overlap_dict[kmer_pre]):\n",
    "                    overlap_dict[kmer_pre].append(kmer_post)\n",
    "    return overlap_dict"
   ]
  },
  {
   "cell_type": "code",
   "execution_count": 18,
   "metadata": {},
   "outputs": [],
   "source": [
    "def is_overlap(kmer_pre:str, kmer_post:str)-> bool: #checks whether 2 kmers overlap\n",
    "    return kmer_pre[1:]==kmer_post[:-1]"
   ]
  },
  {
   "cell_type": "code",
   "execution_count": 31,
   "metadata": {},
   "outputs": [
    {
     "data": {
      "text/plain": [
       "{'ACT': ['CTT'], 'CTT': ['TTT'], 'TTT': ['TTT']}"
      ]
     },
     "execution_count": 31,
     "metadata": {},
     "output_type": "execute_result"
    }
   ],
   "source": [
    "overlap_graph(['ACT','CTT','TTT'])"
   ]
  },
  {
   "cell_type": "code",
   "execution_count": 32,
   "metadata": {},
   "outputs": [
    {
     "data": {
      "text/plain": [
       "{'AAG': ['AGA'],\n",
       " 'AGA': ['GAT'],\n",
       " 'ATT': ['TTC'],\n",
       " 'CTA': ['TAC'],\n",
       " 'CTC': ['TCT'],\n",
       " 'GAT': ['ATT'],\n",
       " 'TCT': ['CTA', 'CTC'],\n",
       " 'TTC': ['TCT']}"
      ]
     },
     "execution_count": 32,
     "metadata": {},
     "output_type": "execute_result"
    }
   ],
   "source": [
    "overlap_graph(['AAG','AGA','ATT','CTA','CTC','GAT','TAC','TCT','TCT','TTC'])"
   ]
  },
  {
   "cell_type": "markdown",
   "metadata": {},
   "source": [
    "Hamiltonian path traversing each node exactly once"
   ]
  },
  {
   "cell_type": "markdown",
   "metadata": {},
   "source": [
    "`de_bruijn_string` forms an adj matrix using dict for de bruijn graph (nodes are overlap and edges are kmers)"
   ]
  },
  {
   "cell_type": "code",
   "execution_count": 40,
   "metadata": {},
   "outputs": [],
   "source": [
    "def de_bruijn_string(text: str, k: int) -> Dict[str, List[str]]:\n",
    "    bruijn_dict = {}\n",
    "    for i in range(len(text)-k+1):\n",
    "        overlap_pre = text[i:i+k-1] #k-1 mer\n",
    "        overlap_post = text[i+1:i+k]\n",
    "        if overlap_pre not in bruijn_dict:\n",
    "            bruijn_dict[overlap_pre] = [overlap_post]\n",
    "            continue\n",
    "        bruijn_dict[overlap_pre].append(overlap_post)\n",
    "    return bruijn_dict\n",
    "    "
   ]
  },
  {
   "cell_type": "code",
   "execution_count": 41,
   "metadata": {},
   "outputs": [
    {
     "data": {
      "text/plain": [
       "{'AC': ['CG'],\n",
       " 'CG': ['GT'],\n",
       " 'GT': ['TG', 'TA'],\n",
       " 'TG': ['GT'],\n",
       " 'TA': ['AT'],\n",
       " 'AT': ['TA']}"
      ]
     },
     "execution_count": 41,
     "metadata": {},
     "output_type": "execute_result"
    }
   ],
   "source": [
    "de_bruijn_string('ACGTGTATA',3)"
   ]
  },
  {
   "cell_type": "markdown",
   "metadata": {},
   "source": [
    "Using input kmers, `de_bruijn_kmers` uses "
   ]
  },
  {
   "cell_type": "code",
   "execution_count": 46,
   "metadata": {},
   "outputs": [],
   "source": [
    "def de_bruijn_kmers(k_mers: List[str]) -> Dict[str, List[str]]:\n",
    "    de_bruijn = {}\n",
    "    for kmer in k_mers:\n",
    "        if kmer[:-1] not in de_bruijn:\n",
    "            de_bruijn[kmer[:-1]]=[kmer[1:]]\n",
    "            continue\n",
    "        de_bruijn[kmer[:-1]].append(kmer[1:])\n",
    "    return de_bruijn"
   ]
  },
  {
   "cell_type": "code",
   "execution_count": 47,
   "metadata": {},
   "outputs": [
    {
     "data": {
      "text/plain": [
       "{'GAG': ['AGG'],\n",
       " 'CAG': ['AGG', 'AGG'],\n",
       " 'GGG': ['GGG', 'GGA'],\n",
       " 'AGG': ['GGG'],\n",
       " 'GGA': ['GAG']}"
      ]
     },
     "execution_count": 47,
     "metadata": {},
     "output_type": "execute_result"
    }
   ],
   "source": [
    "de_bruijn_kmers([\"GAGG\",\"CAGG\",\"GGGG\",\"GGGA\",\"CAGG\",\"AGGG\",\"GGAG\"])"
   ]
  },
  {
   "cell_type": "markdown",
   "metadata": {},
   "source": [
    "- Eulerian path:graph traversing each edge exactly once\n",
    "- Eulerian cycle: each edge once and then return to same node\n",
    "- Eulerian graph needs to be (1) balance (in(v)=out(v) for all nodes) (2) strongly connected\n",
    "^ analogus to de_bruijn\n",
    "Hamiltonian is similar to overlap_graph"
   ]
  },
  {
   "cell_type": "code",
   "execution_count": 97,
   "metadata": {},
   "outputs": [],
   "source": [
    "import random\n",
    "def eulerian_cycle(g: Dict[int, List[int]]) -> Iterable[int]:\n",
    "    if not g:\n",
    "        return []  # Return an empty cycle for an empty graph\n",
    "\n",
    "    # Start with a random walk to form the initial cycle\n",
    "    cycle = make_cycle(random.choice(list(g.keys())), g)\n",
    "\n",
    "    # Continue until all edges are used\n",
    "    while any(g.values()):\n",
    "        for i, node in enumerate(cycle):\n",
    "            if g[node]:  # If there are unused edges from this node\n",
    "                new_cycle = make_cycle(node, g)\n",
    "                cycle = cycle[:i] + new_cycle + cycle[i+1:]\n",
    "                break\n",
    "\n",
    "    return cycle\n"
   ]
  },
  {
   "cell_type": "code",
   "execution_count": 96,
   "metadata": {},
   "outputs": [],
   "source": [
    "def make_cycle(start: int, g: Dict[int, List[int]]) -> List[int]:\n",
    "    cycle = [start]\n",
    "    while True:\n",
    "        if not g[start]:  # No more edges to follow from the current node\n",
    "            break\n",
    "        next_node = g[start].pop()  # Remove and return the last item\n",
    "        cycle.append(next_node)\n",
    "        start = next_node\n",
    "\n",
    "    return cycle"
   ]
  },
  {
   "cell_type": "code",
   "execution_count": 98,
   "metadata": {},
   "outputs": [
    {
     "data": {
      "text/plain": [
       "[9, 6, 5, 4, 2, 1, 0, 3, 2, 6, 8, 7, 9]"
      ]
     },
     "execution_count": 98,
     "metadata": {},
     "output_type": "execute_result"
    }
   ],
   "source": [
    "eulerian_cycle({0:[3],1:[0],2:[1,6],3:[2],4:[2],5:[4],6:[5,8],7:[9],8:[7],9:[6]})"
   ]
  },
  {
   "cell_type": "markdown",
   "metadata": {},
   "source": [
    "Using the Eulerian Cycle function to find Eulerian Path. In a eulerian path 2 nodes at max have to be unbalanced. We can create an artificial edge between them to find a cycle, and remove it to have found the path"
   ]
  },
  {
   "cell_type": "code",
   "execution_count": null,
   "metadata": {},
   "outputs": [],
   "source": [
    "import random\n",
    "def eulerian_path(g: Dict[int, List[int]]) -> Iterable[int]:\n",
    "    Unbalanced_nodes = unabalanced_nodes(g)\n",
    "    #print(\"unabalanced_nodes\",Unbalanced_nodes)\n",
    "    if Unbalanced_nodes[0] not in g:\n",
    "        g[Unbalanced_nodes[0]] = [Unbalanced_nodes[1]]\n",
    "    else:\n",
    "        g[Unbalanced_nodes[0]].append(Unbalanced_nodes[1])\n",
    "    path = eulerian_cycle(g)\n",
    "    #print(path)\n",
    "    return rearrange_path(Unbalanced_nodes, path)\n",
    "def unabalanced_nodes(g: Dict[int,List[int]]) -> List[int]: #returns a pair of nodes that are unbalanced where ind 0 has extra outgoing edge and ind 1 has extra incoming edge\n",
    "    unabalanced_nodes = []\n",
    "    in_degree = {node: 0 for node in g}\n",
    "    out_degree = {node:len(edges) for node,edges in g.items()}\n",
    "\n",
    "    for edges in g.values():\n",
    "        for node in edges:\n",
    "            if node in g:\n",
    "                in_degree[node]+=1\n",
    "            else:\n",
    "                in_degree[node]=1\n",
    "                out_degree[node]=0\n",
    "    #print(out_degree,in_degree)\n",
    "    for node in in_degree:\n",
    "        #print(node)\n",
    "        if in_degree[node]<out_degree[node]:\n",
    "            unabalanced_nodes.insert(1,node)\n",
    "        elif in_degree[node]>out_degree[node]:\n",
    "            unabalanced_nodes.insert(0,node)\n",
    "    \n",
    "    return unabalanced_nodes\n",
    "def rearrange_path(edge: List[int],arr: List[int]) -> List[int]:\n",
    "# Find indices of the edge elements\n",
    "    edge_indices = []\n",
    "    for i in range(len(arr) - 1):\n",
    "        if arr[i] == edge[0] and arr[i + 1] == edge[1]:\n",
    "            edge_indices.append(i)\n",
    "    #print(edge_indices)\n",
    "    return arr[edge_indices[0]+1:] + arr[:edge_indices[0]+1]\n",
    "\n",
    "def eulerian_path(g: Dict[int, List[int]]) -> Iterable[int]:\n",
    "    Unbalanced_nodes = unabalanced_nodes(g)\n",
    "    print(\"unabalanced_nodes\",Unbalanced_nodes)\n",
    "    if Unbalanced_nodes[0] not in g:\n",
    "        g[Unbalanced_nodes[0]] = [Unbalanced_nodes[1]]\n",
    "    else:\n",
    "        g[Unbalanced_nodes[0]].append(Unbalanced_nodes[1])\n",
    "    path = eulerian_cycle(g)\n",
    "    print(path)\n",
    "    return rearrange_path(Unbalanced_nodes, path)\n",
    "def unabalanced_nodes(g: Dict[int,List[int]]) -> List[int]: #returns a pair of nodes that are unbalanced where ind 0 has extra outgoing edge and ind 1 has extra incoming edge\n",
    "    unabalanced_nodes = []\n",
    "    in_degree = {node: 0 for node in g}\n",
    "    out_degree = {node:len(edges) for node,edges in g.items()}\n",
    "\n",
    "    for edges in g.values():\n",
    "        for node in edges:\n",
    "            if node in g:\n",
    "                in_degree[node]+=1\n",
    "            else:\n",
    "                in_degree[node]=1\n",
    "                out_degree[node]=0\n",
    "    #print(out_degree,in_degree)\n",
    "    for node in in_degree:\n",
    "        #print(node)\n",
    "        if in_degree[node]<out_degree[node]:\n",
    "            unabalanced_nodes.insert(1,node)\n",
    "        elif in_degree[node]>out_degree[node]:\n",
    "            unabalanced_nodes.insert(0,node)\n",
    "    \n",
    "    return unabalanced_nodes\n",
    "def rearrange_path(edge: List[int],arr: List[int]) -> List[int]:\n",
    "# Find indices of the edge elements\n",
    "    edge_indices = []\n",
    "    for i in range(len(arr) - 1):\n",
    "        if arr[i] == edge[0] and arr[i + 1] == edge[1]:\n",
    "            edge_indices.append(i)\n",
    "    #print(edge_indices)\n",
    "    return arr[edge_indices[0]+1:-1] + arr[:edge_indices[0]+1]\n",
    "import random\n",
    "def eulerian_cycle(g: Dict[int, List[int]]) -> Iterable[int]:\n",
    "    if not g:\n",
    "        return []  # Return an empty cycle for an empty graph\n",
    "\n",
    "    # Start with a random walk to form the initial cycle\n",
    "    start = random.choice(list(g.keys()))\n",
    "    cycle = [start]\n",
    "    while True:\n",
    "        if not g[start]:  # No more edges to follow from the current node\n",
    "            break\n",
    "        next_node = g[start].pop()  # Remove and return the last item\n",
    "        cycle.append(next_node)\n",
    "        start = next_node\n",
    "\n",
    "    # Continue until all edges are used\n",
    "    while any(g.values()):\n",
    "        for i, node in enumerate(cycle):\n",
    "            if g[node]:  # If there are unused edges from this node\n",
    "                #new_cycle, g = make_cycle(node, g)\n",
    "                start = node\n",
    "                new_cycle = [start]\n",
    "                while True:\n",
    "                    if not g[start]:  # No more edges to follow from the current node\n",
    "                        break\n",
    "                    next_node = g[start].pop()  # Remove and return the last item\n",
    "                    new_cycle.append(next_node)\n",
    "                    start = next_node\n",
    "                print(\"new_cycle\",new_cycle)\n",
    "                cycle = cycle[:i] + new_cycle + cycle[i+1:]\n",
    "                #cycle = new_cycle\n",
    "                print(\"cycle\",cycle)\n",
    "                break\n",
    "\n",
    "    return cycle\n"
   ]
  },
  {
   "cell_type": "code",
   "execution_count": 232,
   "metadata": {},
   "outputs": [],
   "source": [
    "def eulerian_path(g: Dict[int, List[int]]) -> Iterable[int]:\n",
    "    Unbalanced_nodes = unabalanced_nodes(g)\n",
    "    #print(\"unabalanced_nodes\",Unbalanced_nodes)\n",
    "    if Unbalanced_nodes[0] not in g:\n",
    "        g[Unbalanced_nodes[0]] = [Unbalanced_nodes[1]]\n",
    "    else:\n",
    "        g[Unbalanced_nodes[0]].append(Unbalanced_nodes[1])\n",
    "    path = eulerian_cycle(g)\n",
    "    #print(path)\n",
    "    return rearrange_path(Unbalanced_nodes, path)\n"
   ]
  },
  {
   "cell_type": "code",
   "execution_count": 201,
   "metadata": {},
   "outputs": [],
   "source": [
    "def unabalanced_nodes(g: Dict[int,List[int]]) -> List[int]: #returns a pair of nodes that are unbalanced where ind 0 has extra outgoing edge and ind 1 has extra incoming edge\n",
    "    unabalanced_nodes = []\n",
    "    in_degree = {node: 0 for node in g}\n",
    "    out_degree = {node:len(edges) for node,edges in g.items()}\n",
    "\n",
    "    for edges in g.values():\n",
    "        for node in edges:\n",
    "            if node in g:\n",
    "                in_degree[node]+=1\n",
    "            else:\n",
    "                in_degree[node]=1\n",
    "                out_degree[node]=0\n",
    "    #print(out_degree,in_degree)\n",
    "    for node in in_degree:\n",
    "        #print(node)\n",
    "        if in_degree[node]<out_degree[node]:\n",
    "            unabalanced_nodes.insert(1,node)\n",
    "        elif in_degree[node]>out_degree[node]:\n",
    "            unabalanced_nodes.insert(0,node)\n",
    "    \n",
    "    return unabalanced_nodes"
   ]
  },
  {
   "cell_type": "code",
   "execution_count": 197,
   "metadata": {},
   "outputs": [],
   "source": [
    "def rearrange_path(edge: List[int],arr: List[int]) -> List[int]:\n",
    "# Find indices of the edge elements\n",
    "    edge_indices = []\n",
    "    for i in range(len(arr) - 1):\n",
    "        if arr[i] == edge[0] and arr[i + 1] == edge[1]:\n",
    "            edge_indices.append(i)\n",
    "    #print(edge_indices)\n",
    "    return arr[edge_indices[0]+1:] + arr[:edge_indices[0]+1]\n",
    "    "
   ]
  },
  {
   "cell_type": "code",
   "execution_count": 196,
   "metadata": {},
   "outputs": [],
   "source": [
    "def remove_consecutive_duplicates(arr):\n",
    "    if not arr:\n",
    "        return []\n",
    "\n",
    "    # Initialize the result list with the first element of the input array\n",
    "    result = [arr[0]]\n",
    "\n",
    "    # Iterate through the array starting from the second element\n",
    "    for i in range(1, len(arr)):\n",
    "        if arr[i] != arr[i - 1]:\n",
    "            result.append(arr[i])\n",
    "\n",
    "    return result"
   ]
  },
  {
   "cell_type": "code",
   "execution_count": 299,
   "metadata": {},
   "outputs": [],
   "source": [
    "def eulerian_path(g: Dict[int, List[int]]) -> Iterable[int]:\n",
    "    Unbalanced_nodes = unabalanced_nodes(g)\n",
    "    if len(Unbalanced_nodes)==0:\n",
    "        return eulerian_cycle(g)\n",
    "    print(\"unabalanced_nodes\",Unbalanced_nodes)\n",
    "    if Unbalanced_nodes[0] not in g:\n",
    "        g[Unbalanced_nodes[0]] = [Unbalanced_nodes[1]]\n",
    "    else:\n",
    "        g[Unbalanced_nodes[0]].append(Unbalanced_nodes[1])\n",
    "    path = eulerian_cycle(g)\n",
    "    print(path)\n",
    "    return rearrange_path(Unbalanced_nodes, path)\n"
   ]
  },
  {
   "cell_type": "code",
   "execution_count": 194,
   "metadata": {},
   "outputs": [],
   "source": [
    "def unabalanced_nodes(g: Dict[int,List[int]]) -> List[int]: #returns a pair of nodes that are unbalanced where ind 0 has extra outgoing edge and ind 1 has extra incoming edge\n",
    "    unabalanced_nodes = []\n",
    "    in_degree = {node: 0 for node in g}\n",
    "    out_degree = {node:len(edges) for node,edges in g.items()}\n",
    "\n",
    "    for edges in g.values():\n",
    "        for node in edges:\n",
    "            if node in g:\n",
    "                in_degree[node]+=1\n",
    "            else:\n",
    "                in_degree[node]=1\n",
    "                out_degree[node]=0\n",
    "    #print(out_degree,in_degree)\n",
    "    for node in in_degree:\n",
    "        #print(node)\n",
    "        if in_degree[node]<out_degree[node]:\n",
    "            unabalanced_nodes.insert(1,node)\n",
    "        elif in_degree[node]>out_degree[node]:\n",
    "            unabalanced_nodes.insert(0,node)\n",
    "    \n",
    "    return unabalanced_nodes"
   ]
  },
  {
   "cell_type": "code",
   "execution_count": 274,
   "metadata": {},
   "outputs": [],
   "source": [
    "def rearrange_path(edge: List[int],arr: List[int]) -> List[int]:\n",
    "# Find indices of the edge elements\n",
    "    edge_indices = []\n",
    "    for i in range(len(arr) - 1):\n",
    "        if arr[i] == edge[0] and arr[i + 1] == edge[1]:\n",
    "            edge_indices.append(i)\n",
    "    #print(edge_indices)\n",
    "    return arr[edge_indices[0]+1:-1] + arr[:edge_indices[0]+1]\n",
    "import random"
   ]
  },
  {
   "cell_type": "code",
   "execution_count": 266,
   "metadata": {},
   "outputs": [],
   "source": [
    "def eulerian_cycle(g: Dict[int, List[int]]) -> Iterable[int]:\n",
    "    if not g:\n",
    "        return []  # Return an empty cycle for an empty graph\n",
    "\n",
    "    # Start with a random walk to form the initial cycle\n",
    "    start = random.choice(list(g.keys()))\n",
    "    cycle = [start]\n",
    "    while True:\n",
    "        if not g[start]:  # No more edges to follow from the current node\n",
    "            break\n",
    "        next_node = g[start].pop()  # Remove and return the last item\n",
    "        cycle.append(next_node)\n",
    "        start = next_node\n",
    "\n",
    "    # Continue until all edges are used\n",
    "    while any(g.values()):\n",
    "        for i, node in enumerate(cycle):\n",
    "            if g[node]:  # If there are unused edges from this node\n",
    "                #new_cycle, g = make_cycle(node, g)\n",
    "                start = node\n",
    "                new_cycle = [start]\n",
    "                while True:\n",
    "                    if not g[start]:  # No more edges to follow from the current node\n",
    "                        break\n",
    "                    next_node = g[start].pop()  # Remove and return the last item\n",
    "                    new_cycle.append(next_node)\n",
    "                    start = next_node\n",
    "                print(\"new_cycle\",new_cycle)\n",
    "                cycle = cycle[:i] + new_cycle + cycle[i+1:]\n",
    "                #cycle = new_cycle\n",
    "                print(\"cycle\",cycle)\n",
    "                break\n",
    "\n",
    "    return cycle"
   ]
  },
  {
   "cell_type": "code",
   "execution_count": 247,
   "metadata": {},
   "outputs": [],
   "source": [
    "def make_cycle(start: int, g: Dict[int, List[int]]):\n",
    "    cycle = [start]\n",
    "    while True:\n",
    "        if not g[start]:  # No more edges to follow from the current node\n",
    "            break\n",
    "        next_node = g[start].pop()  # Remove and return the last item\n",
    "        cycle.append(next_node)\n",
    "        start = next_node\n",
    "\n",
    "    return cycle, g"
   ]
  },
  {
   "cell_type": "code",
   "execution_count": 190,
   "metadata": {},
   "outputs": [],
   "source": [
    "def remove_consecutive_duplicates(arr):\n",
    "    if not arr:\n",
    "        return []\n",
    "\n",
    "    # Initialize the result list with the first element of the input array\n",
    "    result = [arr[0]]\n",
    "\n",
    "    # Iterate through the array starting from the second element\n",
    "    for i in range(1, len(arr)):\n",
    "        if arr[i] != arr[i - 1]:\n",
    "            result.append(arr[i])\n",
    "\n",
    "    return result"
   ]
  },
  {
   "cell_type": "code",
   "execution_count": 161,
   "metadata": {},
   "outputs": [
    {
     "data": {
      "text/plain": [
       "[8, 7, 9, 6, 5, 4, 2, 1, 0, 3, 2, 2, 6, 8, 9]"
      ]
     },
     "execution_count": 161,
     "metadata": {},
     "output_type": "execute_result"
    }
   ],
   "source": [
    "rearrange_path([9,8],[2, 6, 8, 9, 8, 7, 9, 6, 5, 4, 2, 1, 0, 3, 2])"
   ]
  },
  {
   "cell_type": "code",
   "execution_count": 156,
   "metadata": {},
   "outputs": [
    {
     "data": {
      "text/plain": [
       "[8, 7, 9, 6, 5, 4, 2, 1, 1, 0, 3, 2, 6, 8, 9]"
      ]
     },
     "execution_count": 156,
     "metadata": {},
     "output_type": "execute_result"
    }
   ],
   "source": [
    "eulerian_path({0:[3],1:[0],2:[1,6],3:[2],4:[2],5:[4],6:[5,8],7:[9],8:[7,9],9:[6]})"
   ]
  },
  {
   "cell_type": "code",
   "execution_count": 187,
   "metadata": {},
   "outputs": [
    {
     "data": {
      "text/plain": [
       "[6, 7, 8, 9, 6, 3, 0, 2, 1, 3, 3, 4]"
      ]
     },
     "execution_count": 187,
     "metadata": {},
     "output_type": "execute_result"
    }
   ],
   "source": [
    "g = {0:[2],1:[3],2:[1],3:[0,4],6:[3,7],7:[8],8:[9],9:[6]}\n",
    "eulerian_path(g)"
   ]
  },
  {
   "cell_type": "markdown",
   "metadata": {},
   "source": [
    "Using Eulerian Path Algo to do String Reconstruction\n",
    "`StringReconstruction(Patterns)\n",
    "    dB ← DeBruijn(Patterns)\n",
    "    path ← EulerianPath(dB)\n",
    "    Text﻿ ← PathToGenome(path)\n",
    "    return Text`"
   ]
  },
  {
   "cell_type": "code",
   "execution_count": 240,
   "metadata": {},
   "outputs": [],
   "source": [
    "def string_reconstruction(patterns: List[str], k: int) -> str:\n",
    "    dB = de_bruijn_kmers(patterns)\n",
    "    print(dB)\n",
    "    path = eulerian_path(dB)\n",
    "    text = genome_path(path)\n",
    "    return text"
   ]
  },
  {
   "cell_type": "code",
   "execution_count": 296,
   "metadata": {},
   "outputs": [
    {
     "name": "stdout",
     "output_type": "stream",
     "text": [
      "unabalanced_nodes ['T', 'G']\n",
      "new_cycle ['G', 'G']\n",
      "cycle ['C', 'T', 'G', 'G', 'A', 'C']\n",
      "['C', 'T', 'G', 'G', 'A', 'C']\n",
      "{'G': ['G', 'A'], 'A': ['C'], 'C': ['T']}\n",
      "unabalanced_nodes ['T', 'G']\n",
      "new_cycle ['G', 'G']\n",
      "cycle ['T', 'G', 'G', 'A', 'C', 'T']\n",
      "['T', 'G', 'G', 'A', 'C', 'T']\n"
     ]
    },
    {
     "data": {
      "text/plain": [
       "'GGACT'"
      ]
     },
     "execution_count": 296,
     "metadata": {},
     "output_type": "execute_result"
    }
   ],
   "source": [
    "patterns = ['GG','AC','GA','CT']\n",
    "dB = de_bruijn_kmers(patterns)\n",
    "eulerian_path(dB)\n",
    "string_reconstruction(patterns,3)"
   ]
  },
  {
   "cell_type": "code",
   "execution_count": 289,
   "metadata": {},
   "outputs": [
    {
     "name": "stdout",
     "output_type": "stream",
     "text": [
      "{'AC': ['CG'], 'CG': ['GT'], 'GT': ['TG', 'TA'], 'TG': ['GT'], 'TA': ['AT'], 'AT': ['TA']}\n",
      "unabalanced_nodes ['TA', 'AC']\n",
      "new_cycle ['TA', 'AT', 'TA']\n",
      "cycle ['TG', 'GT', 'TA', 'AT', 'TA', 'AC', 'CG', 'GT', 'TG']\n",
      "['TG', 'GT', 'TA', 'AT', 'TA', 'AC', 'CG', 'GT', 'TG']\n"
     ]
    },
    {
     "data": {
      "text/plain": [
       "'ACGTGTATA'"
      ]
     },
     "execution_count": 289,
     "metadata": {},
     "output_type": "execute_result"
    }
   ],
   "source": [
    "string_reconstruction(['ACG','CGT','GTG','TGT','GTA','TAT','ATA'],3)"
   ]
  },
  {
   "cell_type": "code",
   "execution_count": 300,
   "metadata": {},
   "outputs": [
    {
     "name": "stdout",
     "output_type": "stream",
     "text": [
      "{'AC': ['CG'], 'CG': ['GT'], 'GT': ['TA'], 'TA': ['AC']}\n"
     ]
    },
    {
     "data": {
      "text/plain": [
       "'TACGTA'"
      ]
     },
     "execution_count": 300,
     "metadata": {},
     "output_type": "execute_result"
    }
   ],
   "source": [
    "string_reconstruction([\"ACG\",\"CGT\",\"GTA\",\"TAC\"],3)"
   ]
  },
  {
   "cell_type": "markdown",
   "metadata": {},
   "source": [
    "`k_uniersal_string` solves the string reconstruction problem but for k-universal binary strings instead."
   ]
  },
  {
   "cell_type": "code",
   "execution_count": 334,
   "metadata": {},
   "outputs": [],
   "source": [
    "def k_universal_string(k: int) -> str:\n",
    "    k_binary = k_binary_str(k)\n",
    "    dB= de_bruijn_kmers(k_binary)\n",
    "    path = eulerian_path(dB)\n",
    "    binary_str = \"\".join([b[-1] for b in path[:-1]])\n",
    "    return binary_str"
   ]
  },
  {
   "cell_type": "code",
   "execution_count": 313,
   "metadata": {},
   "outputs": [],
   "source": [
    "#gives list of binary strings\n",
    "def k_binary_str(k: int)-> List[str]:\n",
    "    if k==1:\n",
    "        return ['0','1']\n",
    "    previous_binary = k_binary_str(k-1)\n",
    "    k_binary = [binary+'0' for binary in previous_binary] + [binary+'1' for binary in previous_binary]\n",
    "    return k_binary"
   ]
  },
  {
   "cell_type": "code",
   "execution_count": 338,
   "metadata": {},
   "outputs": [
    {
     "data": {
      "text/plain": [
       "'01110100'"
      ]
     },
     "execution_count": 338,
     "metadata": {},
     "output_type": "execute_result"
    }
   ],
   "source": [
    "k_universal_string(3)"
   ]
  }
 ],
 "metadata": {
  "kernelspec": {
   "display_name": "testpy3",
   "language": "python",
   "name": "python3"
  },
  "language_info": {
   "codemirror_mode": {
    "name": "ipython",
    "version": 3
   },
   "file_extension": ".py",
   "mimetype": "text/x-python",
   "name": "python",
   "nbconvert_exporter": "python",
   "pygments_lexer": "ipython3",
   "version": "3.9.10"
  }
 },
 "nbformat": 4,
 "nbformat_minor": 2
}
