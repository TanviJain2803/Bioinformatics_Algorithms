{
 "cells": [
  {
   "cell_type": "markdown",
   "metadata": {
    "slideshow": {
     "slide_type": "notes"
    }
   },
   "source": [
    "## Chapter 7: Combinatorics Algo (Genome Rearrangement)\n"
   ]
  },
  {
   "cell_type": "markdown",
   "metadata": {},
   "source": [
    "\n",
    "Synteny blocks are regions of chromosomes that share a common order of homologous genes.\n",
    "Genome hotspots: genome loci that are more susceptinle to genome rearrangement\n",
    "\n",
    "N reversals give 2N reversal cuts and 2N+1 synteny blocks,\n",
    "Random breakage model: Genome rearrangement in simulation (freq of synteny block size histogram) shows exponential dist., suggesting that genome hotspots are random\n",
    "\n",
    "\n",
    "parsimonious evolutionary scenario: shortest path to evolution between two species (Occam's razor principle) -> minimum number of reversals\n",
    "\n",
    "Each synteny block given x number such that abs(x)>0, depending on direction of block. Since 0 isn't neg or pos, 1-based indexing\n",
    "\n",
    "reversal distance between permutations P and Q, denoted drev(P, Q), as the minimum number of reversals required to transform P into Q.\n",
    "\n",
    "identity permutation: smallest to largest permutation\n"
   ]
  },
  {
   "cell_type": "code",
   "execution_count": 2,
   "metadata": {},
   "outputs": [],
   "source": [
    "import math"
   ]
  },
  {
   "cell_type": "markdown",
   "metadata": {},
   "source": [
    "### Greedy Sorting"
   ]
  },
  {
   "cell_type": "markdown",
   "metadata": {},
   "source": [
    "`Greedy Sorting`"
   ]
  },
  {
   "cell_type": "code",
   "execution_count": 4,
   "metadata": {},
   "outputs": [],
   "source": [
    "from typing import List, Dict, Iterable, Tuple"
   ]
  },
  {
   "cell_type": "code",
   "execution_count": 65,
   "metadata": {},
   "outputs": [],
   "source": [
    "def k_sorting_reversal(P:List[int],k)-> List[int]:\n",
    "    j = list(map(abs, P)).index(k+1) #j= curr ind of k \n",
    "    return P[:k] + list(map(lambda x: x * -1, P[k:j+1][::-1])) + P[j+1:]\n",
    "# P = arr till k + neg of curr P[k->j] in flipped order + rest arr after j"
   ]
  },
  {
   "cell_type": "code",
   "execution_count": 64,
   "metadata": {},
   "outputs": [],
   "source": [
    "def GreedySorting(P: List[int]) -> List[List[int]]:\n",
    "    output = []\n",
    "    for k in range(0,len(P)):\n",
    "        if P[k]!=k+1:\n",
    "            P = k_sorting_reversal(P,k)\n",
    "            output.append(P)\n",
    "        if P[k]==-k-1:\n",
    "            P = k_sorting_reversal(P,k)\n",
    "            output.append(P)\n",
    "    return output"
   ]
  },
  {
   "cell_type": "code",
   "execution_count": 66,
   "metadata": {},
   "outputs": [
    {
     "data": {
      "text/plain": [
       "[[-1, -4, 3, 5, -2],\n",
       " [1, -4, 3, 5, -2],\n",
       " [1, 2, -5, -3, 4],\n",
       " [1, 2, 3, 5, 4],\n",
       " [1, 2, 3, -4, -5],\n",
       " [1, 2, 3, 4, -5],\n",
       " [1, 2, 3, 4, 5]]"
      ]
     },
     "execution_count": 66,
     "metadata": {},
     "output_type": "execute_result"
    }
   ],
   "source": [
    "P = [-3,+4,+1,+5,-2]\n",
    "GreedySorting(P)"
   ]
  },
  {
   "cell_type": "markdown",
   "metadata": {},
   "source": [
    "### Breakpoints\n",
    "adjacency pair if p_(i+1) − p_i = 1 for instance (+3,+4) or (-10,-9) -> they are desirable because they are sorted ish\n",
    "if pair is not adjacency pair then it is counted as a breakpoint"
   ]
  },
  {
   "cell_type": "code",
   "execution_count": 5,
   "metadata": {},
   "outputs": [],
   "source": [
    "def BreakpointCount(P: List[int]) -> int:\n",
    "    count = 0\n",
    "    P = [0]+P+[len(P)+1] #adding blocks at the beginning and end\n",
    "    for i in range(len(P)-1):\n",
    "        if P[i+1]-P[i]!=1: #if neither (a,a+1) or (-a-1,-a) it is a breakpoint\n",
    "            count+=1\n",
    "        #print(P[i],P[i+1],count)\n",
    "    return count"
   ]
  },
  {
   "cell_type": "code",
   "execution_count": 6,
   "metadata": {},
   "outputs": [
    {
     "data": {
      "text/plain": [
       "8"
      ]
     },
     "execution_count": 6,
     "metadata": {},
     "output_type": "execute_result"
    }
   ],
   "source": [
    "P = [+3,+4,+5,-12,-8,-7,-6,+1,+2,+10,+9,-11,+13,+14]\n",
    "BreakpointCount(P)"
   ]
  },
  {
   "cell_type": "markdown",
   "metadata": {},
   "source": [
    "### Genome Graph rearrangement"
   ]
  },
  {
   "cell_type": "markdown",
   "metadata": {},
   "source": [
    "Chromosome = [+1,+2,-3] representation\n",
    "cycle = [1,2,3,4,6,5] representation"
   ]
  },
  {
   "cell_type": "code",
   "execution_count": 10,
   "metadata": {},
   "outputs": [],
   "source": [
    "def ChromosomeToCycle(Chromosome: List[int]) -> List[int]:\n",
    "    Nodes = [0 for _ in range(2*len(Chromosome)+1)]\n",
    "    for j in range(1,len(Chromosome)+1):\n",
    "        i = Chromosome[j-1] #synteny block identity\n",
    "        #print(j,i)\n",
    "        if i>0: #synteny block pointing to the right\n",
    "            Nodes[2*j-1] = 2*i-1\n",
    "            Nodes[2*j] = 2*i\n",
    "        else: #pointing to the left\n",
    "            Nodes[2*j-1] = -2*i\n",
    "            Nodes[2*j] = -2*i-1\n",
    "        #print(Nodes)\n",
    "    return Nodes[1:]"
   ]
  },
  {
   "cell_type": "code",
   "execution_count": 122,
   "metadata": {},
   "outputs": [
    {
     "name": "stdout",
     "output_type": "stream",
     "text": [
      "1 1\n",
      "[0, 1, 2, 0, 0, 0, 0, 0, 0]\n",
      "2 -2\n",
      "[0, 1, 2, 4, 3, 0, 0, 0, 0]\n",
      "3 -3\n",
      "[0, 1, 2, 4, 3, 6, 5, 0, 0]\n",
      "4 4\n",
      "[0, 1, 2, 4, 3, 6, 5, 7, 8]\n"
     ]
    },
    {
     "data": {
      "text/plain": [
       "[1, 2, 4, 3, 6, 5, 7, 8]"
      ]
     },
     "execution_count": 122,
     "metadata": {},
     "output_type": "execute_result"
    }
   ],
   "source": [
    "ChromosomeToCycle([1,-2,-3,4])"
   ]
  },
  {
   "cell_type": "code",
   "execution_count": 9,
   "metadata": {},
   "outputs": [],
   "source": [
    "def CycleToChromosome(Nodes: List[int]) -> List[int]:\n",
    "    Chromosome = [0 for _ in range(int(len(Nodes)/2)+1)] #block = half number of edges (always even)\n",
    "    Nodes = [0]+Nodes\n",
    "    for j in range(1,int(len(Nodes)/2+1)):\n",
    "        if Nodes[2*j-1] < Nodes[2*j]: #if pointing to the right (3,4)\n",
    "            Chromosome[j] =int(Nodes[2*(j)]/2)\n",
    "        else: #if pointing to the left (4,3)\n",
    "            Chromosome[j] = int(-Nodes[2*j-1]/2)\n",
    "        #print(Chromosome)\n",
    "    return Chromosome[1:]"
   ]
  },
  {
   "cell_type": "code",
   "execution_count": 296,
   "metadata": {},
   "outputs": [
    {
     "name": "stdout",
     "output_type": "stream",
     "text": [
      "[0, 4, 0, 0]\n",
      "[0, 4, 6, 0]\n",
      "[0, 4, 6, -5]\n"
     ]
    },
    {
     "data": {
      "text/plain": [
       "[4, 6, -5]"
      ]
     },
     "execution_count": 296,
     "metadata": {},
     "output_type": "execute_result"
    }
   ],
   "source": [
    "CycleToChromosome([7,9,10,12,11,8])"
   ]
  },
  {
   "cell_type": "markdown",
   "metadata": {},
   "source": [
    "ColoredEdges(P)\n",
    "     Edges ← an empty set\n",
    "     for each chromosome Chromosome in P\n",
    "          Nodes ← ChromosomeToCycle(Chromosome)\n",
    "          for j ← 1 to |Chromosome|\n",
    "               add the edge (Nodes2j, Nodes2j +1) to Edges\n",
    "     return Edges"
   ]
  },
  {
   "cell_type": "code",
   "execution_count": 16,
   "metadata": {},
   "outputs": [],
   "source": [
    "                    #list of list\n",
    "def ColoredEdges(P: List[List[int]]) -> List[Tuple[int, int]]:\n",
    "    Edges = []\n",
    "    for chromosome in P:\n",
    "        print(chromosome)\n",
    "        Nodes = ChromosomeToCycle(chromosome)\n",
    "        Nodes = [0]+Nodes   \n",
    "        print('Nodes',Nodes)\n",
    "        for j in range(1,len(chromosome)+1):\n",
    "            if (2*j+1) < len(Nodes):\n",
    "                Edges.append((Nodes[2*j],Nodes[2*j+1]))\n",
    "            else: #edge case for looping back edge\n",
    "                Edges.append((Nodes[2*j],Nodes[1]))\n",
    "    return Edges"
   ]
  },
  {
   "cell_type": "code",
   "execution_count": 17,
   "metadata": {},
   "outputs": [
    {
     "name": "stdout",
     "output_type": "stream",
     "text": [
      "[1, -2, -3]\n",
      "Nodes [0, 1, 2, 4, 3, 6, 5]\n",
      "[4, 5, -6]\n",
      "Nodes [0, 7, 8, 9, 10, 12, 11]\n"
     ]
    },
    {
     "data": {
      "text/plain": [
       "[(2, 4), (3, 6), (5, 1), (8, 9), (10, 12), (11, 7)]"
      ]
     },
     "execution_count": 17,
     "metadata": {},
     "output_type": "execute_result"
    }
   ],
   "source": [
    "ColoredEdges([[+1,-2,-3],[+4,+5,-6]])"
   ]
  },
  {
   "cell_type": "markdown",
   "metadata": {},
   "source": [
    "#### Two break distance"
   ]
  },
  {
   "cell_type": "markdown",
   "metadata": {},
   "source": [
    "a 2-break applied to a multichromosomal genome P can increase Cycles(P, Q) by at most 1\n",
    "The 2-break distance between genomes P and Q is equal to Blocks(P, Q)− Cycles(P, Q)"
   ]
  },
  {
   "cell_type": "code",
   "execution_count": 236,
   "metadata": {},
   "outputs": [],
   "source": [
    "def find_disconnected_components(edges):\n",
    "    # Build the adjacency list for the graph\n",
    "    graph = {}\n",
    "    for u, v in edges:\n",
    "        if u not in graph:\n",
    "            graph[u] = []\n",
    "        if v not in graph:\n",
    "            graph[v] = []\n",
    "        graph[u].append(v)\n",
    "        graph[v].append(u)  # Since the graph is undirected\n",
    "\n",
    "    visited = set()\n",
    "    disconnected_components = []\n",
    "\n",
    "    def dfs_iterative(start_vertex):\n",
    "        stack = [start_vertex]\n",
    "        while stack:\n",
    "            vertex = stack.pop()\n",
    "            if vertex not in visited:\n",
    "                visited.add(vertex)\n",
    "                disconnected_components.append([vertex])\n",
    "                # Add unvisited neighbors to the stack\n",
    "                for neighbor in graph[vertex]:\n",
    "                    if neighbor not in visited:\n",
    "                        stack.append(neighbor)\n",
    "                        disconnected_components[0].append(neighbor)\n",
    "\n",
    "    component_count = 0\n",
    "    for vertex in graph:\n",
    "        if vertex not in visited:\n",
    "            dfs_iterative(vertex)\n",
    "            component_count += 1  # Each completed DFS call explores a new component\n",
    "\n",
    "    return component_count, disconnected_components\n"
   ]
  },
  {
   "cell_type": "code",
   "execution_count": 202,
   "metadata": {},
   "outputs": [],
   "source": [
    "def blocks(P: List[List[int]], Q: List[List[int]])-> int: #returns num synteny blocks in P and Q\n",
    "    print([len(chromosome) for chromosome in P])\n",
    "    num_blocks = sum([len(chromosome) for chromosome in P])\n",
    "    return num_blocks"
   ]
  },
  {
   "cell_type": "code",
   "execution_count": 208,
   "metadata": {},
   "outputs": [],
   "source": [
    "def cycles(P: List[List[int]], Q: List[List[int]])-> int:\n",
    "    P_edges = ColoredEdges(P)\n",
    "    Q_edges = ColoredEdges(Q)\n",
    "    print(P_edges,Q_edges)\n",
    "    return find_disconnected_components(P_edges+Q_edges)\n"
   ]
  },
  {
   "cell_type": "code",
   "execution_count": 190,
   "metadata": {},
   "outputs": [],
   "source": [
    "def TwoBreakDistance(P: List[List[int]], Q: List[List[int]]) -> int:\n",
    "    return blocks(P,Q)-cycles(P,Q)"
   ]
  },
  {
   "cell_type": "code",
   "execution_count": 209,
   "metadata": {},
   "outputs": [
    {
     "name": "stdout",
     "output_type": "stream",
     "text": [
      "[4]\n",
      "[1, -2, -3, 4]\n",
      "Nodes [0, 1, 2, 4, 3, 6, 5, 7, 8]\n",
      "[1, 3, 2, -4]\n",
      "Nodes [0, 1, 2, 5, 6, 3, 4, 8, 7]\n",
      "[(2, 4), (3, 6), (5, 7), (8, 1)] [(2, 5), (6, 3), (4, 8), (7, 1)]\n"
     ]
    },
    {
     "data": {
      "text/plain": [
       "2"
      ]
     },
     "execution_count": 209,
     "metadata": {},
     "output_type": "execute_result"
    }
   ],
   "source": [
    "P = [[1,-2,-3,4]]\n",
    "Q = [[1,3,2,-4]]\n",
    "TwoBreakDistance(P,Q)"
   ]
  },
  {
   "cell_type": "code",
   "execution_count": null,
   "metadata": {},
   "outputs": [],
   "source": [
    "def detectGraphCycles(genomeEdges: List[Tuple[int, int]], blackEdges: List[Tuple[int, int]]):\n",
    "    # Initialize mappings for direct and inverse edges for both edge types\n",
    "    coloredEdgesMap, blackEdgesMap, reverseColoredEdgesMap, reverseBlackEdgesMap = createEdgeMaps(genomeEdges, blackEdges)\n",
    "    \n",
    "    visitedNodes = set()  # Keeps track of nodes visited during DFS to prevent loops\n",
    "    detectedCycles = []   # Stores the cycles detected in the graph\n",
    "\n",
    "    def depthFirstSearch(startNode, currentNode, currentPath, isFollowingColoredEdges):\n",
    "        # Check if the current node has been visited to possibly identify a cycle\n",
    "        if currentNode in visitedNodes:\n",
    "            if currentNode == startNode:\n",
    "                # A cycle is detected; add it to the list excluding the redundant current node\n",
    "                detectedCycles.append(currentPath[:-1])\n",
    "            return\n",
    "        visitedNodes.add(currentNode)  # Mark the current node as visited\n",
    "        \n",
    "        # Determine the next nodes to explore based on the edge type currently being followed\n",
    "        nextNodes = []\n",
    "        edgeMaps = (coloredEdgesMap, reverseColoredEdgesMap) if isFollowingColoredEdges else (blackEdgesMap, reverseBlackEdgesMap)\n",
    "        for edgeMap in edgeMaps:\n",
    "            nextNodes.extend(edgeMap.get(currentNode, []))\n",
    "        \n",
    "        # Iterate over the next nodes, alternately following colored and black edges\n",
    "        for nextNode in nextNodes:\n",
    "            depthFirstSearch(startNode, nextNode, currentPath + [nextNode], not isFollowingColoredEdges)\n",
    "\n",
    "    # Initiate DFS from every unique node, starting with colored edges\n",
    "    allNodes = set(coloredEdgesMap.keys()) | set(blackEdgesMap.keys())\n",
    "    for node in allNodes:\n",
    "        if node not in visitedNodes:\n",
    "            depthFirstSearch(node, node, [node], True)  # True signifies starting with colored edges\n",
    "\n",
    "    return detectedCycles\n"
   ]
  },
  {
   "cell_type": "code",
   "execution_count": 212,
   "metadata": {},
   "outputs": [
    {
     "name": "stdout",
     "output_type": "stream",
     "text": [
      "[6]\n",
      "[1, 2, 3, 4, 5, 6]\n",
      "Nodes [0, 1, 2, 3, 4, 5, 6, 7, 8, 9, 10, 11, 12]\n",
      "[1, -3, -6, -5]\n",
      "Nodes [0, 1, 2, 6, 5, 12, 11, 10, 9]\n",
      "[2, -4]\n",
      "Nodes [0, 3, 4, 8, 7]\n",
      "[(2, 3), (4, 5), (6, 7), (8, 9), (10, 11), (12, 1)] [(2, 6), (5, 12), (11, 10), (9, 1), (4, 8), (7, 3)]\n"
     ]
    },
    {
     "data": {
      "text/plain": [
       "3"
      ]
     },
     "execution_count": 212,
     "metadata": {},
     "output_type": "execute_result"
    }
   ],
   "source": [
    "P = [[+1,+2,+3,+4,+5,+6]]\n",
    "Q = [[+1,-3,-6,-5],[2,-4]]\n",
    "TwoBreakDistance(P,Q)"
   ]
  },
  {
   "cell_type": "markdown",
   "metadata": {},
   "source": [
    "2-Break Sorting Problem: Find a shortest transformation of one genome into another by 2-breaks.\n",
    "\n",
    "Input: Two genomes with circular chromosomes on the same set of synteny blocks.\n",
    "Output: The sequence of genomes resulting from applying a shortest sequence of 2-breaks transforming one genome into the other."
   ]
  },
  {
   "cell_type": "code",
   "execution_count": 349,
   "metadata": {},
   "outputs": [],
   "source": [
    "from typing import List, Dict, Iterable, Tuple\n",
    "\n",
    "def TwoBreakOnGenome(P: List[int],\n",
    "                     i1: int, i2: int, i3: int, i4: int) -> List[List[int]]:\n",
    "    GenomeGraph = ColoredEdges(P)\n",
    "    black_edges = BlackEdges(P)\n",
    "\n",
    "    print('GenomeGraph',GenomeGraph)\n",
    "    GenomeGraph =TwoBreakOnGenomeGraph(GenomeGraph,i1,i2,i3,i4)\n",
    "    \n",
    "    print('new GenomeGraph', GenomeGraph)\n",
    "    print('BlackEdges',black_edges)\n",
    "    P = GraphToGenome(GenomeGraph,black_edges)\n",
    "    return P\n",
    "\n",
    "genome_graph_t = List[Tuple[int, int]]\n",
    "def TwoBreakOnGenomeGraph(GenomeGraph: genome_graph_t,\n",
    "                          i1: int, i2: int, i3: int, i4: int) -> genome_graph_t:\n",
    "    for edge in GenomeGraph[:]: #iterating over copy of Genome graph so remove edge doesn't mess up iteration\n",
    "        if edge in [(i1,i2),(i2,i1),(i3,i4),(i4,i3)]:\n",
    "            GenomeGraph.remove(edge)\n",
    "    GenomeGraph.append((i1,i3))\n",
    "    GenomeGraph.append((i2,i4))\n",
    "    return GenomeGraph\n",
    "\n",
    "def CycleToChromosome(Nodes: List[int]) -> List[int]:\n",
    "    Chromosome = [0 for _ in range(int(len(Nodes)/2)+1)]\n",
    "    Nodes = [0]+Nodes\n",
    "    for j in range(1,int(len(Nodes)/2+1)):\n",
    "        if Nodes[2*j-1] < Nodes[2*j]:\n",
    "            Chromosome[j] =int(Nodes[2*(j)]/2)\n",
    "        else:\n",
    "            Chromosome[j] = int(-Nodes[2*j-1]/2)\n",
    "        #print(Chromosome)\n",
    "    return Chromosome[1:]\n",
    "def ColoredEdges(P: List[List[int]]) -> List[Tuple[int, int]]:\n",
    "    Edges = []\n",
    "    for chromosome in P:\n",
    "        #print(chromosome)\n",
    "        Nodes = ChromosomeToCycle(chromosome)\n",
    "        Nodes = [0]+Nodes   \n",
    "        #print('Nodes',Nodes)\n",
    "        for j in range(1,len(chromosome)+1):\n",
    "            if (2*j+1) < len(Nodes):\n",
    "                Edges.append((Nodes[2*j],Nodes[2*j+1]))\n",
    "            else:\n",
    "                Edges.append((Nodes[2*j],Nodes[1]))\n",
    "    return Edges\n",
    "def BlackEdges(P: List[List[int]]) -> List[Tuple[int, int]]:\n",
    "    Edges = []\n",
    "    for chromosome in P:\n",
    "        Nodes = ChromosomeToCycle(chromosome)\n",
    "\n",
    "        for i in range(0,len(Nodes)-1,2):\n",
    "            Edges.append((Nodes[i],Nodes[i+1]))\n",
    "\n",
    "    return Edges\n",
    "\n",
    "def ChromosomeToCycle(Chromosome: List[int]) -> List[int]:\n",
    "    Nodes = [0 for _ in range(2*len(Chromosome)+1)]\n",
    "    for j in range(1,len(Chromosome)+1):\n",
    "        i = Chromosome[j-1]\n",
    "        #print(j,i)\n",
    "        print('i',i,j,Chromosome)\n",
    "        if i>0:\n",
    "            Nodes[2*j-1] = 2*i-1\n",
    "            Nodes[2*j] = 2*i\n",
    "        else:\n",
    "            Nodes[2*j-1] = -2*i\n",
    "            Nodes[2*j] = -2*i-1\n",
    "        #print(Nodes)\n",
    "    return Nodes[1:]\n",
    "def GraphToGenome(GenomeGraph: List[Tuple[int, int]],black_edges:List[Tuple[int, int]]) -> List[List[int]]:\n",
    "    P = []\n",
    "    for cycle in findCyclesInGraph(GenomeGraph,black_edges):\n",
    "        print(cycle)\n",
    "        Chromosome = CycleToChromosome(cycle)\n",
    "        P.append(Chromosome)\n",
    "    return P\n",
    "def findCyclesInGraph(GenomeGraph: List[Tuple[int, int]], black_edges: List[Tuple[int, int]]):\n",
    "    # Generate dictionaries for efficient edge lookups\n",
    "    Colored_dict, Black_dict, R_Black_dict, R_Colored_dict = Genome_dict(GenomeGraph, black_edges)\n",
    "    \n",
    "    visited = set()  # Keep track of visited nodes to avoid revisiting\n",
    "    cycles = []      # Store the cycles found\n",
    "\n",
    "    def dfs(start, curr, path, is_colored_edge):\n",
    "        nonlocal cycles\n",
    "        if curr in visited:\n",
    "            if curr == start:\n",
    "                cycles.append(path[:-1])  # Found a cycle, append a copy of the path\n",
    "            return\n",
    "        visited.add(curr)\n",
    "        \n",
    "        # Determine the next node based on the current edge type\n",
    "        next_nodes = []\n",
    "        if is_colored_edge:\n",
    "            if curr in Colored_dict:\n",
    "                next_nodes.append(Colored_dict[curr])\n",
    "            if curr in R_Colored_dict:\n",
    "                next_nodes.append(R_Colored_dict[curr])\n",
    "        else:\n",
    "            if curr in Black_dict:\n",
    "                next_nodes.append(Black_dict[curr])\n",
    "            if curr in R_Black_dict:\n",
    "                next_nodes.append(R_Black_dict[curr])\n",
    "        \n",
    "        for next_node in next_nodes:\n",
    "            dfs(start, next_node, path + [next_node], not is_colored_edge)  # Alternate edge type\n",
    "\n",
    "    # Start DFS from each node not yet visited\n",
    "    for node in list(Black_dict.keys()) + list(Colored_dict.keys()):\n",
    "        if node not in visited:\n",
    "            dfs(node, node, [node], False)  # Start with black edges\n",
    "\n",
    "    return cycles\n",
    "def Genome_dict(GenomeGraph: List[Tuple[int, int]],black_edges:List[Tuple[int, int]]):\n",
    "    black_dict = {}\n",
    "    reverse_black_dict = {}\n",
    "    colored_dict = {}\n",
    "    reverse_colored_dict = {}\n",
    "    for edge in GenomeGraph:\n",
    "        a,b = edge\n",
    "        colored_dict[a]=b\n",
    "        reverse_colored_dict[b]=a\n",
    "    for edge in black_edges:\n",
    "        a,b = edge\n",
    "        black_dict[a]=b\n",
    "        reverse_black_dict[b]=a\n",
    "    return colored_dict,black_dict,reverse_black_dict,reverse_colored_dict"
   ]
  },
  {
   "cell_type": "markdown",
   "metadata": {},
   "source": [
    "## Shared K mers (creating synteny blocks)"
   ]
  },
  {
   "cell_type": "code",
   "execution_count": null,
   "metadata": {},
   "outputs": [],
   "source": [
    "def reverse_complement(pattern: str) -> str:\n",
    "    complement = {'A': 'T', 'T': 'A', 'G': 'C', 'C': 'G'}\n",
    "    return ''.join(complement[char] for char in reversed(pattern))\n",
    "\n",
    "def SharedKMers(k: int, s: str, t: str) -> List[Tuple[int, int]]:\n",
    "    # Dictionary to store k-mers from s and their positions\n",
    "    s_kmers = {}\n",
    "    for i in range(len(s) - k + 1): #kmers in s and their indices\n",
    "        kmer = s[i:i+k]\n",
    "        if kmer not in s_kmers:\n",
    "            s_kmers[kmer] = []\n",
    "        s_kmers[kmer].append(i)\n",
    "    \n",
    "    # Pre-compute reverse complement of t\n",
    "    t_rev = reverse_complement(t)\n",
    "    \n",
    "    red_coordinates = []\n",
    "    blue_coordinates = []\n",
    "    \n",
    "    for j in range(len(t) - k + 1): #traversing through t and rev_comp_t\n",
    "        t_kmer = t[j:j+k]\n",
    "        t_kmer_rev = t_rev[len(t) - k - j: len(t) - j]\n",
    "        \n",
    "        # Check direct matches\n",
    "        if t_kmer in s_kmers:\n",
    "            for i in s_kmers[t_kmer]:\n",
    "                red_coordinates.append((i, j))\n",
    "        \n",
    "        # Check reverse complement matches\n",
    "        if t_kmer_rev in s_kmers:\n",
    "            for i in s_kmers[t_kmer_rev]:\n",
    "                blue_coordinates.append((i, j))\n",
    "                \n",
    "    return red_coordinates + blue_coordinates"
   ]
  },
  {
   "cell_type": "markdown",
   "metadata": {},
   "source": [
    "hamming distance with shared kmers"
   ]
  },
  {
   "cell_type": "code",
   "execution_count": 19,
   "metadata": {},
   "outputs": [],
   "source": [
    "def hamming_distance(p: str, q: str) -> int: #1.8.1\n",
    "    if len(p)!=len(q):\n",
    "        return -1\n",
    "    ham_count = 0\n",
    "    for i in range(0,len(p)):\n",
    "        if p[i]!=q[i]:\n",
    "            ham_count+=1\n",
    "    \n",
    "    return ham_count"
   ]
  },
  {
   "cell_type": "code",
   "execution_count": 21,
   "metadata": {},
   "outputs": [],
   "source": [
    "def kmer_approx_match(t_kmer:str,s_kmers:List[str],d:int)->List[int]:\n",
    "    match_kmers = []\n",
    "    for s_kmer in s_kmers:\n",
    "        if hamming_distance(t_kmer,s_kmer)<=d:\n",
    "            match_kmers.append(t_kmer)\n",
    "    return match_kmers\n"
   ]
  },
  {
   "cell_type": "code",
   "execution_count": null,
   "metadata": {},
   "outputs": [],
   "source": [
    "def Shared_Approx_Kmers(k:int,s:str,t:str,):\n",
    "    # Dictionary to store k-mers from s and their positions\n",
    "    s_kmers = {}\n",
    "    for i in range(len(s) - k + 1): #kmers in s and their indices\n",
    "        kmer = s[i:i+k]\n",
    "        if kmer not in s_kmers:\n",
    "            s_kmers[kmer] = []\n",
    "        s_kmers[kmer].append(i)\n",
    "    \n",
    "    # Pre-compute reverse complement of t\n",
    "    t_rev = reverse_complement(t)\n",
    "    \n",
    "    red_coordinates = []\n",
    "    blue_coordinates = []\n",
    "    \n",
    "    for j in range(len(t) - k + 1): #traversing through t and rev_comp_t\n",
    "        t_kmer = t[j:j+k]\n",
    "        t_kmer_rev = t_rev[len(t) - k - j: len(t) - j]\n",
    "        \n",
    "        if kmer_approx_match\n",
    "        # Check direct matches\n",
    "        if t_kmer in s_kmers:\n",
    "            for i in s_kmers[t_kmer]:\n",
    "                red_coordinates.append((i, j))\n",
    "        \n",
    "        # Check reverse complement matches\n",
    "        if t_kmer_rev in s_kmers:\n",
    "            for i in s_kmers[t_kmer_rev]:\n",
    "                blue_coordinates.append((i, j))\n",
    "                \n",
    "    return red_coordinates + blue_coordinates"
   ]
  }
 ],
 "metadata": {
  "kernelspec": {
   "display_name": "testpy3",
   "language": "python",
   "name": "python3"
  },
  "language_info": {
   "codemirror_mode": {
    "name": "ipython",
    "version": 3
   },
   "file_extension": ".py",
   "mimetype": "text/x-python",
   "name": "python",
   "nbconvert_exporter": "python",
   "pygments_lexer": "ipython3",
   "version": "3.9.10"
  }
 },
 "nbformat": 4,
 "nbformat_minor": 2
}
