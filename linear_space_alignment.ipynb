{
 "cells": [
  {
   "cell_type": "code",
   "execution_count": 1,
   "metadata": {},
   "outputs": [],
   "source": [
    "from typing import List, Dict, Iterable, Tuple\n",
    "import numpy as np"
   ]
  },
  {
   "cell_type": "code",
   "execution_count": 169,
   "metadata": {},
   "outputs": [],
   "source": [
    "def GlobalAlignment_backtrack(match_reward: int, mismatch_penalty: int, indel_penalty: int, s: str, t: str) -> Tuple[int, str, str]:\n",
    "# Initialize the score matrix with zeros and set up the backtrack matrix\n",
    "    m = [[0] * (len(t) + 1) for _ in range(len(s) + 1)]\n",
    "    backtrack = [[None] * (len(t) + 1) for _ in range(len(s) + 1)]\n",
    "    \n",
    "    # Initialize the first row and column of the score matrix\n",
    "    for i in range(len(s) + 1):\n",
    "        m[i][0] = i * -indel_penalty\n",
    "    for j in range(len(t) + 1):\n",
    "        m[0][j] = j * -indel_penalty\n",
    "    \n",
    "    # Fill the score matrix and the backtrack matrix\n",
    "    for i in range(1, len(s) + 1):\n",
    "        for j in range(1, len(t) + 1):\n",
    "            if s[i - 1] == t[j - 1]:\n",
    "                match_score = m[i - 1][j - 1] + match_reward\n",
    "            else:\n",
    "                match_score = m[i - 1][j - 1] - mismatch_penalty\n",
    "\n",
    "            delete_score = m[i - 1][j] - indel_penalty\n",
    "            insert_score = m[i][j - 1] - indel_penalty\n",
    "            \n",
    "            m[i][j] = max(match_score, delete_score, insert_score)\n",
    "            if m[i][j] == delete_score:\n",
    "                backtrack[i][j] = 'up'\n",
    "            elif m[i][j] == insert_score:\n",
    "                backtrack[i][j] = 'left'\n",
    "            elif m[i][j] == match_score:\n",
    "                backtrack[i][j] = 'diag'\n",
    "            \n",
    "    return m,backtrack"
   ]
  },
  {
   "cell_type": "code",
   "execution_count": 168,
   "metadata": {},
   "outputs": [],
   "source": [
    "def middle_col_score(match_reward,mismatch_penalty,indel_penalty,v,w):\n",
    "    mid = len(w)//2\n",
    "    m = GlobalAlignment_backtrack(match_reward,mismatch_penalty,indel_penalty,v,w[:mid])[0]\n",
    "    #print(m)\n",
    "    mid_col_source = [row[-1] for row in m]\n",
    "    del m\n",
    "    m,backtrack = GlobalAlignment_backtrack(match_reward,mismatch_penalty,indel_penalty,v[::-1],w[mid:][::-1])\n",
    "    mid_col_sink = [row[-1] for row in m][::-1]\n",
    "    mid_backtrack = [row[-1] for row in backtrack][::-1]\n",
    "    del m,backtrack\n",
    "    score = [x+y for x,y in zip(mid_col_source,mid_col_sink)]\n",
    "    #print('source:',mid_col_source,'sink:',mid_col_sink,'final mid score:',score,'backtrack',mid_backtrack)\n",
    "    return score,mid_backtrack"
   ]
  },
  {
   "cell_type": "code",
   "execution_count": 167,
   "metadata": {},
   "outputs": [],
   "source": [
    "def middle_edge(match_reward:int,mismatch_penalty:int,indel_penalty:int,v:str,w:str):\n",
    "    scores,backtrack = middle_col_score(match_reward,mismatch_penalty,indel_penalty,v,w)\n",
    "    max_middle = max(range(len(scores)), key=lambda i: scores[i])\n",
    "    #print(scores[max_middle])\n",
    "    return max_middle,backtrack[max_middle]"
   ]
  },
  {
   "cell_type": "code",
   "execution_count": 166,
   "metadata": {},
   "outputs": [],
   "source": [
    "def alignment_score(match_reward,mismatch_penalty,indel_penalty,v,w):\n",
    "    scores = middle_col_score(match_reward,mismatch_penalty,indel_penalty,v,w)[0]\n",
    "    max_middle = max(range(len(scores)), key=lambda i: scores[i])\n",
    "    return scores[max_middle]"
   ]
  },
  {
   "cell_type": "code",
   "execution_count": 173,
   "metadata": {},
   "outputs": [],
   "source": [
    "def linear_space_alignment(match_reward:int,mismatch_penalty:int,indel_penalty:int,v:str,w:str,top:int,bottom:int,left:int,right:int):\n",
    "    if left == right:\n",
    "        return v[top:bottom], '-'*(bottom - top)\n",
    "    elif top == bottom:\n",
    "        return '-'*(right - left), w[left:right]\n",
    "    else:\n",
    "        mid_x = (left+right)//2\n",
    "        mid_y,direction = middle_edge(match_reward,mismatch_penalty,indel_penalty,v[top:bottom],w[left:right])\n",
    "        mid_y+=top\n",
    "        left_v,left_w=linear_space_alignment(match_reward,mismatch_penalty,indel_penalty,v,w,top,mid_y,left,mid_x)\n",
    "        if direction=='left':\n",
    "            mid_v='-'\n",
    "            mid_w=w[mid_x]\n",
    "            mid_x+=1\n",
    "        elif direction=='diag':\n",
    "            mid_v=v[mid_y]\n",
    "            mid_w = w[mid_x]\n",
    "            mid_x+=1\n",
    "            mid_y+=1\n",
    "        elif direction=='up':\n",
    "            mid_v=v[mid_y]\n",
    "            mid_w='-'\n",
    "            mid_y+=1\n",
    "        else:\n",
    "            mid_v=''\n",
    "            mid_w=''\n",
    "        right_v,right_w = linear_space_alignment(match_reward,mismatch_penalty,indel_penalty,v,w,mid_y,bottom,mid_x,right)\n",
    "        align_v = left_v+mid_v+right_v\n",
    "        align_w = left_w+mid_w+right_w\n",
    "        return align_v,align_w"
   ]
  },
  {
   "cell_type": "code",
   "execution_count": 164,
   "metadata": {},
   "outputs": [],
   "source": [
    "def linear_space_alignment_call(match_reward,mismatch_penalty,indel_penalty,v,w):\n",
    "    align_v,align_w = linear_space_alignment(match_reward,mismatch_penalty,indel_penalty,v,w,0,len(v),0,len(w))\n",
    "    score = alignment_score(match_reward,mismatch_penalty,indel_penalty,v,w)\n",
    "    return score,align_v,align_w"
   ]
  },
  {
   "cell_type": "code",
   "execution_count": 187,
   "metadata": {},
   "outputs": [
    {
     "data": {
      "text/plain": [
       "('GAGA', 'GA-T')"
      ]
     },
     "execution_count": 187,
     "metadata": {},
     "output_type": "execute_result"
    }
   ],
   "source": [
    "linear_space_alignment_row(1,1,2,'GAGA','GAT',0,4,0,3)"
   ]
  },
  {
   "cell_type": "code",
   "execution_count": 183,
   "metadata": {},
   "outputs": [
    {
     "data": {
      "text/plain": [
       "(2, 'left')"
      ]
     },
     "execution_count": 183,
     "metadata": {},
     "output_type": "execute_result"
    }
   ],
   "source": [
    "middle_edge(1,1,2,'GAT','GAGA')"
   ]
  },
  {
   "cell_type": "code",
   "execution_count": 182,
   "metadata": {},
   "outputs": [
    {
     "name": "stdout",
     "output_type": "stream",
     "text": [
      "([-4, -3, -1, -4], ['diag', 'diag', 'up', None])\n"
     ]
    },
    {
     "data": {
      "text/plain": [
       "(2, 'up')"
      ]
     },
     "execution_count": 182,
     "metadata": {},
     "output_type": "execute_result"
    }
   ],
   "source": [
    "print(middle_row_score(1,1,2,'GAGA','GAT'))\n",
    "\n",
    "middle_row_edge(1,1,2,'GAGA','GAT')\n"
   ]
  },
  {
   "cell_type": "code",
   "execution_count": 174,
   "metadata": {},
   "outputs": [
    {
     "data": {
      "text/plain": [
       "(-310,\n",
       " 'TCCTGTTCTGCTAGGGGTGGGGCTTCGGGAATACTTACCGGATTGCCTTTTAGTATACGCAAACTCACCACGATCGATGTCTGTAATAGTACAGCCAGTTTCACATCACTCTCTGGGAGCTTTGGATATCCCTCTCGTAACGATGCGACAGCTTACCTTGGAACCTGGGCGATATAGGGTCAAGCGTTATTGTGCTTAGGACATCTCCTACAGGTAACTATCAGTTCTCATTCGGTCCTATGCTCCCTGCAACCTGAAGCAAGTATGTAAGTCCACGGTCATTGGTGCCGCATGC-A-CGGACGTGCTTAAGTTACCACGTTCT-ACTTTGTATGAC-CCA-GGAGTGCAAGCCTACGGTC--ATTAGTATGGCACCGAGTGAGTAGTGTTGCTCTCCGTGAGCTTTCGATGACACTACACCTCGTGCGTGATTTCGTTGGCCCCTGGTCCGTACGGTACCCGTT-AAAC-TATGGCCACT--TTATGCGCTGCCGAAGTGGTCT--CACTACGTGGTTTAGTTGCATGAGGGACAGGCAATTGGCTTCGTTAATAGGGAATGCATACTAGAGTGCTTCCTCGCCACGAGGCACATTCCAAGGGAGAGCCCAGTAGCGGACAGAATTGCTAATTCCTGCACGCTACGACTC-TCGCGGCCTGGGATGCTTAGCTATCGGCCCGTGGACTGAT-TACTCGCT-GCTTAGCGGCCAGCGGATAGTCTCCGCGCAGTAGACCGCGAGATCCAGGCAGTAGTTTGCATTAGAATTTT-GCGTAAGGATTGGATTAAGAGCCGAATCATCCCATATCCCGGGTATCAGA-ACATG-TTGCTCG--CACGAC-GCATTCGCGCAAATTCTTGTCACCGAGGCCATGGGA-TGTTTCAAATTACCTTTCATGTCTCTGAAGCGGGATGCATTACATACGTTCCAAAAACACGAC-TTCCGACTCGCCGCGCCGCACCGCTAATGGGTGATGGTCAAGTCCGCCGAATGTAGTCCTCATGCGGCAAC-C--CACACTAC-CCCGTGCATT-CGT--TCC-ACGTCCAATTC--G---GAA-C-CC-ATCCTAAGGGTGGTAACCTCACCTGTGGTGTCCAGCGGCACGCCCAGAACCTGGGCACCAATATAAACTGCAGA--CC-A--TATTAAGTCCCCTGTTCAGCCTGAACCTGATCTTGGTAGACTCGGAGGTCAACGGC-TATGTTCAATGC-GCTATCTTAGTCTCCTATGGCGCGTTGCTGGCCAATCTAGCGAAAAAGGGGTACGGGATGGCTGATATTTATGTGGGTCTT-G-GCA-GGTGTGACC-GAGGT-TACCTCTC-CGGATGTACAAGCAAATATCTGCTTGGAAAAGGCTTTAGA-GCCGTTAT-CTATTGCTGTCCGCACCAGGGCGCGTTTCATAGCGGATGCAGTTGTTACGTCAACCACTGGCGTAACTTAGTGTT-GGACCAATGCGCATTG-AACA-TGTTCCCG--GCCCAATATG-ACTTACC-TCCCACGGAGTCTTCCAATTCAGGGTCCCTAGCTCCTACATTTCC-GCGTAAGCCGGTGCAGGATCCGTACTTTTCCCGTGTGAGCCTATGACAACCATAAATCATCAACGCGCGGCAGTGTGTGGTAGTAGTTGA--ACTTGCGTGG-CGATACCGGAAAAGGGAGC-ATGGTATAATACTACAGTAC-A-CCGAGTAGTTTTCAGAGATGCCTTAGATAAA-ACT-C-ACACGATC-CCCCGCGGACCGTGCTGGTCGTGGT-GTCGTGTCT--GTGGCAACAAC-T-CT--CGC--G--CT-GTGCGC-GGGT-TGCTAGGTTACATC--CTCCAGTGGGGTGGTGTAGTC---GT-TTG-CTCGCTCAG----T',\n",
       " 'TCCCATTCTGCTATAGCTTACT-TACCGGACTGGCTTTTAGACAGACATCACGAGCCTGTAATAGTTTCAC-ATCACGCTCAGGGAGAGT-C-GACATTTT-ATATCCCTCTCA-TGA-CAATGCA-ACAGCTGGAGCTGC-A-G-AACACCTT-C-T-GCGATCTGGGCGATATAGGGTCAAGCGTTATTGTGGACA-T-C-T-ACCTACAGGTAACCATCTTCTATGATCCCTGCAACCGCAAGTAGGAATG-GTCGTATCAAC-T-CGTCCACGGTCATTGG-GCCTCATGCTAGCGTAAGTTACGAGGTACGTTCTGACTAAACGCCAACTACGGCAGGGAGTACATGCCTACATTCTTCTTAGTATGGCACCGAGGGAGTCGTTTTGAGCCTTCGATGACAACCTCGTGCGTGGAT-TCG--CTAGACGACACAGGCGTGTGGTCCGTACGGTACCCGTTAAAACTTGTAAACAATAACTATGCGCTGCCGAAGTAGTTTGCCACTACGTGGATTAGTAGCATCAGGCAATTTCAA-AGGCTTCGTTAATGCATACT--ATAGT-GCTT-CCTCGACGC-ACGAGGCACAAGG-GGTAGCGGTCAGAATTGATCTAATTCCTGCACGCTTCGGCTGCCTGGGATGCGAATCACGCTCATGCACAAGGGAGACGGCCCGTGGACTGGTGCACTGGCTCACTGAGGATAGACAGTTTAGCAGTAGACAGCTAGATCCAGGCAGTACATTAGAATTTTGCGTAAGGATTTTATTATAATAATCCCATATCCATCAGAATATCTTGCTCGCCAACTTGTCGGACGCATGCGCTCAAGTTCTTGTCACCAAAGGTCCACGGTCATCTACGTAATGGATCGTGAGTGTTTCAAATTACC-G-CAGGTCT-TGAAGCGGGATGCTTATCATACGGGCGAAAAACATAACACGACCTAACGACTCGCCGCGCCGC-ACCGGCTACTGGTCAAGTCCGCCGAATGTAGTCCTCATGCGGCAACACTACTCGCTGCATTCGTTCATTAAGTACGCCGGCCTTCAATTCGGGCCAGAACCACCTAAACTACGGGTGGTTACCTCACCTGTGGTGTCCATCGTTCGCGTCACGCGATACGCACCAATATAAACGGCAGACCCCAACTTATTAAGTCCCCTGTTCAG--TGAACTTGATCTTGGTAGACTCGGAGGTCAACGACTTTTGCGCTATCCAATTAATTTAGTCTCCCATGGCGCCAATCTAGCGCAAAAGGGGTACGAGACGGCTGTATTTCTATCCAGGGAGACCGAAATTGGCGCACCGACTCTCCGGATGTGCGCGGCTCAAGCAAATACATAGATTGGAAAGGAGGCTTCAAGCACTAGACGCCGTTATCCTCTATTCCAATTCTACTGTCCGCACCAGGGCGCAAACTCTTTTGATACGCCAGCGGATGCAGGAGTGTATTGTTACGTCAACCACTTAGTGTTGGAGTGAACAAGTTGCATTGTGTGTAAATCCCGGCCCTTGTCGACGCCGAACCTACGGAATACAGGGTCACTAGCTCCTACATGTAATAGGTAACCATCCGGGGGTGCAGCATCCGTAC-TTTTCCA-TAACAACTCATCAGATCACGGCAGTGTGTGGTAGTAGTTGACGCCTTGCCCGGATTCTTACGCTGTGCCGTCCTGCCGCGCAATACTACAGTACAAGCCCAGTATTTTTCAGAGTTGCCTTAGATAAATGCTGCGACATTAACACCAAGCTCCCCCCCCAGACCGTGTTGGTCGTCTCTGAGTGTGATTTACGTGCTGAAGCAAGAATTACTACTCTCGCTGTTCGCGGTTGAGTCGTATCCAGTGGGTTGGTGTAGTCGGAGTGGTGCCTCGCTCAGATTTT')"
      ]
     },
     "execution_count": 174,
     "metadata": {},
     "output_type": "execute_result"
    }
   ],
   "source": [
    "linear_space_alignment_call(1,1,5,'TCCTGTTCTGCTAGGGGTGGGGCTTCGGGAATACTTACCGGATTGCCTTTTAGTATACGCAAACTCACCACGATCGATGTCTGTAATAGTACAGCCAGTTTCACATCACTCTCTGGGAGCTTTGGATATCCCTCTCGTAACGATGCGACAGCTTACCTTGGAACCTGGGCGATATAGGGTCAAGCGTTATTGTGCTTAGGACATCTCCTACAGGTAACTATCAGTTCTCATTCGGTCCTATGCTCCCTGCAACCTGAAGCAAGTATGTAAGTCCACGGTCATTGGTGCCGCATGCACGGACGTGCTTAAGTTACCACGTTCTACTTTGTATGACCCAGGAGTGCAAGCCTACGGTCATTAGTATGGCACCGAGTGAGTAGTGTTGCTCTCCGTGAGCTTTCGATGACACTACACCTCGTGCGTGATTTCGTTGGCCCCTGGTCCGTACGGTACCCGTTAAACTATGGCCACTTTATGCGCTGCCGAAGTGGTCTCACTACGTGGTTTAGTTGCATGAGGGACAGGCAATTGGCTTCGTTAATAGGGAATGCATACTAGAGTGCTTCCTCGCCACGAGGCACATTCCAAGGGAGAGCCCAGTAGCGGACAGAATTGCTAATTCCTGCACGCTACGACTCTCGCGGCCTGGGATGCTTAGCTATCGGCCCGTGGACTGATTACTCGCTGCTTAGCGGCCAGCGGATAGTCTCCGCGCAGTAGACCGCGAGATCCAGGCAGTAGTTTGCATTAGAATTTTGCGTAAGGATTGGATTAAGAGCCGAATCATCCCATATCCCGGGTATCAGAACATGTTGCTCGCACGACGCATTCGCGCAAATTCTTGTCACCGAGGCCATGGGATGTTTCAAATTACCTTTCATGTCTCTGAAGCGGGATGCATTACATACGTTCCAAAAACACGACTTCCGACTCGCCGCGCCGCACCGCTAATGGGTGATGGTCAAGTCCGCCGAATGTAGTCCTCATGCGGCAACCCACACTACCCCGTGCATTCGTTCCACGTCCAATTCGGAACCCATCCTAAGGGTGGTAACCTCACCTGTGGTGTCCAGCGGCACGCCCAGAACCTGGGCACCAATATAAACTGCAGACCATATTAAGTCCCCTGTTCAGCCTGAACCTGATCTTGGTAGACTCGGAGGTCAACGGCTATGTTCAATGCGCTATCTTAGTCTCCTATGGCGCGTTGCTGGCCAATCTAGCGAAAAAGGGGTACGGGATGGCTGATATTTATGTGGGTCTTGGCAGGTGTGACCGAGGTTACCTCTCCGGATGTACAAGCAAATATCTGCTTGGAAAAGGCTTTAGAGCCGTTATCTATTGCTGTCCGCACCAGGGCGCGTTTCATAGCGGATGCAGTTGTTACGTCAACCACTGGCGTAACTTAGTGTTGGACCAATGCGCATTGAACATGTTCCCGGCCCAATATGACTTACCTCCCACGGAGTCTTCCAATTCAGGGTCCCTAGCTCCTACATTTCCGCGTAAGCCGGTGCAGGATCCGTACTTTTCCCGTGTGAGCCTATGACAACCATAAATCATCAACGCGCGGCAGTGTGTGGTAGTAGTTGAACTTGCGTGGCGATACCGGAAAAGGGAGCATGGTATAATACTACAGTACACCGAGTAGTTTTCAGAGATGCCTTAGATAAAACTCACACGATCCCCCGCGGACCGTGCTGGTCGTGGTGTCGTGTCTGTGGCAACAACTCTCGCGCTGTGCGCGGGTTGCTAGGTTACATCCTCCAGTGGGGTGGTGTAGTCGTTTGCTCGCTCAGT','TCCCATTCTGCTATAGCTTACTTACCGGACTGGCTTTTAGACAGACATCACGAGCCTGTAATAGTTTCACATCACGCTCAGGGAGAGTCGACATTTTATATCCCTCTCATGACAATGCAACAGCTGGAGCTGCAGAACACCTTCTGCGATCTGGGCGATATAGGGTCAAGCGTTATTGTGGACATCTACCTACAGGTAACCATCTTCTATGATCCCTGCAACCGCAAGTAGGAATGGTCGTATCAACTCGTCCACGGTCATTGGGCCTCATGCTAGCGTAAGTTACGAGGTACGTTCTGACTAAACGCCAACTACGGCAGGGAGTACATGCCTACATTCTTCTTAGTATGGCACCGAGGGAGTCGTTTTGAGCCTTCGATGACAACCTCGTGCGTGGATTCGCTAGACGACACAGGCGTGTGGTCCGTACGGTACCCGTTAAAACTTGTAAACAATAACTATGCGCTGCCGAAGTAGTTTGCCACTACGTGGATTAGTAGCATCAGGCAATTTCAAAGGCTTCGTTAATGCATACTATAGTGCTTCCTCGACGCACGAGGCACAAGGGGTAGCGGTCAGAATTGATCTAATTCCTGCACGCTTCGGCTGCCTGGGATGCGAATCACGCTCATGCACAAGGGAGACGGCCCGTGGACTGGTGCACTGGCTCACTGAGGATAGACAGTTTAGCAGTAGACAGCTAGATCCAGGCAGTACATTAGAATTTTGCGTAAGGATTTTATTATAATAATCCCATATCCATCAGAATATCTTGCTCGCCAACTTGTCGGACGCATGCGCTCAAGTTCTTGTCACCAAAGGTCCACGGTCATCTACGTAATGGATCGTGAGTGTTTCAAATTACCGCAGGTCTTGAAGCGGGATGCTTATCATACGGGCGAAAAACATAACACGACCTAACGACTCGCCGCGCCGCACCGGCTACTGGTCAAGTCCGCCGAATGTAGTCCTCATGCGGCAACACTACTCGCTGCATTCGTTCATTAAGTACGCCGGCCTTCAATTCGGGCCAGAACCACCTAAACTACGGGTGGTTACCTCACCTGTGGTGTCCATCGTTCGCGTCACGCGATACGCACCAATATAAACGGCAGACCCCAACTTATTAAGTCCCCTGTTCAGTGAACTTGATCTTGGTAGACTCGGAGGTCAACGACTTTTGCGCTATCCAATTAATTTAGTCTCCCATGGCGCCAATCTAGCGCAAAAGGGGTACGAGACGGCTGTATTTCTATCCAGGGAGACCGAAATTGGCGCACCGACTCTCCGGATGTGCGCGGCTCAAGCAAATACATAGATTGGAAAGGAGGCTTCAAGCACTAGACGCCGTTATCCTCTATTCCAATTCTACTGTCCGCACCAGGGCGCAAACTCTTTTGATACGCCAGCGGATGCAGGAGTGTATTGTTACGTCAACCACTTAGTGTTGGAGTGAACAAGTTGCATTGTGTGTAAATCCCGGCCCTTGTCGACGCCGAACCTACGGAATACAGGGTCACTAGCTCCTACATGTAATAGGTAACCATCCGGGGGTGCAGCATCCGTACTTTTCCATAACAACTCATCAGATCACGGCAGTGTGTGGTAGTAGTTGACGCCTTGCCCGGATTCTTACGCTGTGCCGTCCTGCCGCGCAATACTACAGTACAAGCCCAGTATTTTTCAGAGTTGCCTTAGATAAATGCTGCGACATTAACACCAAGCTCCCCCCCCAGACCGTGTTGGTCGTCTCTGAGTGTGATTTACGTGCTGAAGCAAGAATTACTACTCTCGCTGTTCGCGGTTGAGTCGTATCCAGTGGGTTGGTGTAGTCGGAGTGGTGCCTCGCTCAGATTTT')\n"
   ]
  }
 ],
 "metadata": {
  "kernelspec": {
   "display_name": "testpy3",
   "language": "python",
   "name": "python3"
  },
  "language_info": {
   "codemirror_mode": {
    "name": "ipython",
    "version": 3
   },
   "file_extension": ".py",
   "mimetype": "text/x-python",
   "name": "python",
   "nbconvert_exporter": "python",
   "pygments_lexer": "ipython3",
   "version": "3.9.10"
  }
 },
 "nbformat": 4,
 "nbformat_minor": 2
}
