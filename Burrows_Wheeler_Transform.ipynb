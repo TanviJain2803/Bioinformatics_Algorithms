{
 "cells": [
  {
   "cell_type": "code",
   "execution_count": 3,
   "metadata": {},
   "outputs": [],
   "source": [
    "import sys\n",
    "from typing import List, Dict, Iterable, Tuple"
   ]
  },
  {
   "cell_type": "code",
   "execution_count": 28,
   "metadata": {},
   "outputs": [
    {
     "name": "stdout",
     "output_type": "stream",
     "text": [
      "pre ['n', 'n', 'b', 'a', 'a', '$']\n",
      "['$', 'a', 'a', 'b', 'n', 'n']\n",
      "pre ['n$', 'na', 'ba', 'ab', 'an', '$n']\n",
      "['$n', 'ab', 'an', 'ba', 'n$', 'na']\n",
      "pre ['n$n', 'nab', 'ban', 'aba', 'an$', '$na']\n",
      "['$na', 'aba', 'an$', 'ban', 'n$n', 'nab']\n",
      "pre ['n$na', 'naba', 'ban$', 'aban', 'an$n', '$nab']\n",
      "['$nab', 'aban', 'an$n', 'ban$', 'n$na', 'naba']\n",
      "pre ['n$nab', 'naban', 'ban$n', 'aban$', 'an$na', '$naba']\n",
      "['$naba', 'aban$', 'an$na', 'ban$n', 'n$nab', 'naban']\n",
      "pre ['n$naba', 'naban$', 'ban$na', 'aban$n', 'an$nab', '$naban']\n",
      "['$naban', 'aban$n', 'an$nab', 'ban$na', 'n$naba', 'naban$']\n"
     ]
    }
   ],
   "source": [
    "transform = \"nnbaa$\"\n",
    "table = ['' for _ in transform]\n",
    "    # Step 2: Iteratively reconstruct each column of the original sorted rotations table\n",
    "for i in range(len(transform)):\n",
    "    # Prepend the BWT string to each entry (building the table column by column)\n",
    "    table = [transform[j] + table[j] for j in range(len(transform))]\n",
    "    print('pre',table)\n",
    "    # Sort the table based on the newly prepended characters\n",
    "    \n",
    "    table.sort()\n",
    "    print(table)\n",
    "\n",
    "#return table[0]"
   ]
  },
  {
   "cell_type": "code",
   "execution_count": 211,
   "metadata": {},
   "outputs": [],
   "source": [
    "def inverse_burrows_wheeler_transform(transform: str) -> str:\n",
    "    table = ['' for _ in transform]\n",
    "    for i in range(len(transform)):\n",
    "        table = [transform[j] + table[j] for j in range(len(transform))]\n",
    "        table.sort()\n",
    "    return table[0][1:]+\"$\""
   ]
  },
  {
   "cell_type": "code",
   "execution_count": 212,
   "metadata": {},
   "outputs": [
    {
     "data": {
      "text/plain": [
       "'TACATCACGT$'"
      ]
     },
     "execution_count": 212,
     "metadata": {},
     "output_type": "execute_result"
    }
   ],
   "source": [
    "inverse_burrows_wheeler_transform(\"TTCCTAACG$A\")"
   ]
  },
  {
   "cell_type": "code",
   "execution_count": 72,
   "metadata": {},
   "outputs": [
    {
     "name": "stdout",
     "output_type": "stream",
     "text": [
      "0 b\n",
      "1 a\n",
      "2 t\n"
     ]
    }
   ],
   "source": [
    "for i,char in enumerate('bat'):\n",
    "    print(i,char)"
   ]
  },
  {
   "cell_type": "code",
   "execution_count": 109,
   "metadata": {},
   "outputs": [],
   "source": [
    "def last2first(bwt:str)->List[int]:\n",
    "    first_col = sorted(bwt)\n",
    "    occur_ind_dict = {} #dict with key=symbol,val=array with ind=nth occurence(subscript) & val=ind of occur in first_col\n",
    "    count_so_far_dict = {}\n",
    "    l2f = [0 for _ in range(len(bwt))]\n",
    "    for i,char in enumerate(first_col):\n",
    "        if char not in occur_ind_dict:\n",
    "            occur_ind_dict[char]=[i]\n",
    "        else:\n",
    "            occur_ind_dict[char].append(i)\n",
    "    for i,char in enumerate(bwt):\n",
    "        if char not in count_so_far_dict:\n",
    "            count_so_far_dict[char]=0\n",
    "        else:\n",
    "            count_so_far_dict[char]+=1\n",
    "        ind = occur_ind_dict[char][count_so_far_dict[char]]\n",
    "        l2f[i]=ind\n",
    "    return l2f "
   ]
  },
  {
   "cell_type": "code",
   "execution_count": 111,
   "metadata": {},
   "outputs": [
    {
     "data": {
      "text/plain": [
       "[13, 8, 9, 12, 7, 10, 11, 1, 2, 3, 4, 5, 0, 6]"
      ]
     },
     "execution_count": 111,
     "metadata": {},
     "output_type": "execute_result"
    }
   ],
   "source": [
    "last2first('smnpbnnaaaaa$a')"
   ]
  },
  {
   "cell_type": "code",
   "execution_count": 106,
   "metadata": {},
   "outputs": [],
   "source": [
    "def bw_match_l2f(bwt:str,pattern:str,l2f:List[int])->int: #returns num occurences of pattern\n",
    "    bwt_len = len(bwt)\n",
    "    top = 0\n",
    "    bottom = bwt_len-1\n",
    "    while top<=bottom:\n",
    "        if pattern:\n",
    "            symbol = pattern[-1]\n",
    "            pattern = pattern[:-1]\n",
    "            topIndex = bwt[top:bottom+1].find(symbol)\n",
    "            if topIndex!=-1:\n",
    "                topIndex+=top \n",
    "                bottomIndex = bwt[top:bottom+1].rfind(symbol)+top\n",
    "                #print(bottomIndex)\n",
    "                top = l2f[topIndex]\n",
    "                bottom = l2f[bottomIndex]\n",
    "            else:\n",
    "                return 0\n",
    "        else:\n",
    "            return bottom-top+1"
   ]
  },
  {
   "cell_type": "code",
   "execution_count": 107,
   "metadata": {},
   "outputs": [],
   "source": [
    "def bw_matching(bwt: str, patterns: List[str]) -> List[int]:\n",
    "    output = []\n",
    "    l2f = last2first(bwt)\n",
    "    for pattern in patterns:\n",
    "        output.append(bw_match_l2f(bwt,pattern,l2f))\n",
    "    return output"
   ]
  },
  {
   "cell_type": "code",
   "execution_count": 110,
   "metadata": {},
   "outputs": [
    {
     "data": {
      "text/plain": [
       "[2, 1, 1, 0, 1]"
      ]
     },
     "execution_count": 110,
     "metadata": {},
     "output_type": "execute_result"
    }
   ],
   "source": [
    "bw_matching(\"TCCTCTATGAGATCCTATTCTATGAAACCTTCA$GACCAAAATTCTCCGGC\",[\"CCT\",\"CAC\",\"GAG\",\"CAG\",\"ATC\"])"
   ]
  },
  {
   "cell_type": "markdown",
   "metadata": {},
   "source": [
    "better BW Matching"
   ]
  },
  {
   "cell_type": "code",
   "execution_count": 74,
   "metadata": {},
   "outputs": [],
   "source": [
    "def first_occur(first_col:str)->Dict:\n",
    "    first_occur_dict = {}\n",
    "    for i,char in enumerate(first_col):\n",
    "        if char not in first_occur_dict:\n",
    "            first_occur_dict[char]=i\n",
    "    return first_occur_dict"
   ]
  },
  {
   "cell_type": "code",
   "execution_count": 77,
   "metadata": {},
   "outputs": [
    {
     "data": {
      "text/plain": [
       "{'$': 0, 'a': 1, 'b': 7, 'm': 8, 'n': 9, 'p': 12, 's': 13}"
      ]
     },
     "execution_count": 77,
     "metadata": {},
     "output_type": "execute_result"
    }
   ],
   "source": [
    "first_occur(\"$aaaaaabmnnnps\")"
   ]
  },
  {
   "cell_type": "code",
   "execution_count": 86,
   "metadata": {},
   "outputs": [],
   "source": [
    "def bw_count(bwt:str):\n",
    "    count_dict = {}\n",
    "    first_col = sorted(bwt)\n",
    "    first_occur_dict = first_occur(first_col)\n",
    "    for key in first_occur_dict:\n",
    "        count_dict[key]=[0]\n",
    "    for char in bwt:\n",
    "        for key in count_dict:\n",
    "            if key==char:\n",
    "                curr_count = count_dict[char][-1]\n",
    "                count_dict[char].append(curr_count+1)\n",
    "            else:\n",
    "                curr_count = count_dict[key][-1]\n",
    "                count_dict[key].append(curr_count)   \n",
    "    return first_occur_dict, count_dict"
   ]
  },
  {
   "cell_type": "code",
   "execution_count": 87,
   "metadata": {},
   "outputs": [
    {
     "data": {
      "text/plain": [
       "({'$': 0, 'a': 1, 'b': 7, 'm': 8, 'n': 9, 'p': 12, 's': 13},\n",
       " {'$': [0, 0, 0, 0, 0, 0, 0, 0, 0, 0, 0, 0, 0, 1, 1],\n",
       "  'a': [0, 0, 0, 0, 0, 0, 0, 0, 1, 2, 3, 4, 5, 5, 6],\n",
       "  'b': [0, 0, 0, 0, 0, 1, 1, 1, 1, 1, 1, 1, 1, 1, 1],\n",
       "  'm': [0, 0, 1, 1, 1, 1, 1, 1, 1, 1, 1, 1, 1, 1, 1],\n",
       "  'n': [0, 0, 0, 1, 1, 1, 2, 3, 3, 3, 3, 3, 3, 3, 3],\n",
       "  'p': [0, 0, 0, 0, 1, 1, 1, 1, 1, 1, 1, 1, 1, 1, 1],\n",
       "  's': [0, 1, 1, 1, 1, 1, 1, 1, 1, 1, 1, 1, 1, 1, 1]})"
      ]
     },
     "execution_count": 87,
     "metadata": {},
     "output_type": "execute_result"
    }
   ],
   "source": [
    "bw_count(\"smnpbnnaaaaa$a\")"
   ]
  },
  {
   "cell_type": "code",
   "execution_count": 88,
   "metadata": {},
   "outputs": [],
   "source": [
    "def better_bw_matching_pattern(first_occur_dict:Dict,bwt:str,pattern:str,count_dict:Dict):\n",
    "    top = 0\n",
    "    bottom = len(bwt)-1\n",
    "    while top<=bottom:\n",
    "        if pattern:\n",
    "            symbol = pattern[-1]\n",
    "            pattern = pattern[:-1]\n",
    "            if bwt[top:bottom+1].find(symbol)!=-1:\n",
    "                top = first_occur_dict[symbol]+count_dict[symbol][top]\n",
    "                bottom = first_occur_dict[symbol]+count_dict[symbol][bottom+1]-1\n",
    "            else:\n",
    "                return 0\n",
    "        else:\n",
    "            return bottom-top+1"
   ]
  },
  {
   "cell_type": "code",
   "execution_count": 91,
   "metadata": {},
   "outputs": [
    {
     "data": {
      "text/plain": [
       "1"
      ]
     },
     "execution_count": 91,
     "metadata": {},
     "output_type": "execute_result"
    }
   ],
   "source": [
    "bwt = \"smnpbnnaaaaa$a\"\n",
    "first_occur_dict,count_dict = bw_count(bwt)\n",
    "better_bw_matching_pattern(first_occur_dict,bwt,'ba',count_dict)"
   ]
  },
  {
   "cell_type": "code",
   "execution_count": 92,
   "metadata": {},
   "outputs": [],
   "source": [
    "def better_bw_matching(bwt: str, patterns: List[str]) -> List[int]:\n",
    "    first_occur_dict,count_dict = bw_count(bwt)\n",
    "    pattern_count = []\n",
    "    for pattern in patterns:\n",
    "        count = better_bw_matching_pattern(first_occur_dict,bwt,pattern,count_dict)\n",
    "        pattern_count.append(count)\n",
    "    \n",
    "    return pattern_count"
   ]
  },
  {
   "cell_type": "code",
   "execution_count": 93,
   "metadata": {},
   "outputs": [
    {
     "data": {
      "text/plain": [
       "[1, 2, 1]"
      ]
     },
     "execution_count": 93,
     "metadata": {},
     "output_type": "execute_result"
    }
   ],
   "source": [
    "better_bw_matching(\"GGCGCCGC$TAGTCACACACGCCGTA\",[\"ACC\",\"CCG\",\"CAG\"])"
   ]
  },
  {
   "cell_type": "code",
   "execution_count": 165,
   "metadata": {},
   "outputs": [],
   "source": [
    "def return_pos_parr(bwt:str,ind:int,parr:List[Tuple[int,int]],l2f:List[int],K:int): #returns val of suffix array given index of bwt\n",
    "    iter_count = 0  \n",
    "    parr_ind = [K_ind for (pos,K_ind) in parr if pos==ind]\n",
    "    if parr_ind:\n",
    "        return parr_ind[0]\n",
    "    else:\n",
    "        while not parr_ind:\n",
    "            ind = l2f[ind]\n",
    "            iter_count+=1\n",
    "            parr_ind = [K_ind for (pos,K_ind) in parr if pos==ind]\n",
    "        return return_pos_parr(bwt,ind,parr,l2f,K)+iter_count"
   ]
  },
  {
   "cell_type": "code",
   "execution_count": 189,
   "metadata": {},
   "outputs": [],
   "source": [
    "def return_count(symbol:str,K:int,checkpoint_arr,bwt:str,ptr:int,first_occur_dict):\n",
    "    start = K*(ptr//K)\n",
    "    if first_occur_dict[symbol]>start:\n",
    "        start = first_occur_dict[symbol]\n",
    "    return checkpoint_arr[symbol][ptr//K]+sum([1 if char == symbol else 0 for char in bwt[start:ptr+1]])"
   ]
  },
  {
   "cell_type": "code",
   "execution_count": 250,
   "metadata": {},
   "outputs": [],
   "source": [
    "def pattern_matching_partial(bwt:str,pattern:str,checkpoint_arr:Dict,first_occur_dict:Dict,parr:List[Tuple[int, int]],K:int,text:str,l2f:List[int])->int:\n",
    "    top = 0\n",
    "    bottom = len(bwt)-1\n",
    "    while top<=bottom:\n",
    "        if pattern:\n",
    "            symbol = pattern[-1]\n",
    "            pattern = pattern[:-1]\n",
    "            if bwt[top:bottom+1].find(symbol)!=-1: \n",
    "                \n",
    "                print(\"p\",checkpoint_arr[symbol][top//K],sum([1 if char == symbol else 0 for char in bwt[K*(top//K):top]]),first_occur_dict[symbol])\n",
    "                top_count = checkpoint_arr[symbol][(top//K)]+sum([1 if char==symbol else 0 for char in bwt[K*(top//K):top]])\n",
    "                top = first_occur_dict[symbol]+top_count\n",
    "                bottom_count = checkpoint_arr[symbol][(bottom+1)//K]+sum([1 if char==symbol else 0 for char in bwt[K*((bottom+1)//K):bottom+1]])\n",
    "                if top==11 and bottom==14:\n",
    "                    print('special')\n",
    "                    print(bottom_count,first_occur_dict[symbol])\n",
    "                bottom = first_occur_dict[symbol]+bottom_count-1\n",
    "                \n",
    "                print(top,bottom)\n",
    "            else:\n",
    "                return 0\n",
    "        else:\n",
    "            print('top',top,'bottom',bottom)\n",
    "            pattern_ind = []\n",
    "            print(inverse_burrows_wheeler_transform(bwt))\n",
    "            for i in range(top,bottom+1):\n",
    "                pattern_ind.append(return_pos_parr(bwt,i,parr,l2f,K))\n",
    "            return pattern_ind\n",
    "            \n"
   ]
  },
  {
   "cell_type": "code",
   "execution_count": 243,
   "metadata": {},
   "outputs": [
    {
     "data": {
      "text/plain": [
       "2"
      ]
     },
     "execution_count": 243,
     "metadata": {},
     "output_type": "execute_result"
    }
   ],
   "source": [
    "14//5"
   ]
  },
  {
   "cell_type": "code",
   "execution_count": 223,
   "metadata": {},
   "outputs": [],
   "source": [
    "def burrows_wheeler_transform(text: str) -> str:\n",
    "    sarr = [i for i in range(len(text))]\n",
    "    sarr.sort(key=lambda item: text[item:]+text[:item])\n",
    "    #for i in sarr:\n",
    "        #print(text[i:]+text[:i],text[i-1])\n",
    "    bwtarr = ''.join([text[i-1] for i in sarr])\n",
    "    return bwtarr"
   ]
  },
  {
   "cell_type": "code",
   "execution_count": 236,
   "metadata": {},
   "outputs": [],
   "source": [
    "def multiple_pattern_matching(text: str, patterns: List[str]) -> Dict[str, List[int]]:\n",
    "    \"\"\"\n",
    "    Find all starting positions in text where each string from patterns appears as a substring, allowing for up to d mismatches.\n",
    "    \"\"\"\n",
    "    text = text+\"$\"\n",
    "    K= 5\n",
    "    bwt = burrows_wheeler_transform(text) \n",
    "    print(bwt)\n",
    "    l2f = last2first(bwt)\n",
    "    print(l2f)\n",
    "    first_occur_dict,checkpoint_arr = bw_checkpoint_array(bwt,K)\n",
    "    parr = partial_suffix_array(text,K)\n",
    "    pattern_dict = {}\n",
    "    for pattern in patterns:\n",
    "        pattern_dict[pattern]= pattern_matching_partial(bwt,pattern,checkpoint_arr,first_occur_dict,parr,K,text,l2f)\n",
    "    return pattern_dict"
   ]
  },
  {
   "cell_type": "code",
   "execution_count": 227,
   "metadata": {},
   "outputs": [
    {
     "name": "stdout",
     "output_type": "stream",
     "text": [
      "CTAATTTCGCGGGGGTAAG\n"
     ]
    }
   ],
   "source": [
    "print(burrows_wheeler_transform(\"AATCGGGTTCAATCGGGGT\"))"
   ]
  },
  {
   "cell_type": "code",
   "execution_count": 254,
   "metadata": {},
   "outputs": [
    {
     "name": "stdout",
     "output_type": "stream",
     "text": [
      "TTTTTAAAAA\n",
      "[5, 6, 7, 8, 9, 0, 1, 2, 3, 4]\n",
      "p 0 0 5\n",
      "5 9\n",
      "p 0 0 5\n",
      "5 9\n",
      "p 0 0 0\n",
      "0 4\n",
      "p 0 0 5\n",
      "5 9\n",
      "p 0 0 0\n",
      "0 4\n",
      "p 0 0 5\n",
      "5 9\n",
      "p 0 0 0\n",
      "0 4\n",
      "p 0 0 5\n",
      "5 9\n",
      "p 0 0 0\n",
      "0 4\n"
     ]
    },
    {
     "data": {
      "text/plain": [
       "{'GT': 0, 'AGCT': 0, 'TAA': 0, 'AAT': 0, 'AATAT': 0}"
      ]
     },
     "execution_count": 254,
     "metadata": {},
     "output_type": "execute_result"
    }
   ],
   "source": [
    "multiple_pattern_matching(\"ATATATATAT\",[\"GT\",\"AGCT\",\"TAA\",\"AAT\",\"AATAT\"])"
   ]
  },
  {
   "cell_type": "code",
   "execution_count": 252,
   "metadata": {},
   "outputs": [
    {
     "name": "stdout",
     "output_type": "stream",
     "text": [
      "TC$AATTTCGCGGGGGTAAG\n",
      "[15, 5, 0, 1, 2, 16, 17, 18, 6, 8, 7, 9, 10, 11, 12, 13, 19, 3, 4, 14]\n",
      "p 0 0 8\n",
      "8 14\n",
      "p 1 0 5\n",
      "6 7\n",
      "p 1 1 15\n",
      "17 18\n",
      "p 2 0 1\n",
      "3 4\n",
      "top 3 bottom 4\n",
      "AATCGGGTTCAATCGGGGT$\n",
      "p 0 0 15\n",
      "15 19\n",
      "p 5 0 8\n",
      "13 14\n",
      "p 1 2 8\n",
      "special\n",
      "5 8\n",
      "11 12\n",
      "p 1 0 8\n",
      "9 10\n",
      "top 9 bottom 10\n",
      "AATCGGGTTCAATCGGGGT$\n"
     ]
    },
    {
     "data": {
      "text/plain": [
       "{'ATCG': [11, 1], 'GGGT': [15, 4]}"
      ]
     },
     "execution_count": 252,
     "metadata": {},
     "output_type": "execute_result"
    }
   ],
   "source": [
    "multiple_pattern_matching(\"AATCGGGTTCAATCGGGGT$\",[\"ATCG\",\"GGGT\"])"
   ]
  },
  {
   "cell_type": "code",
   "execution_count": 216,
   "metadata": {},
   "outputs": [
    {
     "name": "stdout",
     "output_type": "stream",
     "text": [
      "p 0 0 1\n",
      "1 6\n",
      "p 0 0 9\n",
      "9 11\n",
      "p 0 3 1\n",
      "3 5\n",
      "top 3 bottom 5\n",
      "panamabananas$\n"
     ]
    },
    {
     "data": {
      "text/plain": [
       "[1, 7, 9]"
      ]
     },
     "execution_count": 216,
     "metadata": {},
     "output_type": "execute_result"
    }
   ],
   "source": [
    "bwt = \"smnpbnnaaaaa$a\"\n",
    "pattern = 'ana'\n",
    "K=5\n",
    "first_occur_dict,checkpoint_arr= bw_checkpoint_array(bwt,K)\n",
    "parr=[]\n",
    "pattern_matching_partial(bwt,pattern,checkpoint_arr,first_occur_dict,parr,K)"
   ]
  },
  {
   "cell_type": "code",
   "execution_count": 144,
   "metadata": {},
   "outputs": [],
   "source": [
    "def bw_checkpoint_array(bwt:str,K:int):\n",
    "    partial_count_dict = {}\n",
    "    first_col = sorted(bwt)\n",
    "    first_occur_dict = first_occur(first_col)\n",
    "    for key in first_occur_dict:\n",
    "        partial_count_dict[key]=[0]\n",
    "    for i,char in enumerate(bwt):\n",
    "        #print(i,i%K,char)\n",
    "        for key in partial_count_dict:\n",
    "            if key==char:\n",
    "                curr_count = partial_count_dict[key][-1] +1\n",
    "            else:\n",
    "                curr_count = partial_count_dict[key][-1]\n",
    "            #print(char,key,curr_count)\n",
    "            if i>=((len(bwt)//K)*K):\n",
    "                return first_occur_dict,partial_count_dict\n",
    "            if i%K==0:\n",
    "                partial_count_dict[key].append(curr_count)\n",
    "            else:\n",
    "                partial_count_dict[key][-1]=curr_count\n",
    "            \n",
    "    return first_occur_dict,partial_count_dict"
   ]
  },
  {
   "cell_type": "code",
   "execution_count": 145,
   "metadata": {},
   "outputs": [
    {
     "data": {
      "text/plain": [
       "({'$': 0, 'a': 1, 'b': 7, 'm': 8, 'n': 9, 'p': 12, 's': 13},\n",
       " {'$': [0, 0, 0],\n",
       "  'a': [0, 0, 3],\n",
       "  'b': [0, 1, 1],\n",
       "  'm': [0, 1, 1],\n",
       "  'n': [0, 1, 3],\n",
       "  'p': [0, 1, 1],\n",
       "  's': [0, 1, 1]})"
      ]
     },
     "execution_count": 145,
     "metadata": {},
     "output_type": "execute_result"
    }
   ],
   "source": [
    "bw_checkpoint_array(\"smnpbnnaaaaa$a\",5)"
   ]
  },
  {
   "cell_type": "code",
   "execution_count": null,
   "metadata": {},
   "outputs": [],
   "source": [
    "def multiple_pattern_matching(text: str, patterns: List[str]) -> Dict[str, List[int]]:\n",
    "    \"\"\"\n",
    "    Find all starting positions in text where each string from patterns appears as a substring.\n",
    "    \"\"\"\n",
    "    #make bwt\n",
    "    \n",
    "    for pattern in patterns:\n"
   ]
  },
  {
   "cell_type": "code",
   "execution_count": 10,
   "metadata": {},
   "outputs": [],
   "source": [
    "def partial_suffix_array(text: str, k: int) -> List[Tuple[int, int]]:\n",
    "    \"\"\"\n",
    "    Generate a partial suffix array for the given text and interval K.\n",
    "    \"\"\"\n",
    "    sarr = suffix_array(text)\n",
    "    #print(sarr)\n",
    "    psarr = [(i,sarr[i]) for i in range(len(sarr)) if sarr[i]%k==0]\n",
    "    #print(psarr)\n",
    "    return psarr\n",
    "\n",
    "def suffix_array(text: str) -> List[int]:\n",
    "    sarr = [i for i in range(len(text))]\n",
    "    sarr.sort(key=lambda item: text[item:])\n",
    "    return sarr"
   ]
  },
  {
   "cell_type": "code",
   "execution_count": 208,
   "metadata": {},
   "outputs": [
    {
     "data": {
      "text/plain": [
       "[(1, 5), (11, 10), (12, 0)]"
      ]
     },
     "execution_count": 208,
     "metadata": {},
     "output_type": "execute_result"
    }
   ],
   "source": [
    "partial_suffix_array(\"panamabananas$\",5)"
   ]
  }
 ],
 "metadata": {
  "kernelspec": {
   "display_name": "testpy3",
   "language": "python",
   "name": "python3"
  },
  "language_info": {
   "codemirror_mode": {
    "name": "ipython",
    "version": 3
   },
   "file_extension": ".py",
   "mimetype": "text/x-python",
   "name": "python",
   "nbconvert_exporter": "python",
   "pygments_lexer": "ipython3",
   "version": "3.9.10"
  }
 },
 "nbformat": 4,
 "nbformat_minor": 2
}
