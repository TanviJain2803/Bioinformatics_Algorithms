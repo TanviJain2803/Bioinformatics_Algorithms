{
 "cells": [
  {
   "cell_type": "markdown",
   "metadata": {},
   "source": [
    "## Chapter 4\n",
    "\n",
    "Manhattan Tourist Problem.\n",
    "`LongestPathLength` finds the longest path with 'maximum tourist spots' in manhattan block."
   ]
  },
  {
   "cell_type": "code",
   "execution_count": 2,
   "metadata": {},
   "outputs": [],
   "source": [
    "from typing import List, Dict, Iterable, Tuple\n",
    "def LongestPathLength(n: int, m: int,\n",
    "                      Down: List[List[int]], Right: List[List[int]]) -> int:\n",
    "    s=[[-1] * (m+1) for _ in range(n+1)]\n",
    "    #print(s)\n",
    "    s[0][0] = 0\n",
    "    #print(s)\n",
    "    for i in range(1,n+1):\n",
    "        s[i][0] = s[i-1][0]+Down[i-1][0]\n",
    "        #print(s)\n",
    "    for j in range(1,m+1):\n",
    "        s[0][j] = s[0][j-1]+Right[0][j-1]\n",
    "        #print(s)\n",
    "    for i in range(1,n+1):\n",
    "        for j in range(1,m+1):\n",
    "            s[i][j] = max(s[i-1][j]+Down[i-1][j],s[i][j-1]+Right[i][j-1])\n",
    "            #print(s)\n",
    "    return s[n][m]"
   ]
  },
  {
   "cell_type": "code",
   "execution_count": 65,
   "metadata": {},
   "outputs": [
    {
     "data": {
      "text/plain": [
       "34"
      ]
     },
     "execution_count": 65,
     "metadata": {},
     "output_type": "execute_result"
    }
   ],
   "source": [
    "down = [[1,0,2,4,3],[4,6,5,2,1],[4,4,5,2,1],[5,6,8,5,3]]\n",
    "right = [[3,2,4,0],[3,2,4,2],[0,7,3,3],[3,3,0,2],[1,3,2,2]]\n",
    "LongestPathLength(4,4,down,right)"
   ]
  },
  {
   "cell_type": "code",
   "execution_count": 106,
   "metadata": {},
   "outputs": [],
   "source": [
    "def LCS_backtrack(v:str,w:str)->List[str]:\n",
    "    s = [[-1] * (len(w)+1) for _ in range(len(v)+1)]\n",
    "    backtrack = [[2] * (len(w)+1) for _ in range(len(v)+1)]\n",
    "    for i in range(len(v)+1): #column iter\n",
    "        s[i][0] = 0\n",
    "        #print(s)\n",
    "    for j in range(len(w)+1): #row iter\n",
    "        s[0][j] = 0\n",
    "        #print(s)\n",
    "    for i in range(1,len(v)+1):\n",
    "        for j in range(1,len(w)+1):\n",
    "            match = 0\n",
    "            #print(v[i-1],w[j-1])\n",
    "            if v[i-1]==w[j-1]:\n",
    "                match = 1\n",
    "            s[i][j] = max(s[i-1][j],s[i][j-1],s[i-1][j-1]+match)\n",
    "            #print(s[i][j])\n",
    "            if s[i][j]==s[i-1][j]:#1=v\n",
    "                backtrack[i][j]=1 \n",
    "            elif s[i][j]==s[i][j-1]: #-1=>\n",
    "                backtrack[i][j]=-1\n",
    "            elif s[i][j] == s[i-1][j-1]+match: #0=diag (match)\n",
    "                backtrack[i][j]=0\n",
    "    return backtrack\n"
   ]
  },
  {
   "cell_type": "code",
   "execution_count": 188,
   "metadata": {},
   "outputs": [
    {
     "data": {
      "text/plain": [
       "[[2, 2, 2, 2], [2, 1, 1, 0], [2, 0, -1, 1], [2, 1, 1, 1], [2, 1, 0, -1]]"
      ]
     },
     "execution_count": 188,
     "metadata": {},
     "output_type": "execute_result"
    }
   ],
   "source": [
    "LCS_backtrack('GACT','ATG')"
   ]
  },
  {
   "cell_type": "code",
   "execution_count": 77,
   "metadata": {},
   "outputs": [
    {
     "data": {
      "text/plain": [
       "[[2, 2, 2, 2], [2, 0, -1, -1], [2, 1, 0, -1], [2, 1, 1, 1]]"
      ]
     },
     "execution_count": 77,
     "metadata": {},
     "output_type": "execute_result"
    }
   ],
   "source": [
    "LCS_backtrack(\"ATG\",\"ATC\")"
   ]
  },
  {
   "cell_type": "code",
   "execution_count": 183,
   "metadata": {},
   "outputs": [],
   "source": [
    "def output_LCS(backtrack:List[List[int]], v:str, i:int, j:int, LCS:str):\n",
    "    # Base case: if we've reached the beginning of either string, return the LCS accumulated so far\n",
    "    if i == 0 or j == 0: \n",
    "        return LCS\n",
    "    if backtrack[i][j]==1:\n",
    "        LCS = output_LCS(backtrack, v, i-1, j, LCS)\n",
    "    elif backtrack[i][j]==-1:\n",
    "        LCS = output_LCS(backtrack, v, i, j-1, LCS)\n",
    "    else:    # If the backtrack direction is diagonal, add the character and go diagonally\n",
    "        LCS = output_LCS(backtrack, v, i - 1, j - 1, LCS) + v[i - 1]\n",
    "\n",
    "    return LCS"
   ]
  },
  {
   "cell_type": "code",
   "execution_count": 180,
   "metadata": {},
   "outputs": [],
   "source": [
    "#sys.setrecursionlimit(10000)\n",
    "def LongestCommonSubsequence(s: str, t: str) -> str:\n",
    "    # Assume LCS_backtrack is a function that creates the backtrack matrix\n",
    "    backtrack = LCS_backtrack(s, t)\n",
    "    print(backtrack)\n",
    "    # Call output_LCS with the initial parameters\n",
    "    LCS = output_LCS(backtrack, s, len(s), len(t), \"\")\n",
    "    return LCS"
   ]
  },
  {
   "cell_type": "code",
   "execution_count": 185,
   "metadata": {},
   "outputs": [
    {
     "name": "stdout",
     "output_type": "stream",
     "text": [
      "[[2, 2, 2, 2], [2, 1, 1, 0], [2, 0, -1, 1], [2, 1, 1, 1], [2, 1, 0, -1]]\n",
      "final output:  AT\n",
      "AT\n"
     ]
    }
   ],
   "source": [
    "LCS = LongestCommonSubsequence('GACT', 'ATG')\n",
    "print(LCS)"
   ]
  },
  {
   "cell_type": "code",
   "execution_count": 184,
   "metadata": {},
   "outputs": [
    {
     "name": "stdout",
     "output_type": "stream",
     "text": [
      "[[2, 2, 2], [2, 0, -1], [2, 1, 0]]\n",
      "final output:  AC\n"
     ]
    },
    {
     "data": {
      "text/plain": [
       "'AC'"
      ]
     },
     "execution_count": 184,
     "metadata": {},
     "output_type": "execute_result"
    }
   ],
   "source": [
    "LongestCommonSubsequence('AC', 'AC')"
   ]
  },
  {
   "cell_type": "markdown",
   "metadata": {},
   "source": [
    "Implementing Longest path in arbitrary DAG (input is list of edges). You may assume a given topological order corresponding to nodes in increasing order."
   ]
  },
  {
   "cell_type": "code",
   "execution_count": 282,
   "metadata": {},
   "outputs": [],
   "source": [
    "E = {0: [(1, 7), (2, 4)], 1: [(4, 1)], 2: [(3, 2)], 3: [(4, 3)]}"
   ]
  },
  {
   "cell_type": "code",
   "execution_count": 283,
   "metadata": {},
   "outputs": [],
   "source": [
    "def LongestPath(s: int, t: int,\n",
    "                E: Dict[int, List[Tuple[int, int]]]) -> Tuple[int, List[int]]:\n",
    "    # Get the unique nodes including both keys and values\n",
    "    nodes = set(E.keys()) | {n for edges in E.values() for n, _ in edges}\n",
    "    print(nodes)\n",
    "    # Find the highest node number to determine the size of the max_path list\n",
    "    max_node = max(nodes)\n",
    "    print(max_node)\n",
    "    # Initialize max_path with negative infinity for all nodes\n",
    "    max_path = [float('-inf')] * (max_node + 1)\n",
    "    max_path[s] = 0  # Distance to start node is 0\n",
    "    print(max_path)\n",
    "\n",
    "    # Initialize max_path_dict to store the path to each node\n",
    "    max_path_dict = {node: [] for node in range(max_node + 1)}\n",
    "    print(max_path_dict)\n",
    "    # Process each node in assumed topological order\n",
    "    for node in range(max_node + 1):\n",
    "        # Update paths for all edges going out of the current node\n",
    "        for edge in E.get(node, []):\n",
    "            next_node, weight = edge\n",
    "            # If a longer path to next_node is found, update max_path and max_path_dict\n",
    "            if max_path[next_node] < max_path[node] + weight:\n",
    "                max_path[next_node] = max_path[node] + weight\n",
    "                max_path_dict[next_node] = max_path_dict[node] + [node]\n",
    "            print(max_path)\n",
    "            print(max_path_dict)\n",
    "    # Reconstruct the path from s to t\n",
    "    path = [t]\n",
    "    while path[-1] != s:\n",
    "        path.append(max_path_dict[path[-1]][-1])\n",
    "\n",
    "    return max_path[t], path[::-1]  # Return the max path length and the reconstructed path"
   ]
  },
  {
   "cell_type": "code",
   "execution_count": 280,
   "metadata": {},
   "outputs": [
    {
     "name": "stdout",
     "output_type": "stream",
     "text": [
      "{1, 2, 3, 4}\n",
      "4\n",
      "[-inf, 0, -inf, -inf, -inf]\n",
      "{0: [], 1: [], 2: [], 3: [], 4: []}\n",
      "[-inf, 0, 1, -inf, -inf]\n",
      "{0: [], 1: [], 2: [1], 3: [], 4: []}\n",
      "[-inf, 0, 1, 5, -inf]\n",
      "{0: [], 1: [], 2: [1], 3: [1], 4: []}\n",
      "[-inf, 0, 1, 5, 11]\n",
      "{0: [], 1: [], 2: [1], 3: [1], 4: [1, 2]}\n",
      "[-inf, 0, 1, 5, 11]\n",
      "{0: [], 1: [], 2: [1], 3: [1], 4: [1, 2]}\n"
     ]
    },
    {
     "data": {
      "text/plain": [
       "(11, [1, 2, 4])"
      ]
     },
     "execution_count": 280,
     "metadata": {},
     "output_type": "execute_result"
    }
   ],
   "source": [
    "LongestPath(1,4,{1:[(2,1),(3,5)],2:[(4,10)],3:[(4,1)]})"
   ]
  },
  {
   "cell_type": "markdown",
   "metadata": {},
   "source": [
    "penalising for mismatch and indel "
   ]
  },
  {
   "cell_type": "code",
   "execution_count": 3,
   "metadata": {},
   "outputs": [],
   "source": [
    "def GlobalAlignment_backtrack(match_reward: int, mismatch_penalty: int, indel_penalty: int, s: str, t: str) -> Tuple[int, str, str]:\n",
    "# Initialize the score matrix with zeros and set up the backtrack matrix\n",
    "    m = [[0] * (len(t) + 1) for _ in range(len(s) + 1)]\n",
    "    backtrack = [[None] * (len(t) + 1) for _ in range(len(s) + 1)]\n",
    "    \n",
    "    # Initialize the first row and column of the score matrix\n",
    "    for i in range(len(s) + 1):\n",
    "        m[i][0] = i * -indel_penalty\n",
    "    for j in range(len(t) + 1):\n",
    "        m[0][j] = j * -indel_penalty\n",
    "    \n",
    "    # Fill the score matrix and the backtrack matrix\n",
    "    for i in range(1, len(s) + 1):\n",
    "        for j in range(1, len(t) + 1):\n",
    "            if s[i - 1] == t[j - 1]:\n",
    "                match_score = m[i - 1][j - 1] + match_reward\n",
    "            else:\n",
    "                match_score = m[i - 1][j - 1] - mismatch_penalty\n",
    "\n",
    "            delete_score = m[i - 1][j] - indel_penalty\n",
    "            insert_score = m[i][j - 1] - indel_penalty\n",
    "            \n",
    "            m[i][j] = max(match_score, delete_score, insert_score)\n",
    "            if m[i][j] == delete_score:\n",
    "                backtrack[i][j] = 'up'\n",
    "            elif m[i][j] == insert_score:\n",
    "                backtrack[i][j] = 'left'\n",
    "            elif m[i][j] == match_score:\n",
    "                backtrack[i][j] = 'diag'\n",
    "            \n",
    "    return backtrack,m"
   ]
  },
  {
   "cell_type": "code",
   "execution_count": 1107,
   "metadata": {},
   "outputs": [
    {
     "name": "stdout",
     "output_type": "stream",
     "text": [
      "1 1\n",
      "1 2\n",
      "1 3\n",
      "2 1\n",
      "2 2\n",
      "2 3\n",
      "3 1\n",
      "3 2\n",
      "3 3\n"
     ]
    },
    {
     "data": {
      "text/plain": [
       "(36, 9)"
      ]
     },
     "execution_count": 1107,
     "metadata": {},
     "output_type": "execute_result"
    }
   ],
   "source": [
    "sum = 0\n",
    "count = 0\n",
    "for i in range(1,4):\n",
    "    for j in range(1,4):\n",
    "        print(i,j)\n",
    "        sum += (i+j)\n",
    "        count+=1\n",
    "\n",
    "sum,count"
   ]
  },
  {
   "cell_type": "code",
   "execution_count": 1109,
   "metadata": {},
   "outputs": [
    {
     "data": {
      "text/plain": [
       "0.34299999999999997"
      ]
     },
     "execution_count": 1109,
     "metadata": {},
     "output_type": "execute_result"
    }
   ],
   "source": [
    "sum = 0\n",
    "for k in range(1,4):\n",
    "    sum+= pow(0.7,k-1)*0.3\n",
    "\n",
    "1-sum"
   ]
  },
  {
   "cell_type": "code",
   "execution_count": 4,
   "metadata": {},
   "outputs": [],
   "source": [
    "def output_Global_Alignment(backtrack: List[List[int]], s: str, t: str, i: int = None, j: int = None, align_s: str = '', align_t: str = ''):\n",
    "    # Initialize i and j with the lengths of s and t if not provided\n",
    "    if i is None:\n",
    "        i = len(s)\n",
    "    if j is None:\n",
    "        j = len(t)\n",
    "\n",
    "    # Base case: if we've reached the beginning of both strings, return the alignments\n",
    "    if i == 0 and j == 0:\n",
    "        return align_s, align_t\n",
    "\n",
    "    # Recursive case: check the backtrack matrix and make the appropriate recursive call\n",
    "    if i > 0 and backtrack[i][j] == 'up':\n",
    "        return output_Global_Alignment(backtrack, s, t, i - 1, j, s[i - 1] + align_s, '-' + align_t)\n",
    "    elif j > 0 and backtrack[i][j] == 'left':\n",
    "        return output_Global_Alignment(backtrack, s, t, i, j - 1, '-' + align_s, t[j - 1] + align_t)\n",
    "    elif i > 0 and j > 0 and backtrack[i][j] == 'diag':\n",
    "        return output_Global_Alignment(backtrack, s, t, i - 1, j - 1, s[i - 1] + align_s, t[j - 1] + align_t)\n",
    "\n",
    "    \n",
    "\n",
    "    # If we're at the first column, we can only go up which means insertion in t\n",
    "    if i > 0:\n",
    "        return output_Global_Alignment(backtrack, s, t, i - 1, j, s[i - 1] + align_s, '-' + align_t)\n",
    "    \n",
    "    # If we're at the first row, we can only go left which means insertion in s\n",
    "    if j > 0:\n",
    "        return output_Global_Alignment(backtrack, s, t, i, j - 1, '-' + align_s, t[j - 1] + align_t)"
   ]
  },
  {
   "cell_type": "code",
   "execution_count": 5,
   "metadata": {},
   "outputs": [],
   "source": [
    "def GlobalAlignment(match_reward: int, mismatch_penalty: int, indel_penalty: int, s: str, t: str) -> Tuple[int, str, str]:\n",
    "    output = []\n",
    "    backtrack,m = GlobalAlignment_backtrack(match_reward,mismatch_penalty,indel_penalty,s,t)\n",
    "    print(backtrack)\n",
    "    print(m)\n",
    "    out = m[len(s)][len(t)]\n",
    "    align_s,align_t=output_Global_Alignment(backtrack,s,t)\n",
    "    return out,align_s,align_t\n"
   ]
  },
  {
   "cell_type": "code",
   "execution_count": 6,
   "metadata": {},
   "outputs": [
    {
     "name": "stdout",
     "output_type": "stream",
     "text": [
      "[[None, None, None, None], [None, 'diag', 'left', 'left'], [None, 'up', 'diag', 'left'], [None, 'up', 'up', 'diag'], [None, 'up', 'up', 'up']]\n",
      "[[0, -2, -4, -6], [-2, 1, -1, -3], [-4, -1, 2, 0], [-6, -3, 0, 1], [-8, -5, -2, -1]]\n"
     ]
    },
    {
     "data": {
      "text/plain": [
       "(-1, 'GAGA', 'GAT-')"
      ]
     },
     "execution_count": 6,
     "metadata": {},
     "output_type": "execute_result"
    }
   ],
   "source": [
    "GlobalAlignment(1,1,2,\"GAGA\",\"GAT\")"
   ]
  },
  {
   "cell_type": "code",
   "execution_count": 8,
   "metadata": {},
   "outputs": [
    {
     "name": "stdout",
     "output_type": "stream",
     "text": [
      "[[None, None, None, None], [None, 'diag', 'left', 'left'], [None, 'up', 'diag', 'left'], [None, 'up', 'up', 'diag'], [None, 'up', 'up', 'diag']]\n",
      "[[0, -1, -2, -3], [-1, 2, 1, 0], [-2, 1, 4, 3], [-3, 0, 3, 3], [-4, -1, 2, 5]]\n"
     ]
    },
    {
     "data": {
      "text/plain": [
       "(5, 'ATCG', 'AT-G')"
      ]
     },
     "execution_count": 8,
     "metadata": {},
     "output_type": "execute_result"
    }
   ],
   "source": [
    "GlobalAlignment(2,1,1,'ATCG','ATG')"
   ]
  },
  {
   "cell_type": "markdown",
   "metadata": {},
   "source": [
    "Local alignment/ free taxi rides"
   ]
  },
  {
   "cell_type": "code",
   "execution_count": 590,
   "metadata": {},
   "outputs": [],
   "source": [
    "def output_Local_Alignment(backtrack: List[List[int]], s: str, t: str, i: int = None, j: int = None, align_s: str = '', align_t: str = ''):\n",
    "    # Initialize i and j with the lengths of s and t if not provided\n",
    "    if i is None:\n",
    "        i = len(s)\n",
    "    if j is None:\n",
    "        j = len(t)\n",
    "\n",
    "    # Base case: if we've reached the beginning of both strings, return the alignments\n",
    "    if i == 0 and j == 0:\n",
    "        return align_s, align_t\n",
    "    print(backtrack[i][j],s[i-1],t[j-1])\n",
    "    # Recursive case: check the backtrack matrix and make the appropriate recursive call\n",
    "    if backtrack[i][j]=='stop':\n",
    "        print('here',s[i-1],t[j-1])\n",
    "        return align_s,align_t\n",
    "    elif i > 0 and j > 0 and backtrack[i][j] == 'diag':\n",
    "        return output_Local_Alignment(backtrack, s, t, i - 1, j - 1, s[i - 1] + align_s, t[j - 1] + align_t)\n",
    "    elif i > 0 and backtrack[i][j] == 'up':\n",
    "        return output_Local_Alignment(backtrack, s, t, i - 1, j, s[i - 1] + align_s, '-' + align_t)\n",
    "    elif j > 0 and backtrack[i][j] == 'left':\n",
    "        return output_Local_Alignment(backtrack, s, t, i, j - 1, '-' + align_s, t[j - 1] + align_t)\n",
    "\n",
    "    # If we're at the first column, we can only go up which means insertion in t\n",
    "    if i > 0:\n",
    "        return output_Local_Alignment(backtrack, s, t, i - 1, j, s[i - 1] + align_s, '-' + align_t)\n",
    "    \n",
    "    # If we're at the first row, we can only go left which means insertion in s\n",
    "    if j > 0:\n",
    "        return output_Local_Alignment(backtrack, s, t, i, j - 1, '-' + align_s, t[j - 1] + align_t)"
   ]
  },
  {
   "cell_type": "code",
   "execution_count": 588,
   "metadata": {},
   "outputs": [],
   "source": [
    "def Local_Alignment_backtrack(match_reward: int, mismatch_penalty: int, indel_penalty: int, s: str, t: str) -> Tuple[int, str, str]:\n",
    "# Initialize the score matrix with zeros and set up the backtrack matrix\n",
    "    m = [[0] * (len(t) + 1) for _ in range(len(s) + 1)]\n",
    "    backtrack = [['stop'] * (len(t) + 1) for _ in range(len(s) + 1)]\n",
    "    # Fill the score matrix and the backtrack matrix\n",
    "    for i in range(1, len(s) + 1):\n",
    "        for j in range(1, len(t) + 1):\n",
    "            if s[i - 1] == t[j - 1]:\n",
    "                match_score = m[i - 1][j - 1] + match_reward\n",
    "            else:\n",
    "                match_score = m[i - 1][j - 1] - mismatch_penalty\n",
    "\n",
    "            delete_score = m[i - 1][j] - indel_penalty\n",
    "            insert_score = m[i][j - 1] - indel_penalty\n",
    "            print(s[i-1],t[j-1],0,match_score, delete_score, insert_score)\n",
    "            m[i][j] = max(0,match_score, delete_score, insert_score)\n",
    "            if m[i][j]==0:\n",
    "                backtrack[i][j]='stop'\n",
    "            elif m[i][j] == match_score:\n",
    "                backtrack[i][j] = 'diag'\n",
    "            elif m[i][j] == delete_score:\n",
    "                backtrack[i][j] = 'up'\n",
    "            elif m[i][j] == insert_score:\n",
    "                backtrack[i][j] = 'left'\n",
    "    return backtrack,m"
   ]
  },
  {
   "cell_type": "code",
   "execution_count": 587,
   "metadata": {},
   "outputs": [],
   "source": [
    "def max_ind(m):\n",
    "    max_indices = []  # Initialize indices at an impossible position\n",
    "    max_val = 0\n",
    "    for i, sublist in enumerate(m):\n",
    "        for j, val in enumerate(sublist):\n",
    "            if val > max_val:\n",
    "                print(i,j)\n",
    "                max_indices = [i,j]  # Update indices\n",
    "                print(max_indices)\n",
    "                max_val = val\n",
    "    print('max',max_indices)\n",
    "    return max_val,max_indices"
   ]
  },
  {
   "cell_type": "code",
   "execution_count": 586,
   "metadata": {},
   "outputs": [],
   "source": [
    "def LocalAlignment(match_reward: int, mismatch_penalty: int, indel_penalty: int, s: str, t: str) -> Tuple[int, str, str]:\n",
    "    backtrack,m = Local_Alignment_backtrack(match_reward,mismatch_penalty,indel_penalty,s,t)\n",
    "    #print(backtrack)\n",
    "    print(m)\n",
    "    out_str=[]\n",
    "    max_val,max_indices = max_ind(m)\n",
    "    out = [max_val]\n",
    "    #print(output_Local_Alignment(backtrack,s,t,max_indices[0],max_indices[1]))\n",
    "    out_str = output_Local_Alignment(backtrack,s,t,max_indices[0],max_indices[1])\n",
    "    for n_str in out_str:\n",
    "        out.append(n_str)\n",
    "    #print(out_str[-1])\n",
    "\n",
    "    return out"
   ]
  },
  {
   "cell_type": "code",
   "execution_count": 551,
   "metadata": {},
   "outputs": [
    {
     "name": "stdout",
     "output_type": "stream",
     "text": [
      "G G 0 1 -2 -2\n",
      "G A 0 -1 -2 -1\n",
      "G T 0 -1 -2 -2\n",
      "A G 0 -1 -1 -2\n",
      "A A 0 2 -2 -2\n",
      "A T 0 -1 -2 0\n",
      "G G 0 1 -2 -2\n",
      "G A 0 -1 0 -1\n",
      "G T 0 1 -2 -2\n",
      "A G 0 -1 -1 -2\n",
      "A A 0 2 -2 -2\n",
      "A T 0 -1 -1 0\n",
      "[[0, 0, 0, 0], [0, 1, 0, 0], [0, 0, 2, 0], [0, 1, 0, 1], [0, 0, 2, 0]]\n",
      "1 1\n",
      "[1, 1]\n",
      "2 2\n",
      "[2, 2]\n",
      "max [2, 2]\n",
      "diag A A\n",
      "diag G G\n"
     ]
    },
    {
     "data": {
      "text/plain": [
       "[2, 'GA', 'GA']"
      ]
     },
     "execution_count": 551,
     "metadata": {},
     "output_type": "execute_result"
    }
   ],
   "source": [
    "LocalAlignment(1,1,2,'GAGA','GAT')"
   ]
  },
  {
   "cell_type": "code",
   "execution_count": 550,
   "metadata": {},
   "outputs": [
    {
     "name": "stdout",
     "output_type": "stream",
     "text": [
      "A A 0 3 -1 -1\n",
      "A T 0 -3 -1 2\n",
      "A C 0 -3 -1 1\n",
      "G A 0 -3 2 -1\n",
      "G T 0 0 1 1\n",
      "G C 0 -1 0 0\n",
      "C A 0 -3 1 -1\n",
      "C T 0 -1 0 0\n",
      "C C 0 4 -1 -1\n",
      "[[0, 0, 0, 0], [0, 3, 2, 1], [0, 2, 1, 0], [0, 1, 0, 4]]\n",
      "1 1\n",
      "[1, 1]\n",
      "3 3\n",
      "[3, 3]\n",
      "max [3, 3]\n",
      "diag C C\n",
      "up G T\n",
      "left A T\n",
      "diag A A\n"
     ]
    },
    {
     "data": {
      "text/plain": [
       "[4, 'A-GC', 'AT-C']"
      ]
     },
     "execution_count": 550,
     "metadata": {},
     "output_type": "execute_result"
    }
   ],
   "source": [
    "LocalAlignment(3,3,1,'AGC','ATC')"
   ]
  },
  {
   "cell_type": "markdown",
   "metadata": {},
   "source": [
    "Edit distance between two strings"
   ]
  },
  {
   "cell_type": "code",
   "execution_count": 585,
   "metadata": {},
   "outputs": [
    {
     "name": "stdout",
     "output_type": "stream",
     "text": [
      "G G 0 1 1\n",
      "G A 1 1 1\n",
      "G T 1 1 2\n",
      "A G 1 1 1\n",
      "A A 0 2 2\n",
      "A T 2 2 1\n",
      "G G 0 2 1\n",
      "G A 2 1 1\n",
      "G T 1 2 2\n",
      "A G 1 1 1\n",
      "A A 0 2 2\n",
      "A T 2 2 1\n",
      "[[0, 0, 0, 0], [0, 0, 1, 1], [0, 1, 0, 1], [0, 0, 1, 1], [0, 1, 0, 1]]\n",
      "1 G A\n",
      "None\n"
     ]
    }
   ],
   "source": [
    "s= 'TGCATACT'\n",
    "t= 'ATCCGAT'\n",
    "#Local_Alignment_backtrack(1,1,2,s,t)\n",
    "m"
   ]
  },
  {
   "cell_type": "code",
   "execution_count": 616,
   "metadata": {},
   "outputs": [
    {
     "name": "stdout",
     "output_type": "stream",
     "text": [
      "G G 0 2 2\n",
      "G A 2 3 1\n",
      "G T 3 4 2\n",
      "A G 2 1 3\n",
      "A A 0 2 2\n",
      "A T 2 3 1\n",
      "G G 2 2 4\n",
      "G A 2 1 3\n",
      "G T 1 2 2\n",
      "A G 4 3 5\n",
      "A A 2 2 4\n",
      "A T 2 2 3\n"
     ]
    },
    {
     "data": {
      "text/plain": [
       "2"
      ]
     },
     "execution_count": 616,
     "metadata": {},
     "output_type": "execute_result"
    }
   ],
   "source": [
    "EditDistance('GAGA','GAT')"
   ]
  },
  {
   "cell_type": "code",
   "execution_count": 615,
   "metadata": {},
   "outputs": [],
   "source": [
    "def EditDistance(s: str, t: str) -> int:\n",
    "    m,min_val,ind_ptr = min_edit_backtrack(s,t)\n",
    "    return m[len(s)][len(t)]"
   ]
  },
  {
   "cell_type": "code",
   "execution_count": 613,
   "metadata": {},
   "outputs": [],
   "source": [
    "def min_edit_backtrack(s: str, t: str) -> Tuple[int, str, str]:\n",
    "# Initialize the score matrix with zeros and set up the backtrack matrix\n",
    "    m = [[0] * (len(t) + 1) for _ in range(len(s) + 1)]\n",
    "    #backtrack = [['stop'] * (len(t) + 1) for _ in range(len(s) + 1)]\n",
    "    min_val = float('inf')\n",
    "    ind_ptr = [-1,-1]\n",
    "    for i in range(len(s)+1):\n",
    "        m[i][0]=i\n",
    "    for j in range(len(t)+1):\n",
    "        m[0][j]=j\n",
    "    # Fill the score matrix and the backtrack matrix\n",
    "    for i in range(1, len(s) + 1):\n",
    "        for j in range(1, len(t) + 1):\n",
    "            \n",
    "            if s[i-1]==t[j-1]:\n",
    "                match_score = m[i - 1][j - 1]\n",
    "            else:\n",
    "                match_score=m[i - 1][j - 1]+1\n",
    "            delete_score = m[i - 1][j] +1\n",
    "            insert_score = m[i][j - 1]+1\n",
    "            print(s[i-1],t[j-1],match_score, delete_score, insert_score)\n",
    "            m[i][j] = min(match_score, delete_score, insert_score)\n",
    "            if m[i][j]<=min_val:\n",
    "                min_val=m[i][j]\n",
    "                ind_ptr=[i,j]\n",
    "    return m,min_val,ind_ptr"
   ]
  },
  {
   "cell_type": "markdown",
   "metadata": {},
   "source": [
    "Fitting alignment uses scoring matrix to find a region within the longer protein sequence v that has high similarity with all of the shorter sequence w. Global alignment will not work because it tries to align all of v to all of w; local alignment will not work because it tries to align substrings of both v and w. Thus, we have a distinct alignment application called the Fitting Alignment Problem."
   ]
  },
  {
   "cell_type": "code",
   "execution_count": 617,
   "metadata": {},
   "outputs": [],
   "source": [
    "from typing import List, Dict, Iterable, Tuple\n",
    "BLOSUM = dict()\n",
    "BLOSUM['A'] = {'A': 4, 'C': 0, 'D': -2, 'E': -1, 'F': -2, 'G': 0, 'H': -2, 'I': -1, 'K': -1, 'L': -1, 'M': -1, 'N': -2, 'P': -1, 'Q': -1, 'R': -1, 'S': 1, 'T': 0, 'V': 0, 'W': -3, 'Y': -2}\n",
    "BLOSUM['C'] = {'A': 0, 'C': 9, 'D': -3, 'E': -4, 'F': -2, 'G': -3, 'H': -3, 'I': -1, 'K': -3, 'L': -1, 'M': -1, 'N': -3, 'P': -3, 'Q': -3, 'R': -3, 'S': -1, 'T': -1, 'V': -1, 'W': -2, 'Y': -2}\n",
    "BLOSUM['D'] = {'A': -2, 'C': -3, 'D': 6, 'E': 2, 'F': -3, 'G': -1, 'H': -1, 'I': -3, 'K': -1, 'L': -4, 'M': -3, 'N': 1, 'P': -1, 'Q': 0, 'R': -2, 'S': 0, 'T': -1, 'V': -3, 'W': -4, 'Y': -3}\n",
    "BLOSUM['E'] = {'A': -1, 'C': -4, 'D': 2, 'E': 5, 'F': -3, 'G': -2, 'H': 0, 'I': -3, 'K': 1, 'L': -3, 'M': -2, 'N': 0, 'P': -1, 'Q': 2, 'R': 0, 'S': 0, 'T': -1, 'V': -2, 'W': -3, 'Y': -2}\n",
    "BLOSUM['F'] = {'A': -2, 'C': -2, 'D': -3, 'E': -3, 'F': 6, 'G': -3, 'H': -1, 'I': 0, 'K': -3, 'L': 0, 'M': 0, 'N': -3, 'P': -4, 'Q': -3, 'R': -3, 'S': -2, 'T': -2, 'V': -1, 'W': 1, 'Y': 3}\n",
    "BLOSUM['G'] = {'A': 0, 'C': -3, 'D': -1, 'E': -2, 'F': -3, 'G': 6, 'H': -2, 'I': -4, 'K': -2, 'L': -4, 'M': -3, 'N': 0, 'P': -2, 'Q': -2, 'R': -2, 'S': 0, 'T': -2, 'V': -3, 'W': -2, 'Y': -3}\n",
    "BLOSUM['H'] = {'A': -2, 'C': -3, 'D': -1, 'E': 0, 'F': -1, 'G': -2, 'H': 8, 'I': -3, 'K': -1, 'L': -3, 'M': -2, 'N': 1, 'P': -2, 'Q': 0, 'R': 0, 'S': -1, 'T': -2, 'V': -3, 'W': -2, 'Y': 2}\n",
    "BLOSUM['I'] = {'A': -1, 'C': -1, 'D': -3, 'E': -3, 'F': 0, 'G': -4, 'H': -3, 'I': 4, 'K': -3, 'L': 2, 'M': 1, 'N': -3, 'P': -3, 'Q': -3, 'R': -3, 'S': -2, 'T': -1, 'V': 3, 'W': -3, 'Y': -1}\n",
    "BLOSUM['K'] = {'A': -1, 'C': -3, 'D': -1, 'E': 1, 'F': -3, 'G': -2, 'H': -1, 'I': -3, 'K': 5, 'L': -2, 'M': -1, 'N': 0, 'P': -1, 'Q': 1, 'R': 2, 'S': 0, 'T': -1, 'V': -2, 'W': -3, 'Y': -2}\n",
    "BLOSUM['L'] = {'A': -1, 'C': -1, 'D': -4, 'E': -3, 'F': 0, 'G': -4, 'H': -3, 'I': 2, 'K': -2, 'L': 4, 'M': 2, 'N': -3, 'P': -3, 'Q': -2, 'R': -2, 'S': -2, 'T': -1, 'V': 1, 'W': -2, 'Y': -1}\n",
    "BLOSUM['M'] = {'A': -1, 'C': -1, 'D': -3, 'E': -2, 'F': 0, 'G': -3, 'H': -2, 'I': 1, 'K': -1, 'L': 2, 'M': 5, 'N': -2, 'P': -2, 'Q': 0, 'R': -1, 'S': -1, 'T': -1, 'V': 1, 'W': -1, 'Y': -1}\n",
    "BLOSUM['N'] = {'A': -2, 'C': -3, 'D': 1, 'E': 0, 'F': -3, 'G': 0, 'H': 1, 'I': -3, 'K': 0, 'L': -3, 'M': -2, 'N': 6, 'P': -2, 'Q': 0, 'R': 0, 'S': 1, 'T': 0, 'V': -3, 'W': -4, 'Y': -2}\n",
    "BLOSUM['P'] = {'A': -1, 'C': -3, 'D': -1, 'E': -1, 'F': -4, 'G': -2, 'H': -2, 'I': -3, 'K': -1, 'L': -3, 'M': -2, 'N': -2, 'P': 7, 'Q': -1, 'R': -2, 'S': -1, 'T': -1, 'V': -2, 'W': -4, 'Y': -3}\n",
    "BLOSUM['Q'] = {'A': -1, 'C': -3, 'D': 0, 'E': 2, 'F': -3, 'G': -2, 'H': 0, 'I': -3, 'K': 1, 'L': -2, 'M': 0, 'N': 0, 'P': -1, 'Q': 5, 'R': 1, 'S': 0, 'T': -1, 'V': -2, 'W': -2, 'Y': -1}\n",
    "BLOSUM['R'] = {'A': -1, 'C': -3, 'D': -2, 'E': 0, 'F': -3, 'G': -2, 'H': 0, 'I': -3, 'K': 2, 'L': -2, 'M': -1, 'N': 0, 'P': -2, 'Q': 1, 'R': 5, 'S': -1, 'T': -1, 'V': -3, 'W': -3, 'Y': -2}\n",
    "BLOSUM['S'] = {'A': 1, 'C': -1, 'D': 0, 'E': 0, 'F': -2, 'G': 0, 'H': -1, 'I': -2, 'K': 0, 'L': -2, 'M': -1, 'N': 1, 'P': -1, 'Q': 0, 'R': -1, 'S': 4, 'T': 1, 'V': -2, 'W': -3, 'Y': -2}\n",
    "BLOSUM['T'] = {'A': 0, 'C': -1, 'D': -1, 'E': -1, 'F': -2, 'G': -2, 'H': -2, 'I': -1, 'K': -1, 'L': -1, 'M': -1, 'N': 0, 'P': -1, 'Q': -1, 'R': -1, 'S': 1, 'T': 5, 'V': 0, 'W': -2, 'Y': -2}\n",
    "BLOSUM['V'] = {'A': 0, 'C': -1, 'D': -3, 'E': -2, 'F': -1, 'G': -3, 'H': -3, 'I': 3, 'K': -2, 'L': 1, 'M': 1, 'N': -3, 'P': -2, 'Q': -2, 'R': -3, 'S': -2, 'T': 0, 'V': 4, 'W': -3, 'Y': -1}\n",
    "BLOSUM['W'] = {'A': -3, 'C': -2, 'D': -4, 'E': -3, 'F': 1, 'G': -2, 'H': -2, 'I': -3, 'K': -3, 'L': -2, 'M': -1, 'N': -4, 'P': -4, 'Q': -2, 'R': -3, 'S': -3, 'T': -2, 'V': -3, 'W': 11, 'Y': 2}\n",
    "BLOSUM['Y'] = {'A': -2, 'C': -2, 'D': -3, 'E': -2, 'F': 3, 'G': -3, 'H': 2, 'I': -1, 'K': -2, 'L': -1, 'M': -1, 'N': -2, 'P': -3, 'Q': -1, 'R': -2, 'S': -2, 'T': -2, 'V': -1, 'W': 2, 'Y': 7}\n",
    "\n",
    "indel_penalty = 1"
   ]
  },
  {
   "cell_type": "code",
   "execution_count": 686,
   "metadata": {},
   "outputs": [
    {
     "name": "stdout",
     "output_type": "stream",
     "text": [
      "([[None, None, None, None, None, None, None], [None, 'diag', 'left', 'left', 'left', 'left', 'left'], [None, 'up', 'diag', 'left', 'left', 'left', 'left'], [None, 'up', 'up', 'diag', 'diag', 'diag', 'left'], [None, 'up', 'up', 'diag', 'left', 'up', 'diag'], [None, 'up', 'up', 'up', 'up', 'up', 'up'], [None, 'up', 'up', 'up', 'diag', 'up', 'up']], [[0, -1, -2, -3, -4, -5, -6], [-1, 7, 6, 5, 4, 3, 2], [-2, 6, 11, 10, 9, 8, 7], [-3, 5, 10, 11, 10, 15, 14], [-4, 4, 9, 15, 14, 14, 20], [-5, 3, 8, 14, 13, 13, 19], [-6, 2, 7, 13, 12, 12, 18]], 20, [4, 6])\n"
     ]
    },
    {
     "ename": "IndexError",
     "evalue": "list index out of range",
     "output_type": "error",
     "traceback": [
      "\u001b[0;31m---------------------------------------------------------------------------\u001b[0m",
      "\u001b[0;31mIndexError\u001b[0m                                Traceback (most recent call last)",
      "Cell \u001b[0;32mIn[686], line 1\u001b[0m\n\u001b[0;32m----> 1\u001b[0m \u001b[43mFittingAlignment\u001b[49m\u001b[43m(\u001b[49m\u001b[38;5;124;43m'\u001b[39;49m\u001b[38;5;124;43mPANTLY\u001b[39;49m\u001b[38;5;124;43m'\u001b[39;49m\u001b[43m,\u001b[49m\u001b[38;5;124;43m'\u001b[39;49m\u001b[38;5;124;43mPATENT\u001b[39;49m\u001b[38;5;124;43m'\u001b[39;49m\u001b[43m,\u001b[49m\u001b[43mBLOSUM\u001b[49m\u001b[43m,\u001b[49m\u001b[38;5;241;43m1\u001b[39;49m\u001b[43m)\u001b[49m\n",
      "Cell \u001b[0;32mIn[683], line 10\u001b[0m, in \u001b[0;36mFittingAlignment\u001b[0;34m(s, t, BLOSUM, indel_penalty)\u001b[0m\n\u001b[1;32m      8\u001b[0m \u001b[38;5;66;03m#print(s_p)\u001b[39;00m\n\u001b[1;32m      9\u001b[0m backtrack,m,max_val,max_ptr\u001b[38;5;241m=\u001b[39mFitting_Alignment_backtrack(BLOSUM,s_p,t,indel_penalty)\n\u001b[0;32m---> 10\u001b[0m fit_score\u001b[38;5;241m=\u001b[39mm[\u001b[43mmax_ptr\u001b[49m\u001b[43m[\u001b[49m\u001b[38;5;241;43m0\u001b[39;49m\u001b[43m]\u001b[49m][max_ptr[\u001b[38;5;241m1\u001b[39m]]\n\u001b[1;32m     11\u001b[0m \u001b[38;5;66;03m#print(backtrack)\u001b[39;00m\n\u001b[1;32m     12\u001b[0m \u001b[38;5;66;03m#print(fit_score)\u001b[39;00m\n\u001b[1;32m     13\u001b[0m \u001b[38;5;28;01mif\u001b[39;00m fit_score\u001b[38;5;241m>\u001b[39mmax_fitting_align:\n",
      "\u001b[0;31mIndexError\u001b[0m: list index out of range"
     ]
    }
   ],
   "source": [
    "FittingAlignment('PANTLY','PATENT',BLOSUM,1)"
   ]
  },
  {
   "cell_type": "code",
   "execution_count": 683,
   "metadata": {},
   "outputs": [],
   "source": [
    "def FittingAlignment(s: str, t: str, BLOSUM: Dict[str, Dict[str, int]], indel_penalty) -> Tuple[int, str, str]:\n",
    "    print(Fitting_Alignment_backtrack(BLOSUM,s,t,1))\n",
    "    max_fitting_align = float('-inf')\n",
    "    best_sp = \"\"\n",
    "    #best_backtrack = []\n",
    "    for s_i in range(len(s)+1):\n",
    "            s_p = s[s_i:]\n",
    "            #print(s_p)\n",
    "            backtrack,m,max_val,max_ptr=Fitting_Alignment_backtrack(BLOSUM,s_p,t,indel_penalty)\n",
    "            fit_score=m[max_ptr[0]][max_ptr[1]]\n",
    "            #print(backtrack)\n",
    "            #print(fit_score)\n",
    "            if fit_score>max_fitting_align:\n",
    "                max_fitting_align=fit_score\n",
    "                best_sp = s_p\n",
    "                best_backtrack=backtrack\n",
    "    out = [max_fitting_align]\n",
    "    #print(best_backtrack,best_sp,t)\n",
    "    for out_str in output_Global_Alignment(best_backtrack,best_sp,t):\n",
    "        out.append(out_str)\n",
    "    \n",
    "    return out"
   ]
  },
  {
   "cell_type": "code",
   "execution_count": 685,
   "metadata": {},
   "outputs": [],
   "source": [
    "def Fitting_Alignment_backtrack(BLOSUM: Dict[str, Dict[str, int]], s: str, t: str,indel_penalty) -> Tuple[int, str, str]:\n",
    "# Initialize the score matrix with zeros and set up the backtrack matrix\n",
    "    max_ptr = []\n",
    "    max_val = float('-inf')\n",
    "    m = [[0] * (len(t) + 1) for _ in range(len(s) + 1)]\n",
    "    backtrack = [[None] * (len(t) + 1) for _ in range(len(s) + 1)]\n",
    "    #indel_penalty=1\n",
    "    \n",
    "    # Initialize the first row and column of the score matrix\n",
    "    for i in range(len(s) + 1):\n",
    "        m[i][0] = i * -indel_penalty\n",
    "    for j in range(len(t) + 1):\n",
    "        m[0][j] = j * -indel_penalty\n",
    "    \n",
    "    # Fill the score matrix and the backtrack matrix\n",
    "    for i in range(1, len(s) + 1):\n",
    "        for j in range(1, len(t) + 1):\n",
    "            match_score=m[i - 1][j - 1] + BLOSUM[s[i-1]][t[j-1]]\n",
    "            #match_score = match_score\n",
    "            delete_score = m[i - 1][j] - indel_penalty\n",
    "            insert_score = m[i][j - 1] - indel_penalty\n",
    "            \n",
    "            m[i][j] = max(match_score, delete_score, insert_score)\n",
    "            if m[i][j]>max_val:\n",
    "                max_val=m[i][j]\n",
    "                max_ptr=[i,j]\n",
    "\n",
    "            if m[i][j]==0:\n",
    "                backtrack[i][j]='stop'\n",
    "            elif m[i][j] == match_score:\n",
    "                backtrack[i][j] = 'diag'\n",
    "            elif m[i][j] == delete_score:\n",
    "                backtrack[i][j] = 'up'\n",
    "            elif m[i][j] == insert_score:\n",
    "                backtrack[i][j] = 'left'\n",
    "    return backtrack,m,max_val,max_ptr\n"
   ]
  },
  {
   "cell_type": "markdown",
   "metadata": {},
   "source": [
    "### Overlap Alignment\n"
   ]
  },
  {
   "cell_type": "markdown",
   "metadata": {},
   "source": [
    "unlike global or local alignment, you only want to penalize indels in v at the beginning. Indels at the beginning of w are not penalized because they represent unmatched prefixes of w that do not overlap with v.\n",
    "Therefore, the first row (representing an empty v) is initialized with 0 (no penalty for leading indels in w). However, the first column (representing an empty w) should be initialized with indel penalties."
   ]
  },
  {
   "cell_type": "code",
   "execution_count": 996,
   "metadata": {},
   "outputs": [],
   "source": [
    "\n",
    "def Overlap_Alignment_backtrack(match_reward: int, mismatch_penalty: int, indel_penalty: int, s: str, t: str):\n",
    "    # Initialize the score matrix with zeros and set up the backtrack matrix\n",
    "    \n",
    "    m = [[0] * (len(t) + 1) for _ in range(len(s) + 1)]\n",
    "    backtrack = [['stop'] * (len(t) + 1) for _ in range(len(s) + 1)]\n",
    "    \n",
    "    # Initialization for the first row is not needed for overlap alignment as we are aligning suffix of s with prefix of t\n",
    "    for j in range(len(t)+1):\n",
    "        m[0][j]=-indel_penalty*j\n",
    "    for i in range(len(s)+1):\n",
    "        m[i][0]=0\n",
    "    # No need to penalize the start of s as any part of s can align with the start of t\n",
    "    # Fill the score matrix and the backtrack matrix\n",
    "    for i in range(1, len(s) + 1):\n",
    "        for j in range(1, len(t) + 1):\n",
    "            match_score = m[i - 1][j - 1] + (match_reward if s[i - 1] == t[j - 1] else -mismatch_penalty)\n",
    "            delete_score = m[i - 1][j] - indel_penalty\n",
    "            insert_score = m[i][j - 1] - indel_penalty\n",
    "\n",
    "            # Update the score for the current cell\n",
    "            #print(i,j,s[i-1],t[j-1],match_score,delete_score,insert_score)\n",
    "\n",
    "            m[i][j] = max(match_score, delete_score, insert_score)\n",
    "            \n",
    "            # Update the backtrack direction based on the choice made\n",
    "            \n",
    "            if m[i][j] == insert_score:\n",
    "                backtrack[i][j] = 'left'\n",
    "            elif m[i][j] == match_score:\n",
    "                backtrack[i][j] = 'diag'\n",
    "            elif m[i][j] == delete_score:\n",
    "                backtrack[i][j] = 'up'\n",
    "    # Find the maximum score in the last row and its index for the overlap alignment\n",
    "    max_score = max(m[-1][1:])\n",
    "    j = m[-1][1:].index(max_score)+1\n",
    "    i = len(s)  # We start traceback from the end of s\n",
    "    #print(i,j)\n",
    "    return backtrack,m,i,j,max_score\n",
    "def OverlapAlignment(match_reward: int, mismatch_penalty: int, indel_penalty: int, s: str, t: str) -> Tuple[int, str, str]:\n",
    "    backtrack,m,i,j,max_score= Overlap_Alignment_backtrack(match_reward,mismatch_penalty,indel_penalty,s,t)\n",
    "    print(backtrack)\n",
    "    print(m)\n",
    "    return [max_score]+[out for out in output_overlap_Alignment(backtrack,s,t,i,j)]\n",
    "def output_overlap_Alignment(backtrack: List[List[int]], s: str, t: str, i: int = None, j: int = None, align_s: str = '', align_t: str = ''):\n",
    "    # Initialize i and j with the lengths of s and t if not provided\n",
    "    if i is None:\n",
    "        i = len(s)\n",
    "    if j is None:\n",
    "        j = len(t)\n",
    "\n",
    "    # Base case: if we've reached the beginning of both strings, return the alignments\n",
    "    if i == 0 and j == 0:\n",
    "        return align_s, align_t\n",
    "    #print(backtrack[i][j],s[i-1],t[j-1],i,j)\n",
    "    # Recursive case: check the backtrack matrix and make the appropriate recursive call\n",
    "    if j > 0 and backtrack[i][j] == 'left':\n",
    "            #print('b')\n",
    "        return output_overlap_Alignment(backtrack, s, t, i, j - 1, '-' + align_s, t[j - 1] + align_t)\n",
    "    elif i > 0 and j > 0 and backtrack[i][j] == 'diag':\n",
    "        #print('a')\n",
    "        return output_overlap_Alignment(backtrack, s, t, i - 1, j - 1, s[i - 1] + align_s, t[j - 1] + align_t)\n",
    "    \n",
    "    elif i > 0 and backtrack[i][j] == 'up':\n",
    "        #print('c')\n",
    "        return output_overlap_Alignment(backtrack, s, t, i - 1, j, s[i - 1] + align_s, '-' + align_t)\n",
    "\n",
    "    elif i>0 and backtrack[i][j]=='stop':\n",
    "        #print('here',s[i-1],t[j-1])\n",
    "        return align_s,align_t\n",
    "\n",
    "    #print(i,j)\n",
    "    # If we're at the first column, we can only go up which means insertion in t\n",
    "    if i > 0:\n",
    "        #print(i,j,'here',align_s,align_t)\n",
    "        return output_overlap_Alignment(backtrack, s, t, i - 1, j, s[i - 1] + align_s, '-' + align_t)\n",
    "    if j > 0:\n",
    "        #print(i,j,'here2',align_s,align_t)\n",
    "        return output_overlap_Alignment(backtrack, s, t, i, j - 1, '-' + align_s, t[j - 1] + align_t)\n",
    "    \n",
    "    "
   ]
  },
  {
   "cell_type": "code",
   "execution_count": 997,
   "metadata": {},
   "outputs": [
    {
     "name": "stdout",
     "output_type": "stream",
     "text": [
      "[['stop', 'stop', 'stop', 'stop'], ['stop', 'left', 'left', 'left'], ['stop', 'left', 'diag', 'left'], ['stop', 'left', 'up', 'diag']]\n",
      "[[0, -1, -2, -3], [0, -1, -2, -3], [0, -1, 0, -1], [0, -1, -1, 1]]\n"
     ]
    },
    {
     "data": {
      "text/plain": [
       "[1, '-AT', 'CAT']"
      ]
     },
     "execution_count": 997,
     "metadata": {},
     "output_type": "execute_result"
    }
   ],
   "source": [
    "OverlapAlignment(1,1,1,'GAT','CAT')"
   ]
  },
  {
   "cell_type": "code",
   "execution_count": 992,
   "metadata": {},
   "outputs": [
    {
     "data": {
      "text/plain": [
       "[1, 'ACT', 'A-T']"
      ]
     },
     "execution_count": 992,
     "metadata": {},
     "output_type": "execute_result"
    }
   ],
   "source": [
    "OverlapAlignment(1,5,1,'ATCACT','ATG')"
   ]
  },
  {
   "cell_type": "code",
   "execution_count": 993,
   "metadata": {},
   "outputs": [
    {
     "data": {
      "text/plain": [
       "[0, 'CT', 'AT']"
      ]
     },
     "execution_count": 993,
     "metadata": {},
     "output_type": "execute_result"
    }
   ],
   "source": [
    "OverlapAlignment(1,1,5,'ATCACT','AT')"
   ]
  },
  {
   "cell_type": "code",
   "execution_count": 987,
   "metadata": {},
   "outputs": [
    {
     "name": "stdout",
     "output_type": "stream",
     "text": [
      "['stop', 'stop', 'stop', 'stop', 'stop', 'stop', 'stop', 'stop', 'stop', 'stop', 'stop', 'stop', 'stop', 'stop']\n",
      "['stop', 'left', 'left', 'diag', 'left', 'left', 'left', 'left', 'left', 'left', 'left', 'left', 'left', 'left']\n",
      "['stop', 'left', 'left', 'up', 'left', 'diag', 'left', 'left', 'left', 'left', 'left', 'left', 'left', 'left']\n",
      "['stop', 'left', 'left', 'up', 'left', 'diag', 'left', 'left', 'left', 'left', 'left', 'left', 'diag', 'left']\n",
      "3 5\n",
      "0 2\n",
      "0 2 here2 CT-T C-AT\n",
      "0 1\n",
      "0 1 here2 -CT-T GC-AT\n",
      "('--CT-T', 'AGC-AT')\n"
     ]
    }
   ],
   "source": [
    "backtrack,m,i,j,max_score=Overlap_Alignment_backtrack(2,3,1,'CTT','AGCATAAAGCATT')\n",
    "for row in backtrack:\n",
    "    print(row)\n",
    "\n",
    "print(i,j)\n",
    "\n",
    "print(output_overlap_Alignment(backtrack,'CTT','AGCATAAAGCATT',i,j))\n"
   ]
  },
  {
   "cell_type": "code",
   "execution_count": 998,
   "metadata": {},
   "outputs": [
    {
     "name": "stdout",
     "output_type": "stream",
     "text": [
      "[['stop', 'stop', 'stop', 'stop', 'stop', 'stop', 'stop'], ['stop', 'left', 'left', 'diag', 'left', 'left', 'left'], ['stop', 'diag', 'left', 'left', 'left', 'diag', 'left'], ['stop', 'diag', 'diag', 'left', 'left', 'left', 'left'], ['stop', 'up', 'up', 'left', 'diag', 'left', 'left'], ['stop', 'up', 'up', 'left', 'up', 'left', 'left']]\n",
      "[[0, -1, -2, -3, -4, -5, -6], [0, -1, -2, 0, -1, -2, -3], [0, 2, 1, 0, -1, 1, 0], [0, 2, 4, 3, 2, 1, 0], [0, 1, 3, 2, 5, 4, 3], [0, 0, 2, 1, 4, 3, 2]]\n"
     ]
    },
    {
     "data": {
      "text/plain": [
       "[4, 'CC-GT', 'CCAG-']"
      ]
     },
     "execution_count": 998,
     "metadata": {},
     "output_type": "execute_result"
    }
   ],
   "source": [
    "s1 = \"ACCGT\"\n",
    "s2 = \"CCAGCA\"\n",
    "OverlapAlignment(2,2,1,s1,s2)"
   ]
  },
  {
   "cell_type": "code",
   "execution_count": 1012,
   "metadata": {},
   "outputs": [],
   "source": [
    "from typing import List, Dict, Iterable, Tuple\n",
    "\n",
    "# Please do not remove package declarations because these are used by the autograder.\n",
    "\n",
    "# Insert your GlobalAlignment function here, along with any subroutines you need\n",
    "def GlobalAlignment(match_reward: int, mismatch_penalty: int, indel_penalty: int, s: str, t: str) -> Tuple[int, str, str]:\n",
    "    output = []\n",
    "    backtrack,m = GlobalAlignment_backtrack(match_reward,mismatch_penalty,indel_penalty,s,t)\n",
    "    #print(backtrack)\n",
    "    #print(m)\n",
    "    out = m[len(s)][len(t)]\n",
    "    align_s,align_t=output_Global_Alignment(backtrack,s,t)\n",
    "    return out,align_s,align_t\n",
    "def output_Global_Alignment(backtrack: List[List[int]], s: str, t: str, i: int = None, j: int = None, align_s: str = '', align_t: str = ''):\n",
    "    # Initialize i and j with the lengths of s and t if not provided\n",
    "    if i is None:\n",
    "        i = len(s)\n",
    "    if j is None:\n",
    "        j = len(t)\n",
    "\n",
    "    # Base case: if we've reached the beginning of both strings, return the alignments\n",
    "    if i == 0 and j == 0:\n",
    "        return align_s, align_t\n",
    "\n",
    "    # Recursive case: check the backtrack matrix and make the appropriate recursive call\n",
    "    if i > 0 and j > 0 and backtrack[i][j] == 'diag':\n",
    "        return output_Global_Alignment(backtrack, s, t, i - 1, j - 1, s[i - 1] + align_s, t[j - 1] + align_t)\n",
    "    elif i > 0 and backtrack[i][j] == 'up':\n",
    "        return output_Global_Alignment(backtrack, s, t, i - 1, j, s[i - 1] + align_s, '-' + align_t)\n",
    "    elif j > 0 and backtrack[i][j] == 'left':\n",
    "        return output_Global_Alignment(backtrack, s, t, i, j - 1, '-' + align_s, t[j - 1] + align_t)\n",
    "\n",
    "    # If we're at the first column, we can only go up which means insertion in t\n",
    "    if i > 0:\n",
    "        return output_Global_Alignment(backtrack, s, t, i - 1, j, s[i - 1] + align_s, '-' + align_t)\n",
    "    \n",
    "    # If we're at the first row, we can only go left which means insertion in s\n",
    "    if j > 0:\n",
    "        return output_Global_Alignment(backtrack, s, t, i, j - 1, '-' + align_s, t[j - 1] + align_t)\n",
    "\n",
    "def GlobalAlignment_backtrack(match_reward: int, mismatch_penalty: int, indel_penalty: int, s: str, t: str) -> Tuple[int, str, str]:\n",
    "# Initialize the score matrix with zeros and set up the backtrack matrix\n",
    "    m = [[0] * (len(t) + 1) for _ in range(len(s) + 1)]\n",
    "    backtrack = [[None] * (len(t) + 1) for _ in range(len(s) + 1)]\n",
    "    \n",
    "    # Initialize the first row and column of the score matrix\n",
    "    for i in range(len(s) + 1):\n",
    "        m[i][0] = i * -indel_penalty\n",
    "    for j in range(len(t) + 1):\n",
    "        m[0][j] = j * -indel_penalty\n",
    "    \n",
    "    # Fill the score matrix and the backtrack matrix\n",
    "    for i in range(1, len(s) + 1):\n",
    "        for j in range(1, len(t) + 1):\n",
    "            if s[i - 1] == t[j - 1]:\n",
    "                match_score = m[i - 1][j - 1] + match_reward\n",
    "            else:\n",
    "                match_score = m[i - 1][j - 1] - mismatch_penalty\n",
    "\n",
    "            #delete_score = m[i - 1][j] - indel_penalty\n",
    "            #insert_score = m[i][j - 1] - indel_penalty\n",
    "            delete_score = m[i - 1][j] - indel_penalty\n",
    "            insert_score = m[i][j - 1] - indel_penalty\n",
    "            \n",
    "            m[i][j] = max(match_score, delete_score, insert_score)\n",
    "            if m[i][j] == insert_score:\n",
    "                backtrack[i][j] = 'left'\n",
    "            elif m[i][j] == match_score:\n",
    "                backtrack[i][j] = 'diag'\n",
    "            elif m[i][j] == delete_score:\n",
    "                backtrack[i][j] = 'up'\n",
    "            \n",
    "    return backtrack,m\n"
   ]
  },
  {
   "cell_type": "code",
   "execution_count": 1061,
   "metadata": {},
   "outputs": [],
   "source": [
    "def GlobalAlignment_backtrack(match_reward: int, mismatch_penalty: int, indel_penalty: int, s: str, t: str) -> Tuple[int, str, str]:\n",
    "# Initialize the score matrix with zeros and set up the backtrack matrix\n",
    "    m = [[0] * (len(t) + 1) for _ in range(len(s) + 1)]\n",
    "    backtrack = [[None] * (len(t) + 1) for _ in range(len(s) + 1)]\n",
    "    \n",
    "    # Initialize the first row and column of the score matrix\n",
    "    for i in range(len(s) + 1):\n",
    "        m[i][0] = i * -indel_penalty\n",
    "    for j in range(len(t) + 1):\n",
    "        m[0][j] = j * -indel_penalty\n",
    "    \n",
    "    # Fill the score matrix and the backtrack matrix\n",
    "    for i in range(1, len(s) + 1):\n",
    "        for j in range(1, len(t) + 1):\n",
    "            if abs(i-j)<b:\n",
    "                if s[i - 1] == t[j - 1]:\n",
    "                    match_score = m[i - 1][j - 1] + match_reward\n",
    "                else:\n",
    "                    match_score = m[i - 1][j - 1] - mismatch_penalty\n",
    "\n",
    "                #delete_score = m[i - 1][j] - indel_penalty\n",
    "                #insert_score = m[i][j - 1] - indel_penalty\n",
    "                delete_score = m[i - 1][j] - indel_penalty\n",
    "                insert_score = m[i][j - 1] - indel_penalty\n",
    "            \n",
    "                m[i][j] = max(match_score, delete_score, insert_score)\n",
    "                if m[i][j] == insert_score:\n",
    "                    backtrack[i][j] = 'left'\n",
    "                elif m[i][j] == match_score:\n",
    "                    backtrack[i][j] = 'diag'\n",
    "                elif m[i][j] == delete_score:\n",
    "                    backtrack[i][j] = 'up'\n",
    "            \n",
    "    return backtrack,m"
   ]
  },
  {
   "cell_type": "code",
   "execution_count": 1014,
   "metadata": {},
   "outputs": [
    {
     "data": {
      "text/plain": [
       "(-1, '--CCCAA', 'AACCC--')"
      ]
     },
     "execution_count": 1014,
     "metadata": {},
     "output_type": "execute_result"
    }
   ],
   "source": [
    "GlobalAlignment(1,1,1,'CCCAA','AACCC')"
   ]
  },
  {
   "cell_type": "code",
   "execution_count": 1013,
   "metadata": {},
   "outputs": [
    {
     "data": {
      "text/plain": [
       "([[None, None, None, None, None, None],\n",
       "  [None, 'diag', 'left', 'diag', 'left', 'left'],\n",
       "  [None, 'diag', 'diag', 'diag', 'diag', 'left'],\n",
       "  [None, 'diag', 'diag', 'diag', 'diag', 'diag'],\n",
       "  [None, 'diag', 'diag', 'up', 'up', 'up'],\n",
       "  [None, 'diag', 'diag', 'left', 'up', 'up']],\n",
       " [[0, -1, -2, -3, -4, -5],\n",
       "  [-1, -1, -2, -1, -2, -3],\n",
       "  [-2, -2, -2, -1, 0, -1],\n",
       "  [-3, -3, -3, -1, 0, 1],\n",
       "  [-4, -2, -2, -2, -1, 0],\n",
       "  [-5, -3, -1, -2, -2, -1]])"
      ]
     },
     "execution_count": 1013,
     "metadata": {},
     "output_type": "execute_result"
    }
   ],
   "source": [
    "GlobalAlignment_backtrack(1,1,1,'CCCAA','AACCC')"
   ]
  },
  {
   "cell_type": "code",
   "execution_count": 1043,
   "metadata": {},
   "outputs": [],
   "source": [
    "def band_backtrack(match_reward: int, mismatch_penalty: int, indel_penalty: int, s: str, t: str,b:int) -> Tuple[int, str, str]:\n",
    "# Initialize the score matrix with zeros and set up the backtrack matrix\n",
    "    m = [[0] * (len(t) + 1) for _ in range(len(s) + 1)]\n",
    "    backtrack = [[None] * (len(t) + 1) for _ in range(len(s) + 1)]\n",
    "    #band = [[0] * (len(t) + 1) for _ in range(len(s) + 1)]\n",
    "    # Initialize the first row and column of the score matrix\n",
    "    for i in range(len(s) + 1):\n",
    "        m[i][0] = i * -indel_penalty\n",
    "    for j in range(len(t) + 1):\n",
    "        m[0][j] = j * -indel_penalty\n",
    "\n",
    "    # Fill the score matrix and the backtrack matrix\n",
    "    for i in range(1, len(s) + 1):\n",
    "        for j in range(1, len(t) + 1):\n",
    "            if abs(i-j)<b:\n",
    "                if s[i - 1] == t[j - 1]:\n",
    "                    match_score = m[i - 1][j - 1] + match_reward\n",
    "                else:\n",
    "                    match_score = m[i - 1][j - 1] - mismatch_penalty\n",
    "\n",
    "                delete_score = m[i - 1][j] - indel_penalty\n",
    "                insert_score = m[i][j - 1] - indel_penalty\n",
    "            \n",
    "            m[i][j] = max(match_score, delete_score, insert_score)\n",
    "            if m[i][j] == delete_score:\n",
    "                backtrack[i][j] = 'up'\n",
    "            if m[i][j] == insert_score:\n",
    "                backtrack[i][j] = 'left'\n",
    "            elif m[i][j] == match_score:\n",
    "                backtrack[i][j] = 'diag'\n",
    "            \n",
    "            \n",
    "    return backtrack,m"
   ]
  },
  {
   "cell_type": "code",
   "execution_count": 1048,
   "metadata": {},
   "outputs": [
    {
     "name": "stdout",
     "output_type": "stream",
     "text": [
      "[None, None, None, None, None, None]\n",
      "[None, 'diag', 'left', 'left', 'left', 'left']\n",
      "[None, 'diag', 'diag', 'diag', 'diag', 'diag']\n",
      "[None, 'diag', 'left', 'diag', 'diag', 'diag']\n",
      "[None, 'diag', 'diag', 'left', 'up', 'diag']\n",
      "[None, 'diag', 'diag', 'diag', 'left', 'diag']\n",
      "[0, -1, -2, -3, -4, -5]\n",
      "[-1, -1, -2, -2, -2, -2]\n",
      "[-2, -2, -2, -1, -1, -1]\n",
      "[-3, -1, -2, -1, 0, 0]\n",
      "[-4, 0, 0, -1, -1, -1]\n",
      "[-5, -1, -1, -1, -2, -2]\n",
      "[0, 1, 2, 3, 4, 5]\n",
      "[1, 0, 1, 2, 3, 4]\n",
      "[2, 1, 0, 1, 2, 3]\n",
      "[3, 2, 1, 0, 1, 2]\n",
      "[4, 3, 2, 1, 0, 1]\n",
      "[5, 4, 3, 2, 1, 0]\n"
     ]
    },
    {
     "data": {
      "text/plain": [
       "('C-CCA', 'AACC-')"
      ]
     },
     "execution_count": 1048,
     "metadata": {},
     "output_type": "execute_result"
    }
   ],
   "source": [
    "backtrack,m = band_backtrack(1,1,1,'CCCAA','AACCC',2)\n",
    "for row in backtrack:\n",
    "    print(row)\n",
    "for row in m:\n",
    "    print(row)\n",
    "for row in band:\n",
    "    print(row)\n",
    "#output_Global_Alignment(backtrack,'CCCAAA','AACCC',len(s),len(t))\n",
    "output_overlap_Alignment(backtrack,'CCCAA','AACCC',len(s),len(t))\n",
    "#output_overlap_Alignment(backtrack: List[List[int]], s: str, t: str, i: int = None, j: int = None, align_s: str = '', align_t: str = ''):\n",
    "\n",
    "\n"
   ]
  },
  {
   "cell_type": "code",
   "execution_count": 1046,
   "metadata": {},
   "outputs": [
    {
     "data": {
      "text/plain": [
       "('ATCC', 'CTAC')"
      ]
     },
     "execution_count": 1046,
     "metadata": {},
     "output_type": "execute_result"
    }
   ],
   "source": [
    "s='ATCC'\n",
    "t='CTAC'\n",
    "backtrack,m = band_backtrack(1,1,1,s,t,2)\n",
    "output_overlap_Alignment(backtrack,s,t,len(s),len(t))"
   ]
  },
  {
   "cell_type": "code",
   "execution_count": null,
   "metadata": {},
   "outputs": [],
   "source": [
    "def output_band_Alignment(backtrack: List[List[int]], s: str, t: str, i: int = None, j: int = None, align_s: str = '', align_t: str = ''):\n",
    "    # Initialize i and j with the lengths of s and t if not provided\n",
    "    if i is None:\n",
    "        i = len(s)\n",
    "    if j is None:\n",
    "        j = len(t)\n",
    "\n",
    "    # Base case: if we've reached the beginning of both strings, return the alignments\n",
    "    if i == 0 and j == 0:\n",
    "        return align_s, align_t\n",
    "\n",
    "    # Recursive case: check the backtrack matrix and make the appropriate recursive call\n",
    "    if i > 0 and j > 0 and backtrack[i][j] == 'diag':\n",
    "        return output_Global_Alignment(backtrack, s, t, i - 1, j - 1, s[i - 1] + align_s, t[j - 1] + align_t)\n",
    "    elif i > 0 and backtrack[i][j] == 'up':\n",
    "        return output_Global_Alignment(backtrack, s, t, i - 1, j, s[i - 1] + align_s, '-' + align_t)\n",
    "    elif j > 0 and backtrack[i][j] == 'left':\n",
    "        return output_Global_Alignment(backtrack, s, t, i, j - 1, '-' + align_s, t[j - 1] + align_t)\n",
    "\n",
    "    # If we're at the first column, we can only go up which means insertion in t\n",
    "    if i > 0:\n",
    "        return output_Global_Alignment(backtrack, s, t, i - 1, j, s[i - 1] + align_s, '-' + align_t)\n",
    "    \n",
    "    # If we're at the first row, we can only go left which means insertion in s\n",
    "    if j > 0:\n",
    "        return output_Global_Alignment(backtrack, s, t, i, j - 1, '-' + align_s, t[j - 1] + align_t)"
   ]
  },
  {
   "cell_type": "code",
   "execution_count": null,
   "metadata": {},
   "outputs": [],
   "source": [
    "def BandedAlignment(match_reward: int, mismatch_penalty: int, indel_penalty: int,\n",
    "                    band_parameter: int, s: str, t: str) -> Tuple[int, str, str]:"
   ]
  },
  {
   "cell_type": "code",
   "execution_count": null,
   "metadata": {},
   "outputs": [],
   "source": [
    "def output_overlap_Alignment(backtrack: List[List[int]], s: str, t: str, i: int = None, j: int = None, align_s: str = '', align_t: str = ''):\n",
    "    # Initialize i and j with the lengths of s and t if not provided\n",
    "    if i is None:\n",
    "        i = len(s)\n",
    "    if j is None:\n",
    "        j = len(t)\n",
    "\n",
    "    # Base case: if we've reached the beginning of both strings, return the alignments\n",
    "    if i == 0 and j == 0:\n",
    "        return align_s, align_t\n",
    "    #print(backtrack[i][j],s[i-1],t[j-1],i,j)\n",
    "    # Recursive case: check the backtrack matrix and make the appropriate recursive call\n",
    "    if j > 0 and backtrack[i][j] == 'left':\n",
    "            #print('b')\n",
    "        return output_overlap_Alignment(backtrack, s, t, i, j - 1, '-' + align_s, t[j - 1] + align_t)\n",
    "    elif i > 0 and j > 0 and backtrack[i][j] == 'diag':\n",
    "        #print('a')\n",
    "        return output_overlap_Alignment(backtrack, s, t, i - 1, j - 1, s[i - 1] + align_s, t[j - 1] + align_t)\n",
    "    \n",
    "    elif i > 0 and backtrack[i][j] == 'up':\n",
    "        #print('c')\n",
    "        return output_overlap_Alignment(backtrack, s, t, i - 1, j, s[i - 1] + align_s, '-' + align_t)\n",
    "\n",
    "    elif i>0 and backtrack[i][j]=='stop':\n",
    "        #print('here',s[i-1],t[j-1])\n",
    "        return align_s,align_t\n",
    "\n",
    "    #print(i,j)\n",
    "    # If we're at the first column, we can only go up which means insertion in t\n",
    "    if i > 0:\n",
    "        #print(i,j,'here',align_s,align_t)\n",
    "        return output_overlap_Alignment(backtrack, s, t, i - 1, j, s[i - 1] + align_s, '-' + align_t)\n",
    "    if j > 0:\n",
    "        #print(i,j,'here2',align_s,align_t)\n",
    "        return output_overlap_Alignment(backtrack, s, t, i, j - 1, '-' + align_s, t[j - 1] + align_t)\n",
    "    \n",
    "    "
   ]
  },
  {
   "cell_type": "code",
   "execution_count": 1058,
   "metadata": {},
   "outputs": [],
   "source": [
    "def BandedAlignment(match_reward: int, mismatch_penalty: int, indel_penalty: int,\n",
    "                    band_parameter: int, s: str, t: str) -> Tuple[int, str, str]:\n",
    "    backtrack,max_score = band_backtrack(1,1,1,s,t,band_parameter)\n",
    "    return [max_score] + [output for output in output_Global_Alignment(backtrack,s,t,len(s),len(t))]\n",
    "\n",
    "def band_backtrack(match_reward: int, mismatch_penalty: int, indel_penalty: int, s: str, t: str,b:int) -> Tuple[int, str, str]:\n",
    "# Initialize the score matrix with zeros and set up the backtrack matrix\n",
    "    m = [[0] * (len(t) + 1) for _ in range(len(s) + 1)]\n",
    "    backtrack = [[None] * (len(t) + 1) for _ in range(len(s) + 1)]\n",
    "    #band = [[0] * (len(t) + 1) for _ in range(len(s) + 1)]\n",
    "    # Initialize the first row and column of the score matrix\n",
    "    for i in range(len(s) + 1):\n",
    "        m[i][0] = i*  -indel_penalty\n",
    "    for j in range(len(t) + 1):\n",
    "        m[0][j] = j * -indel_penalty\n",
    "\n",
    "    # Fill the score matrix and the backtrack matrix\n",
    "    for i in range(1, len(s) + 1):\n",
    "        for j in range(1, len(t) + 1):\n",
    "            if abs(i-j)<b:\n",
    "                if s[i - 1] == t[j - 1]:\n",
    "                    match_score = m[i - 1][j - 1] + match_reward\n",
    "                else:\n",
    "                    match_score = m[i - 1][j - 1] - mismatch_penalty\n",
    "\n",
    "                delete_score = m[i - 1][j] - indel_penalty\n",
    "                insert_score = m[i][j - 1] - indel_penalty\n",
    "            \n",
    "            m[i][j] = max(match_score, delete_score, insert_score)\n",
    "            if m[i][j] == delete_score:\n",
    "                backtrack[i][j] = 'up'\n",
    "            elif m[i][j] == insert_score:\n",
    "                backtrack[i][j] = 'left'\n",
    "            elif m[i][j] == match_score:\n",
    "                backtrack[i][j] = 'diag'\n",
    "            \n",
    "    max_score = m[len(s)][len(t)]\n",
    "    return backtrack,max_score\n",
    "def output_Global_Alignment(backtrack: List[List[int]], s: str, t: str, i: int = None, j: int = None, align_s: str = '', align_t: str = ''):\n",
    "    # Initialize i and j with the lengths of s and t if not provided\n",
    "    if i is None:\n",
    "        i = len(s)\n",
    "    if j is None:\n",
    "        j = len(t)\n",
    "\n",
    "    # Base case: if we've reached the beginning of both strings, return the alignments\n",
    "    if i == 0 and j == 0:\n",
    "        return align_s, align_t\n",
    "\n",
    "    # Recursive case: check the backtrack matrix and make the appropriate recursive call\n",
    "    if i > 0 and j > 0 and backtrack[i][j] == 'diag':\n",
    "        return output_Global_Alignment(backtrack, s, t, i - 1, j - 1, s[i - 1] + align_s, t[j - 1] + align_t)\n",
    "    elif i > 0 and backtrack[i][j] == 'up':\n",
    "        return output_Global_Alignment(backtrack, s, t, i - 1, j, s[i - 1] + align_s, '-' + align_t)\n",
    "    elif j > 0 and backtrack[i][j] == 'left':\n",
    "        return output_Global_Alignment(backtrack, s, t, i, j - 1, '-' + align_s, t[j - 1] + align_t)\n",
    "\n",
    "    # If we're at the first column, we can only go up which means insertion in t\n",
    "    if i > 0:\n",
    "        return output_Global_Alignment(backtrack, s, t, i - 1, j, s[i - 1] + align_s, '-' + align_t)\n",
    "    \n",
    "    # If we're at the first row, we can only go left which means insertion in s\n",
    "    if j > 0:\n",
    "        return output_Global_Alignment(backtrack, s, t, i, j - 1, '-' + align_s, t[j - 1] + align_t)"
   ]
  },
  {
   "cell_type": "code",
   "execution_count": 1071,
   "metadata": {},
   "outputs": [],
   "source": [
    "def band_backtrack(match_reward: int, mismatch_penalty: int, indel_penalty: int, s: str, t: str,b:int) -> Tuple[int, str, str]:\n",
    "# Initialize the score matrix with zeros and set up the backtrack matrix\n",
    "    m = [[0] * (len(t) + 1) for _ in range(len(s) + 1)]\n",
    "    backtrack = [['stop'] * (len(t) + 1) for _ in range(len(s) + 1)]\n",
    "    \n",
    "    for i in range(len(s) + 1):\n",
    "        m[i][0] = i*  -indel_penalty\n",
    "    for j in range(len(t) + 1):\n",
    "        m[0][j] = j * -indel_penalty\n",
    "    # Fill the score matrix and the backtrack matrix\n",
    "    for i in range(1, len(s) + 1):\n",
    "        for j in range(1, len(t) + 1):\n",
    "            if abs(i-j)<b:\n",
    "                if s[i - 1] == t[j - 1]:\n",
    "                    match_score = m[i - 1][j - 1] + match_reward\n",
    "                else:\n",
    "                    match_score = m[i - 1][j - 1] - mismatch_penalty\n",
    "\n",
    "                delete_score = m[i - 1][j] - indel_penalty\n",
    "                insert_score = m[i][j - 1] - indel_penalty\n",
    "                print(s[i-1],t[j-1],match_score, delete_score, insert_score)\n",
    "                m[i][j] = max(match_score, delete_score, insert_score)\n",
    "                if m[i][j] == delete_score:\n",
    "                    backtrack[i][j] = 'up'\n",
    "                elif m[i][j] == insert_score:\n",
    "                    backtrack[i][j] = 'left'\n",
    "                elif m[i][j] == match_score:\n",
    "                    backtrack[i][j] = 'diag'\n",
    "                if m[i][j]==0:\n",
    "                    backtrack[i][j]='stop'\n",
    "                \n",
    "                \n",
    "    max_score = m[len(s)][len(t)]\n",
    "    return backtrack,max_score"
   ]
  },
  {
   "cell_type": "code",
   "execution_count": 1092,
   "metadata": {},
   "outputs": [
    {
     "name": "stdout",
     "output_type": "stream",
     "text": [
      "[None, None, None, None, None, None]\n",
      "[None, 'diag', 'left', None, None, None]\n",
      "[None, 'up', 'diag', 'diag', None, None]\n",
      "[None, None, 'up', 'diag', 'diag', None]\n",
      "[None, None, None, 'up', 'up', 'diag']\n",
      "[None, None, None, None, 'up', 'up']\n",
      "[0, -1, -2, -3, -4, -5]\n",
      "[-1, -1, -2, -inf, -inf, -inf]\n",
      "[-2, -2, -2, -1, -inf, -inf]\n",
      "[-3, -inf, -3, -1, 0, -inf]\n",
      "[-4, -inf, -inf, -2, -1, -1]\n",
      "[-5, -inf, -inf, -inf, -2, -2]\n"
     ]
    }
   ],
   "source": [
    "backtrack,max_score,m = band_backtrack(1,1,1,'CCCAA','AACCC',2)\n",
    "for row in backtrack:\n",
    "    print(row)\n",
    "for row in m:\n",
    "    print(row)"
   ]
  },
  {
   "cell_type": "code",
   "execution_count": 1085,
   "metadata": {},
   "outputs": [
    {
     "data": {
      "text/plain": [
       "[-2, 'C-CCAA', 'AACCC-']"
      ]
     },
     "execution_count": 1085,
     "metadata": {},
     "output_type": "execute_result"
    }
   ],
   "source": [
    "BandedAlignment(1,1,1,2,'CCCAA','AACCC')"
   ]
  },
  {
   "cell_type": "code",
   "execution_count": null,
   "metadata": {},
   "outputs": [],
   "source": [
    "C-CCAA\n",
    "AACCC-\n"
   ]
  },
  {
   "cell_type": "code",
   "execution_count": 1090,
   "metadata": {},
   "outputs": [],
   "source": [
    "\n",
    "# Insert your BandedAlignment function here, along with any subroutines you need\n",
    "def BandedAlignment(match_reward: int, mismatch_penalty: int, indel_penalty: int,\n",
    "                    band_parameter: int, s: str, t: str) -> Tuple[int, str, str]:\n",
    "    backtrack,max_score = band_backtrack(match_reward,mismatch_penalty,indel_penalty,s,t,band_parameter)\n",
    "    return [max_score] + [output for output in output_Global_Alignment(backtrack,s,t,len(s),len(t))]\n",
    "\n",
    "def band_backtrack(match_reward: int, mismatch_penalty: int, indel_penalty: int, s: str, t: str,b:int) -> Tuple[int, str, str]:\n",
    "# Initialize the score matrix with zeros and set up the backtrack matrix\n",
    "    m = [[float('-inf')] * (len(t) + 1) for _ in range(len(s) + 1)]\n",
    "    backtrack = [[None] * (len(t) + 1) for _ in range(len(s) + 1)]\n",
    "    #band = [[0] * (len(t) + 1) for _ in range(len(s) + 1)]\n",
    "    # Initialize the first row and column of the score matrix\n",
    "    for i in range(len(s) + 1):\n",
    "        m[i][0] = i * -indel_penalty\n",
    "    for j in range(len(t) + 1):\n",
    "        m[0][j] = j * -indel_penalty\n",
    "\n",
    "    # Fill the score matrix and the backtrack matrix\n",
    "    for i in range(1, len(s) + 1):\n",
    "        for j in range(1, len(t) + 1):\n",
    "            if abs(i-j)<b:\n",
    "                if s[i - 1] == t[j - 1]:\n",
    "                    match_score = m[i - 1][j - 1] + match_reward\n",
    "                else:\n",
    "                    match_score = m[i - 1][j - 1] - mismatch_penalty\n",
    "\n",
    "                delete_score = m[i - 1][j] - indel_penalty\n",
    "                insert_score = m[i][j - 1] - indel_penalty\n",
    "            \n",
    "                m[i][j] = max(match_score, delete_score, insert_score)\n",
    "                if m[i][j] == delete_score:\n",
    "                    backtrack[i][j] = 'up'\n",
    "                elif m[i][j] == insert_score:\n",
    "                    backtrack[i][j] = 'left'\n",
    "                elif m[i][j] == match_score:\n",
    "                    backtrack[i][j] = 'diag'\n",
    "            \n",
    "    max_score = m[len(s)][len(t)]\n",
    "    return backtrack,max_score,m\n",
    "def output_Global_Alignment(backtrack: List[List[int]], s: str, t: str, i: int = None, j: int = None, align_s: str = '', align_t: str = ''):\n",
    "    # Initialize i and j with the lengths of s and t if not provided\n",
    "    if i is None:\n",
    "        i = len(s)\n",
    "    if j is None:\n",
    "        j = len(t)\n",
    "\n",
    "    # Base case: if we've reached the beginning of both strings, return the alignments\n",
    "    if i == 0 and j == 0:\n",
    "        return align_s, align_t\n",
    "\n",
    "    # Recursive case: check the backtrack matrix and make the appropriate recursive call\n",
    "    if i > 0 and j > 0 and backtrack[i][j] == 'diag':\n",
    "        return output_Global_Alignment(backtrack, s, t, i - 1, j - 1, s[i - 1] + align_s, t[j - 1] + align_t)\n",
    "    elif i > 0 and backtrack[i][j] == 'up':\n",
    "        return output_Global_Alignment(backtrack, s, t, i - 1, j, s[i - 1] + align_s, '-' + align_t)\n",
    "    elif j > 0 and backtrack[i][j] == 'left':\n",
    "        return output_Global_Alignment(backtrack, s, t, i, j - 1, '-' + align_s, t[j - 1] + align_t)\n",
    "\n",
    "    # If we're at the first column, we can only go up which means insertion in t\n",
    "    if i > 0:\n",
    "        return output_Global_Alignment(backtrack, s, t, i - 1, j, s[i - 1] + align_s, '-' + align_t)\n",
    "    \n",
    "    # If we're at the first row, we can only go left which means insertion in s\n",
    "    if j > 0:\n",
    "        return output_Global_Alignment(backtrack, s, t, i, j - 1, '-' + align_s, t[j - 1] + align_t)\n"
   ]
  }
 ],
 "metadata": {
  "kernelspec": {
   "display_name": "testpy3",
   "language": "python",
   "name": "python3"
  },
  "language_info": {
   "codemirror_mode": {
    "name": "ipython",
    "version": 3
   },
   "file_extension": ".py",
   "mimetype": "text/x-python",
   "name": "python",
   "nbconvert_exporter": "python",
   "pygments_lexer": "ipython3",
   "version": "3.9.10"
  }
 },
 "nbformat": 4,
 "nbformat_minor": 2
}
