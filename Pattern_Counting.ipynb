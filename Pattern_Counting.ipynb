{
 "cells": [
  {
   "cell_type": "markdown",
   "metadata": {},
   "source": [
    "# Pattern Counting\n",
    "`pattern count` \n",
    "Input: Strings Text and Pattern.\n",
    "Output: Count(Text, Pattern)."
   ]
  },
  {
   "cell_type": "code",
   "execution_count": 19,
   "metadata": {},
   "outputs": [],
   "source": [
    "def pattern_count(text: str, pattern: str) -> int:\n",
    "    count =0\n",
    "    for i in range(0,len(text)-len(pattern)+1): #iterating through every kmer in text\n",
    "        if text[i:i+len(pattern)]==pattern: #if it matches pattern\n",
    "            count+=1\n",
    "    return count"
   ]
  },
  {
   "cell_type": "code",
   "execution_count": 49,
   "metadata": {},
   "outputs": [],
   "source": [
    "def scattered_pattern_count(text: str, pattern: str, overlap: int) -> int:\n",
    "    count =0\n",
    "    i=0\n",
    "    n = len(text)\n",
    "    k = len(pattern)\n",
    "    while i<=n-k:\n",
    "        if text[i:i+k]==pattern: #if it matches pattern\n",
    "            count+=1\n",
    "            if k>overlap:\n",
    "                i=i+k-overlap\n",
    "            else:\n",
    "                return 0\n",
    "        else:\n",
    "            i+=1\n",
    "        \n",
    "    return count"
   ]
  },
  {
   "cell_type": "code",
   "execution_count": null,
   "metadata": {},
   "outputs": [],
   "source": [
    "'GATATA','ATA',3"
   ]
  },
  {
   "cell_type": "code",
   "execution_count": 50,
   "metadata": {},
   "outputs": [
    {
     "data": {
      "text/plain": [
       "0"
      ]
     },
     "execution_count": 50,
     "metadata": {},
     "output_type": "execute_result"
    }
   ],
   "source": [
    "scattered_pattern_count('GATATATATCATATATATATATG','ATATAT',6)"
   ]
  },
  {
   "cell_type": "markdown",
   "metadata": {},
   "source": [
    "### Frequent words problem\n",
    "most frequent kmer in text = pattern with highest `pattern_count(text,pattern)`\n",
    "O(|Text|^2*k) = Uses array to store \n",
    "Freq Table approach: hash map for kmer with count"
   ]
  },
  {
   "cell_type": "markdown",
   "metadata": {},
   "source": [
    "FrequencyTable(Text, k)\n",
    "    freqMap ← empty map\n",
    "    n ← |Text|\n",
    "    for i ← 0 to n − k\n",
    "        Pattern ← Text(i, k)\n",
    "        if freqMap[Pattern] doesn't exist\n",
    "            freqMap[Pattern]← 1\n",
    "        else\n",
    "           freqMap[pattern] ←freqMap[pattern]+1 \n",
    "    return freqMap"
   ]
  },
  {
   "cell_type": "code",
   "execution_count": 6,
   "metadata": {},
   "outputs": [],
   "source": [
    "def frequency_table(text: str, k: int) -> dict[str, int]:\n",
    "    freqMap = {}\n",
    "    n = len(text)\n",
    "    for i in range(0,n-k+1):\n",
    "        pattern = text[i:i+k]\n",
    "        if pattern not in freqMap:\n",
    "            freqMap[pattern]=1\n",
    "        else:\n",
    "            freqMap[pattern]=freqMap[pattern]+1\n",
    "    return freqMap\n",
    "\n",
    "def MaxMap(freqMap: dict[str,int]) -> int:\n",
    "    max_key = max(freqMap, key=lambda k: freqMap[k])\n",
    "    return freqMap[max_key]\n",
    "\n",
    "def frequent_words(text: str, k: int) -> list[str]:\n",
    "    \"\"\"Find the most frequent k-mers in a given text.\"\"\"\n",
    "    freqPatterns = []\n",
    "    freqMap = frequency_table(text,k)\n",
    "    max_len = MaxMap(freqMap)\n",
    "    for key in freqMap:\n",
    "        if freqMap[key] == max_len:\n",
    "            freqPatterns.append(key)\n",
    "    return freqPatterns\n",
    "     "
   ]
  },
  {
   "cell_type": "markdown",
   "metadata": {},
   "source": [
    "Reverse Complement of string"
   ]
  },
  {
   "cell_type": "code",
   "execution_count": 20,
   "metadata": {},
   "outputs": [],
   "source": [
    "def reverse_complement(pattern: str) -> str:\n",
    "    reversed_str = \"\"\n",
    "    for char in pattern:\n",
    "        reversed_str = reverse(char)+reversed_str\n",
    "    return reversed_str\n",
    "def reverse(char: str) -> str:\n",
    "    if char=='A':\n",
    "        return 'T'\n",
    "    elif char=='T':\n",
    "        return 'A'\n",
    "    elif char=='G':\n",
    "        return 'C'\n",
    "    else:\n",
    "        return 'G'"
   ]
  },
  {
   "cell_type": "code",
   "execution_count": 2,
   "metadata": {},
   "outputs": [
    {
     "data": {
      "text/plain": [
       "'CAT'"
      ]
     },
     "execution_count": 2,
     "metadata": {},
     "output_type": "execute_result"
    }
   ],
   "source": [
    "reverse_complement('ATG')"
   ]
  },
  {
   "cell_type": "markdown",
   "metadata": {},
   "source": [
    "### Pattern Matching\n",
    "Find all occurrences of a pattern in a genome."
   ]
  },
  {
   "cell_type": "code",
   "execution_count": null,
   "metadata": {},
   "outputs": [],
   "source": [
    "def pattern_matching(pattern: str, genome: str) -> list[int]: #1.3\n",
    "    \"\"\"Find all occurrences of a pattern in a genome.\"\"\"\n",
    "    ind = []\n",
    "    for i in range(0,len(genome)-len(pattern)+1):\n",
    "        kmer = genome[i:i+len(pattern)]\n",
    "        if kmer==pattern:\n",
    "            ind.append(i)\n",
    "    return ind"
   ]
  },
  {
   "cell_type": "code",
   "execution_count": null,
   "metadata": {},
   "outputs": [],
   "source": []
  },
  {
   "cell_type": "markdown",
   "metadata": {},
   "source": [
    "### Clump Finding Problem\n",
    "We defined a k-mer as a \"clump\" if it appears many times within a short interval of the genome. More formally, given integers L and t, a k-mer Pattern forms an (L, t)-clump inside a (longer) string Genome if there is an interval of Genome of length L in which this k-mer appears at least t times. "
   ]
  },
  {
   "cell_type": "markdown",
   "metadata": {},
   "source": [
    "FindClumps(Text, k, L, t)\n",
    "    Patterns ← an array of strings of length 0\n",
    "    n ← |Text|\n",
    "    for every integer i between 0 and n − L\n",
    "        Window ← Text(i, L)\n",
    "        freqMap ← FrequencyTable(Window, k)\n",
    "        for every key s in freqMap\n",
    "            if freqMap[s] ≥ t\n",
    "                append s to Patterns\n",
    "    remove duplicates from Patterns\n",
    "    return Pattern"
   ]
  },
  {
   "cell_type": "code",
   "execution_count": 11,
   "metadata": {},
   "outputs": [],
   "source": [
    "def find_clumps(text: str, k: int, L: int, t: int) -> list[str]: #1.4 \n",
    "    Patterns = [] \n",
    "    n = len(text)\n",
    "    for i in range(0,n-L+1):\n",
    "        window = text[i:i+L] \n",
    "        #print(window)\n",
    "        freqMap = frequency_table(window, k)\n",
    "        for key in freqMap:\n",
    "            if freqMap[key] >= t:\n",
    "                if key not in Patterns:\n",
    "                    Patterns.append(key)\n",
    "    return Patterns"
   ]
  },
  {
   "cell_type": "code",
   "execution_count": 12,
   "metadata": {},
   "outputs": [
    {
     "data": {
      "text/plain": [
       "['CGACA', 'GAAGA']"
      ]
     },
     "execution_count": 12,
     "metadata": {},
     "output_type": "execute_result"
    }
   ],
   "source": [
    "find_clumps('CGGACTCGACAGATGTGAAGAACGACAATGTGAAGACTCGACACGACAGAGTGAAGAGAAGAGGAAACATTGTAA',5,50,4)"
   ]
  },
  {
   "cell_type": "markdown",
   "metadata": {},
   "source": [
    "### DNA Replication\n",
    "Leading strand: no stopping 5'to3' (template is 3' to 5') (reverse half strand - high C%)\\\n",
    "Lagging strand: stopping (template is 5' to 3') (forward half strand- high G%)\\\n",
    "\\\n",
    "Difference in nucleotides because of deamination\n",
    "Lagging strand is more likely to have mutations (C->T) > when making 3' to 5' new strand more As decreasing normal amount of Gs > if less Gs new 5' to 3' strand has lesser Cs > G-C decreases\\\n",
    "\\\n",
    "Thus, min skew value is where the ori is"
   ]
  },
  {
   "cell_type": "code",
   "execution_count": 17,
   "metadata": {},
   "outputs": [],
   "source": [
    "def minimum_skew(genome: str) -> list[int]:\n",
    "    skew = [0] \n",
    "    min_skew_value = 0\n",
    "    min_pos = [0]\n",
    "\n",
    "    for i in range(len(genome)): #tracks all curr skew values by adding a nucleotide, then finds where the lowest skew values are\n",
    "        if genome[i] == \"C\":\n",
    "            skew_value = skew[-1] - 1\n",
    "        elif genome[i] == \"G\":\n",
    "            skew_value = skew[-1] + 1\n",
    "        else:\n",
    "            skew_value = skew[-1]\n",
    "\n",
    "        skew.append(skew_value)\n",
    "        #print(skew_value,skew)\n",
    "        if skew_value < min_skew_value:\n",
    "            min_skew_value = skew_value\n",
    "            min_pos = [i + 1]\n",
    "        elif skew_value == min_skew_value:\n",
    "            min_pos.append(i + 1)\n",
    "\n",
    "    return min_pos"
   ]
  },
  {
   "cell_type": "markdown",
   "metadata": {},
   "source": [
    "'TAACG'\n",
    "[0,0,0,-1,0]\n",
    "min_pos = 3 "
   ]
  },
  {
   "cell_type": "code",
   "execution_count": 18,
   "metadata": {},
   "outputs": [
    {
     "data": {
      "text/plain": [
       "[11, 24]"
      ]
     },
     "execution_count": 18,
     "metadata": {},
     "output_type": "execute_result"
    }
   ],
   "source": [
    "minimum_skew('TAAAGACTGCCGAGAGGCCAACACGAGTGCTAGAACGAGGGGCGTAAACGCGGGTCCGAT')"
   ]
  },
  {
   "cell_type": "markdown",
   "metadata": {},
   "source": [
    "## Freq Word with Mismatch (within ham_dist)\n",
    "\n",
    "Add to freq if pattern <= d distance \n",
    "### Mismatch (Hamming Distance)\n",
    "\n",
    "'AAT' and 'CAT' ham_dis=1"
   ]
  },
  {
   "cell_type": "code",
   "execution_count": null,
   "metadata": {},
   "outputs": [],
   "source": [
    "def hamming_distance(p: str, q: str) -> int: #1.8.1\n",
    "    if len(p)!=len(q):\n",
    "        return -1\n",
    "    ham_count = 0\n",
    "    for i in range(0,len(p)):\n",
    "        if p[i]!=q[i]:\n",
    "            ham_count+=1\n",
    "    \n",
    "    return ham_count"
   ]
  },
  {
   "cell_type": "markdown",
   "metadata": {},
   "source": [
    "### Approx Pattern Match/Count \n",
    "compares kmers to 1 given pattern"
   ]
  },
  {
   "cell_type": "code",
   "execution_count": null,
   "metadata": {},
   "outputs": [],
   "source": [
    "def approximate_pattern_matching(pattern: str, text: str, d: int) -> list[int]: #takes in pattern and compares to every kmer in text (adds if in hamming dist)\n",
    "    ind = []\n",
    "    for i in range(0,len(text)-len(pattern)+1):\n",
    "        kmer = text[i:i+len(pattern)]\n",
    "        if hamming_distance(kmer,pattern)<=d: \n",
    "            ind.append(i)\n",
    "    return ind"
   ]
  },
  {
   "cell_type": "code",
   "execution_count": null,
   "metadata": {},
   "outputs": [],
   "source": [
    "def approximate_pattern_count(text: str, pattern: str, d: int) -> int: #same thing as approximate_pattern_matching but instead of ind arr keeps count\n",
    "    count = 0\n",
    "    for i in range(0, len(text)-len(pattern)+1):\n",
    "        kmer = text[i:i+len(pattern)]\n",
    "        if hamming_distance(kmer,pattern)<=d:\n",
    "            count+=1\n",
    "    \n",
    "    return count"
   ]
  },
  {
   "cell_type": "markdown",
   "metadata": {},
   "source": [
    "### Freq Table with Mismatch\n"
   ]
  },
  {
   "cell_type": "code",
   "execution_count": null,
   "metadata": {},
   "outputs": [],
   "source": [
    "def neighbors(pattern: str,d: int) -> list[str]:\n",
    "    if d==0:\n",
    "        return [pattern]\n",
    "    if len(pattern)==1:\n",
    "        return [\"A\",\"C\",\"G\",\"T\"]\n",
    "    Neighborhood = []\n",
    "    suffixNeighborhood = neighbors(pattern[1:],d)\n",
    "    for text in suffixNeighborhood:\n",
    "        if hamming_distance(pattern[1:],text)<d:\n",
    "            for nucleotide in [\"A\",\"T\",\"G\",\"C\"]:\n",
    "                Neighborhood.append(nucleotide+text)\n",
    "        else:\n",
    "            Neighborhood.append(pattern[0]+text)\n",
    "    return Neighborhood"
   ]
  },
  {
   "cell_type": "code",
   "execution_count": null,
   "metadata": {},
   "outputs": [],
   "source": [
    "def frequent_words_with_mismatches(text: str, k: int, d: int) -> list[str]: \n",
    "    patterns = []\n",
    "    freqMap = {}\n",
    "    n = len(text)\n",
    "    for i in range(0,n-k+1): #iterating through kmers\n",
    "        pattern = text[i:i+k]\n",
    "        #print(pattern)\n",
    "        neighborhood = neighbors(pattern, d) #finding all neighbors of kmer within d dist\n",
    "        for j in range(0,len(neighborhood)): #iterating through all neighbors of kmer\n",
    "            neighbor = neighborhood[j]\n",
    "            if neighbor not in freqMap: #add neighbor count to freqMap\n",
    "                freqMap[neighbor]=1 \n",
    "            else:\n",
    "                freqMap[neighbor]+=1\n",
    "    m = MaxMap(freqMap) #finding pattern with highest count\n",
    "    for key in freqMap:\n",
    "        if freqMap[key] == m:\n",
    "            patterns.append(key)\n",
    "    return patterns"
   ]
  },
  {
   "cell_type": "markdown",
   "metadata": {},
   "source": [
    "## Additional problems"
   ]
  },
  {
   "cell_type": "code",
   "execution_count": null,
   "metadata": {},
   "outputs": [],
   "source": [
    "def pattern_count_wo_overlap(text:str,pattern:str)->int:\n",
    "    count =0\n",
    "    i=0\n",
    "    while i<=len(text)-len(pattern):\n",
    "        if text[i:i+len(pattern)]==pattern: #if it matches pattern\n",
    "            count+=1\n",
    "            i=i+len(pattern)\n",
    "        else:\n",
    "            i+=1\n",
    "        \n",
    "    return count"
   ]
  }
 ],
 "metadata": {
  "kernelspec": {
   "display_name": "testpy3",
   "language": "python",
   "name": "python3"
  },
  "language_info": {
   "codemirror_mode": {
    "name": "ipython",
    "version": 3
   },
   "file_extension": ".py",
   "mimetype": "text/x-python",
   "name": "python",
   "nbconvert_exporter": "python",
   "pygments_lexer": "ipython3",
   "version": "3.9.10"
  }
 },
 "nbformat": 4,
 "nbformat_minor": 2
}
